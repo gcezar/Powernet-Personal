{
 "cells": [
  {
   "cell_type": "code",
   "execution_count": 1,
   "metadata": {},
   "outputs": [],
   "source": [
    "import datetime\n",
    "from xml.etree import ElementTree as ET\n",
    "import requests\n",
    "from requests.auth import HTTPDigestAuth\n",
    "import numpy as np\n",
    "import time\n",
    "import json"
   ]
  },
  {
   "cell_type": "code",
   "execution_count": 22,
   "metadata": {},
   "outputs": [],
   "source": [
    "class STDInterface():\n",
    "    \n",
    "    def __init__(self, url = 'https://test.suntechdrive.com', username = None, password = None, cookie = None):\n",
    "        # Initializing credentials\n",
    "        self.url = url\n",
    "        self.username = username\n",
    "        self.password = password\n",
    "        self.credentials = {'username':self.username, 'password':self.password}\n",
    "        self.cookie = cookie\n",
    "\n",
    "    \n",
    "    def login(self):\n",
    "        login_endpoint = '/api/login'\n",
    "        session = requests.Session()\n",
    "        resp = session.post(self.url+login_endpoint, data = self.credentials, verify=False) # Remove verify=False -> using this to bypass computer firewall\n",
    "        self.cookie = session.cookies.get_dict()\n",
    "        return self.cookie\n",
    "    \n",
    "    \n",
    "    def get_devices_status(self):\n",
    "        status_endpoint = '/api/device'\n",
    "        \n",
    "        try:\n",
    "            resp = requests.get(self.url+status_endpoint, cookies=self.cookie,verify=False) # Remove verify=False -> using this to bypass computer firewall\n",
    "            resp.raise_for_status()\n",
    "            \n",
    "        except requests.exceptions.HTTPError as err:\n",
    "            print(err)\n",
    "\n",
    "#         return resp.json()\n",
    "        return resp.text # Remove after STD fix it\n",
    "\n",
    "    \n",
    "    def get_single_device_status(self, dev_id):\n",
    "        status_endpoint = '/api/device/'\n",
    "        \n",
    "        try:\n",
    "            resp = requests.get(self.url+status_endpoint+dev_id, cookies=self.cookie,verify=False) # Remove verify=False -> using this to bypass computer firewall\n",
    "        except:\n",
    "            print(exc)\n",
    "\n",
    "        return resp.json()\n",
    "    \n",
    "    \n",
    "    def post_devices_command(self, dev_id, command = 'setpower', value = 'on'):\n",
    "        try:\n",
    "            resp = requests.post(self.url+'/api/command/'+dev_id+'?'+command+'='+value, cookies=self.cookie,verify=False) # Remove verify=False -> using this to bypass computer firewall\n",
    "        except:\n",
    "            print(exc)\n",
    "\n",
    "        return resp\n",
    "    \n",
    "    def post_devices_command_all(self, command = 'setpower', value = 'on'):\n",
    "        try:\n",
    "            resp = requests.post(self.url+'/api/command'+'?'+command+'='+value, cookies=self.cookie,verify=False) # Remove verify=False -> using this to bypass computer firewall\n",
    "        except:\n",
    "            print(exc)\n",
    "\n",
    "        return resp\n",
    "        \n",
    "        \n",
    "        \n",
    "    "
   ]
  },
  {
   "cell_type": "code",
   "execution_count": 18,
   "metadata": {},
   "outputs": [
    {
     "name": "stderr",
     "output_type": "stream",
     "text": [
      "/anaconda2/envs/venv_egauge/lib/python3.7/site-packages/urllib3/connectionpool.py:847: InsecureRequestWarning: Unverified HTTPS request is being made. Adding certificate verification is strongly advised. See: https://urllib3.readthedocs.io/en/latest/advanced-usage.html#ssl-warnings\n",
      "  InsecureRequestWarning)\n"
     ]
    },
    {
     "name": "stdout",
     "output_type": "stream",
     "text": [
      "{'serial_number': 697146, 'time': '2019-06-28T17:19:57Z', 'dcv': 389, 'dcc': 3.359999895095825, 'frq': 59, 'btp': 42, 'pvc': 4.360000133514404, 'pvv': 179, 'igtp': 39, 'a1': 0.019999999552965164, 'a2': 45.75, 'a3': 23.90999984741211, 'a4': 3.2200000286102295, 'total_power': 1307.0400390625, 'grid_power': 526.5999755859375, 'pv_power': 780.4400024414062, 'ambient_temp': 0}\n"
     ]
    },
    {
     "name": "stderr",
     "output_type": "stream",
     "text": [
      "/anaconda2/envs/venv_egauge/lib/python3.7/site-packages/urllib3/connectionpool.py:847: InsecureRequestWarning: Unverified HTTPS request is being made. Adding certificate verification is strongly advised. See: https://urllib3.readthedocs.io/en/latest/advanced-usage.html#ssl-warnings\n",
      "  InsecureRequestWarning)\n"
     ]
    }
   ],
   "source": [
    "cookie = STDInterface(username='supowernet@gmail.com', password='stanfords3l').login()\n",
    "# text = STDInterface(cookie=cookie).get_devices_status()\n",
    "text = STDInterface(cookie=cookie).get_single_device_status('697146')\n",
    "print(text)"
   ]
  },
  {
   "cell_type": "code",
   "execution_count": 20,
   "metadata": {},
   "outputs": [
    {
     "name": "stdout",
     "output_type": "stream",
     "text": [
      "https://test.suntechdrive.com/api/command/697151?setpower=on\n"
     ]
    },
    {
     "name": "stderr",
     "output_type": "stream",
     "text": [
      "/anaconda2/envs/venv_egauge/lib/python3.7/site-packages/urllib3/connectionpool.py:847: InsecureRequestWarning: Unverified HTTPS request is being made. Adding certificate verification is strongly advised. See: https://urllib3.readthedocs.io/en/latest/advanced-usage.html#ssl-warnings\n",
      "  InsecureRequestWarning)\n"
     ]
    },
    {
     "name": "stdout",
     "output_type": "stream",
     "text": [
      "<Response [200]>\n"
     ]
    }
   ],
   "source": [
    "dev_id = '697151'\n",
    "control = STDInterface(cookie=cookie).post_devices_command(dev_id, value='on')\n",
    "print(control)"
   ]
  },
  {
   "cell_type": "code",
   "execution_count": 5,
   "metadata": {},
   "outputs": [
    {
     "name": "stderr",
     "output_type": "stream",
     "text": [
      "/anaconda2/envs/venv_egauge/lib/python3.7/site-packages/urllib3/connectionpool.py:847: InsecureRequestWarning: Unverified HTTPS request is being made. Adding certificate verification is strongly advised. See: https://urllib3.readthedocs.io/en/latest/advanced-usage.html#ssl-warnings\n",
      "  InsecureRequestWarning)\n"
     ]
    },
    {
     "name": "stdout",
     "output_type": "stream",
     "text": [
      "[{\"serial_number\":697146,\"time\":\"2019-06-28T17:02:27Z\",\"dcv\":393,\"dcc\":3.569999933242798,\"frq\":60,\"btp\":41,\"pvc\":6.190000057220459,\"pvv\":177,\"igtp\":37,\"a1\":0.019999999552965164,\"a2\":45.86000061035156,\"a3\":23.3700008392334,\"a4\":3.2300000190734863,\"total_power\":1403.010009765625,\"grid_power\":307.3800048828125,\"pv_power\":1095.6300048828125,\"ambient_temp\":0},{\"serial_number\":766935,\"time\":\"2019-06-28T17:02:24Z\",\"dcv\":391,\"dcc\":3.3299999237060547,\"frq\":60,\"btp\":41,\"pvc\":5.889999866485596,\"pvv\":179,\"igtp\":38,\"a1\":0.019999999552965164,\"a2\":45.310001373291016,\"a3\":23,\"a4\":3.240000009536743,\"total_power\":1302.030029296875,\"grid_power\":247.72000122070312,\"pv_power\":1054.31005859375,\"ambient_temp\":0},{\"serial_number\":697151,\"time\":\"2019-06-28T17:02:32Z\",\"dcv\":388,\"dcc\":3.109999895095825,\"frq\":60,\"btp\":40,\"pvc\":6.739999771118164,\"pvv\":181,\"igtp\":37,\"a1\":0.019999999552965164,\"a2\":45.84000015258789,\"a3\":23.479999542236328,\"a4\":3.2300000190734863,\"total_power\":1206.6800537109375,\"grid_power\":0,\"pv_power\":1219.93994140625,\"ambient_temp\":0},{\"serial_number\":697157,\"time\":\"2019-06-28T17:02:17Z\",\"dcv\":393,\"dcc\":3.140000104904175,\"frq\":59,\"btp\":58,\"pvc\":5.789999961853027,\"pvv\":181,\"igtp\":39,\"a1\":0.019999999552965164,\"a2\":45.459999084472656,\"a3\":23.690000534057617,\"a4\":3.200000047683716,\"total_power\":1234.02001953125,\"grid_power\":186.02999877929688,\"pv_power\":1047.989990234375,\"ambient_temp\":0},{\"serial_number\":697145,\"time\":\"2019-06-28T17:02:20Z\",\"dcv\":390,\"dcc\":3.240000009536743,\"frq\":59,\"btp\":38,\"pvc\":6.849999904632568,\"pvv\":177,\"igtp\":39,\"a1\":0.019999999552965164,\"a2\":44.68000030517578,\"a3\":23.639999389648438,\"a4\":3.2300000190734863,\"total_power\":1263.5999755859375,\"grid_power\":51.150001525878906,\"pv_power\":1212.449951171875,\"ambient_temp\":0},{\"serial_number\":766929,\"time\":\"2019-06-28T17:02:21Z\",\"dcv\":392,\"dcc\":3.609999895095825,\"frq\":59,\"btp\":48,\"pvc\":5.929999828338623,\"pvv\":179,\"igtp\":39,\"a1\":0.019999999552965164,\"a2\":43.779998779296875,\"a3\":23.40999984741211,\"a4\":3.1500000953674316,\"total_power\":1415.1199951171875,\"grid_power\":353.6499938964844,\"pv_power\":1061.469970703125,\"ambient_temp\":0},{\"serial_number\":697147,\"time\":\"2019-06-28T17:02:22Z\",\"dcv\":389,\"dcc\":3.7200000286102295,\"frq\":60,\"btp\":36,\"pvc\":6.989999771118164,\"pvv\":177,\"igtp\":36,\"a1\":0.019999999552965164,\"a2\":43.36000061035156,\"a3\":23.15999984741211,\"a4\":3.2300000190734863,\"total_power\":1447.0799560546875,\"grid_power\":209.85000610351562,\"pv_power\":1237.22998046875,\"ambient_temp\":0},{\"serial_number\":697144,\"time\":\"2019-06-28T17:02:25Z\",\"dcv\":399,\"dcc\":3.609999895095825,\"frq\":60,\"btp\":28,\"pvc\":4.909999847412109,\"pvv\":194,\"igtp\":30,\"a1\":0.019999999552965164,\"a2\":45.380001068115234,\"a3\":22.190000534057617,\"a4\":3.2300000190734863,\"total_power\":1440.3900146484375,\"grid_power\":487.8500061035156,\"pv_power\":952.5399780273438,\"ambient_temp\":0},{\"serial_number\":766944,\"time\":\"2019-06-28T17:02:19Z\",\"dcv\":393,\"dcc\":3.7699999809265137,\"frq\":60,\"btp\":56,\"pvc\":6.010000228881836,\"pvv\":175,\"igtp\":36,\"a1\":0.019999999552965164,\"a2\":44.58000183105469,\"a3\":22.850000381469727,\"a4\":3.2300000190734863,\"total_power\":1481.6099853515625,\"grid_power\":429.8599853515625,\"pv_power\":1051.75,\"ambient_temp\":0},{\"serial_number\":697160,\"time\":\"2019-06-28T17:02:30Z\",\"dcv\":377,\"dcc\":3.299999952316284,\"frq\":60,\"btp\":38,\"pvc\":6.559999942779541,\"pvv\":179,\"igtp\":39,\"a1\":0.019999999552965164,\"a2\":43.77000045776367,\"a3\":23.950000762939453,\"a4\":3.240000009536743,\"total_power\":1244.0999755859375,\"grid_power\":69.86000061035156,\"pv_power\":1174.239990234375,\"ambient_temp\":0},{\"serial_number\":697149,\"time\":\"2019-06-28T17:02:24Z\",\"dcv\":392,\"dcc\":3.5,\"frq\":60,\"btp\":40,\"pvc\":7.03000020980835,\"pvv\":176,\"igtp\":37,\"a1\":0.019999999552965164,\"a2\":43.779998779296875,\"a3\":23.059999465942383,\"a4\":3.2300000190734863,\"total_power\":1372,\"grid_power\":134.72000122070312,\"pv_power\":1237.280029296875,\"ambient_temp\":0},{\"serial_number\":766940,\"time\":\"2019-06-28T17:02:22Z\",\"dcv\":388,\"dcc\":4.099999904632568,\"frq\":59,\"btp\":61,\"pvc\":6.239999771118164,\"pvv\":177,\"igtp\":39,\"a1\":0.019999999552965164,\"a2\":45.869998931884766,\"a3\":23.389999389648438,\"a4\":3.190000057220459,\"total_power\":1590.800048828125,\"grid_power\":486.32000732421875,\"pv_power\":1104.47998046875,\"ambient_temp\":0},{\"serial_number\":697156,\"time\":\"2019-06-28T17:02:25Z\",\"dcv\":391,\"dcc\":3.690000057220459,\"frq\":59,\"btp\":42,\"pvc\":6.650000095367432,\"pvv\":181,\"igtp\":37,\"a1\":0.019999999552965164,\"a2\":44.599998474121094,\"a3\":24.020000457763672,\"a4\":3.2200000286102295,\"total_power\":1442.7900390625,\"grid_power\":239.13999938964844,\"pv_power\":1203.6500244140625,\"ambient_temp\":0},{\"serial_number\":282322,\"time\":\"2019-06-28T17:02:44Z\",\"dcv\":0,\"dcc\":0,\"frq\":0,\"btp\":0,\"pvc\":0,\"pvv\":0,\"igtp\":0,\"a1\":543.0800170898438,\"a2\":0.11999999731779099,\"a3\":7.980000019073486,\"a4\":3.190000057220459,\"total_power\":0,\"grid_power\":0,\"pv_power\":0,\"ambient_temp\":0},{\"serial_number\":697153,\"time\":\"2019-06-28T17:02:26Z\",\"dcv\":385,\"dcc\":2.7699999809265137,\"frq\":60,\"btp\":62,\"pvc\":7.070000171661377,\"pvv\":175,\"igtp\":37,\"a1\":0.019999999552965164,\"a2\":45.34000015258789,\"a3\":22.850000381469727,\"a4\":3.2300000190734863,\"total_power\":1066.449951171875,\"grid_power\":0,\"pv_power\":1237.25,\"ambient_temp\":0},{\"serial_number\":766936,\"time\":\"2019-06-28T17:02:32Z\",\"dcv\":390,\"dcc\":3.359999895095825,\"frq\":60,\"btp\":45,\"pvc\":5.840000152587891,\"pvv\":178,\"igtp\":37,\"a1\":0.05000000074505806,\"a2\":45.84000015258789,\"a3\":23.81999969482422,\"a4\":3.200000047683716,\"total_power\":1310.4000244140625,\"grid_power\":270.8800048828125,\"pv_power\":1039.52001953125,\"ambient_temp\":0}]\n"
     ]
    },
    {
     "name": "stderr",
     "output_type": "stream",
     "text": [
      "/anaconda2/envs/venv_egauge/lib/python3.7/site-packages/urllib3/connectionpool.py:847: InsecureRequestWarning: Unverified HTTPS request is being made. Adding certificate verification is strongly advised. See: https://urllib3.readthedocs.io/en/latest/advanced-usage.html#ssl-warnings\n",
      "  InsecureRequestWarning)\n"
     ]
    }
   ],
   "source": [
    "cookie = STDInterface(username='supowernet@gmail.com', password='stanfords3l').login()\n",
    "text1 = STDInterface(cookie=cookie).get_devices_status()\n",
    "print(text1)"
   ]
  },
  {
   "cell_type": "code",
   "execution_count": 14,
   "metadata": {},
   "outputs": [
    {
     "name": "stdout",
     "output_type": "stream",
     "text": [
      "https://test.suntechdrive.com/api/setpower/1\n"
     ]
    },
    {
     "name": "stderr",
     "output_type": "stream",
     "text": [
      "/anaconda2/envs/venv_egauge/lib/python3.7/site-packages/urllib3/connectionpool.py:847: InsecureRequestWarning: Unverified HTTPS request is being made. Adding certificate verification is strongly advised. See: https://urllib3.readthedocs.io/en/latest/advanced-usage.html#ssl-warnings\n",
      "  InsecureRequestWarning)\n"
     ]
    },
    {
     "name": "stdout",
     "output_type": "stream",
     "text": [
      "<Response [404]>\n"
     ]
    }
   ],
   "source": [
    "dev_id = '1'\n",
    "control = STDInterface(cookie=cookie).post_devices_command(dev_id, value='off')\n",
    "print(control)"
   ]
  },
  {
   "cell_type": "code",
   "execution_count": 17,
   "metadata": {},
   "outputs": [
    {
     "data": {
      "text/plain": [
       "{'test.suntechdrive.com-user': 'MTU2MTc0MTM1MnxqcjRhOUstWTRieHRIVjR2SmktUk5uMF9GbnJ3ZXRQZ1RiNzV6eWZfN2hmb2pzRHFQcGtfSnlQWmRDQ1Fnc0RXcG4yUlQzWmJxNGVIQ283b2NUOHp82AyPCKUOQLVJvkOd8YoZhM_u6YJ4qP565L6UbLMykBo='}"
      ]
     },
     "execution_count": 17,
     "metadata": {},
     "output_type": "execute_result"
    }
   ],
   "source": [
    "dev_id = '697151'\n",
    "control = STDInterface(cookie=cookie).post_devices_command(dev_id, value='on')\n",
    "print(control)"
   ]
  },
  {
   "cell_type": "code",
   "execution_count": 25,
   "metadata": {},
   "outputs": [
    {
     "name": "stdout",
     "output_type": "stream",
     "text": [
      "dev_id:  697151\n"
     ]
    },
    {
     "name": "stderr",
     "output_type": "stream",
     "text": [
      "/anaconda2/envs/venv_egauge/lib/python3.7/site-packages/urllib3/connectionpool.py:847: InsecureRequestWarning: Unverified HTTPS request is being made. Adding certificate verification is strongly advised. See: https://urllib3.readthedocs.io/en/latest/advanced-usage.html#ssl-warnings\n",
      "  InsecureRequestWarning)\n"
     ]
    },
    {
     "name": "stdout",
     "output_type": "stream",
     "text": [
      "<Response [200]>\n",
      "dev_id:  766935\n"
     ]
    },
    {
     "name": "stderr",
     "output_type": "stream",
     "text": [
      "/anaconda2/envs/venv_egauge/lib/python3.7/site-packages/urllib3/connectionpool.py:847: InsecureRequestWarning: Unverified HTTPS request is being made. Adding certificate verification is strongly advised. See: https://urllib3.readthedocs.io/en/latest/advanced-usage.html#ssl-warnings\n",
      "  InsecureRequestWarning)\n"
     ]
    },
    {
     "name": "stdout",
     "output_type": "stream",
     "text": [
      "<Response [200]>\n",
      "dev_id:  697145\n"
     ]
    },
    {
     "name": "stderr",
     "output_type": "stream",
     "text": [
      "/anaconda2/envs/venv_egauge/lib/python3.7/site-packages/urllib3/connectionpool.py:847: InsecureRequestWarning: Unverified HTTPS request is being made. Adding certificate verification is strongly advised. See: https://urllib3.readthedocs.io/en/latest/advanced-usage.html#ssl-warnings\n",
      "  InsecureRequestWarning)\n"
     ]
    },
    {
     "name": "stdout",
     "output_type": "stream",
     "text": [
      "<Response [200]>\n",
      "dev_id:  766944\n"
     ]
    },
    {
     "name": "stderr",
     "output_type": "stream",
     "text": [
      "/anaconda2/envs/venv_egauge/lib/python3.7/site-packages/urllib3/connectionpool.py:847: InsecureRequestWarning: Unverified HTTPS request is being made. Adding certificate verification is strongly advised. See: https://urllib3.readthedocs.io/en/latest/advanced-usage.html#ssl-warnings\n",
      "  InsecureRequestWarning)\n"
     ]
    },
    {
     "name": "stdout",
     "output_type": "stream",
     "text": [
      "<Response [200]>\n",
      "dev_id:  697149\n"
     ]
    },
    {
     "name": "stderr",
     "output_type": "stream",
     "text": [
      "/anaconda2/envs/venv_egauge/lib/python3.7/site-packages/urllib3/connectionpool.py:847: InsecureRequestWarning: Unverified HTTPS request is being made. Adding certificate verification is strongly advised. See: https://urllib3.readthedocs.io/en/latest/advanced-usage.html#ssl-warnings\n",
      "  InsecureRequestWarning)\n"
     ]
    },
    {
     "name": "stdout",
     "output_type": "stream",
     "text": [
      "<Response [200]>\n",
      "dev_id:  766929\n"
     ]
    },
    {
     "name": "stderr",
     "output_type": "stream",
     "text": [
      "/anaconda2/envs/venv_egauge/lib/python3.7/site-packages/urllib3/connectionpool.py:847: InsecureRequestWarning: Unverified HTTPS request is being made. Adding certificate verification is strongly advised. See: https://urllib3.readthedocs.io/en/latest/advanced-usage.html#ssl-warnings\n",
      "  InsecureRequestWarning)\n"
     ]
    },
    {
     "name": "stdout",
     "output_type": "stream",
     "text": [
      "<Response [200]>\n",
      "dev_id:  697160\n"
     ]
    },
    {
     "name": "stderr",
     "output_type": "stream",
     "text": [
      "/anaconda2/envs/venv_egauge/lib/python3.7/site-packages/urllib3/connectionpool.py:847: InsecureRequestWarning: Unverified HTTPS request is being made. Adding certificate verification is strongly advised. See: https://urllib3.readthedocs.io/en/latest/advanced-usage.html#ssl-warnings\n",
      "  InsecureRequestWarning)\n"
     ]
    },
    {
     "name": "stdout",
     "output_type": "stream",
     "text": [
      "<Response [200]>\n"
     ]
    }
   ],
   "source": [
    "blenders_id = ['697151','766935','697145','766944','697149','766929','697160','697147','697156','766940','697153','697144','697146','766936','697157']\n",
    "value = 'off'\n",
    "idx = 0\n",
    "\n",
    "while idx<7:\n",
    "    dev_id = blenders_id[idx]\n",
    "    print('dev_id: ', dev_id)\n",
    "    control = STDInterface(cookie=cookie).post_devices_command(dev_id, value=value)\n",
    "    idx=idx+1\n",
    "\n",
    "# t_sleep = 180\n",
    "# print('Going to sleep for[s]... ', t_sleep)\n",
    "# time.sleep(t_sleep)\n",
    "\n",
    "\n",
    "# allOn = STDInterface(cookie=cookie).post_devices_command_all()\n",
    "# print(allOn)\n",
    "\n",
    "\n",
    "\n",
    "\n",
    "\n",
    "\n",
    "\n"
   ]
  },
  {
   "cell_type": "code",
   "execution_count": null,
   "metadata": {},
   "outputs": [],
   "source": [
    "allOn = STDInterface(cookie=cookie).post_devices_command_all()\n",
    "print(allOn)"
   ]
  }
 ],
 "metadata": {
  "kernelspec": {
   "display_name": "Python 3",
   "language": "python",
   "name": "python3"
  },
  "language_info": {
   "codemirror_mode": {
    "name": "ipython",
    "version": 3
   },
   "file_extension": ".py",
   "mimetype": "text/x-python",
   "name": "python",
   "nbconvert_exporter": "python",
   "pygments_lexer": "ipython3",
   "version": "3.7.1"
  }
 },
 "nbformat": 4,
 "nbformat_minor": 2
}
