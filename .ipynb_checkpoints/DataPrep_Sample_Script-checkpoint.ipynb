{
 "cells": [
  {
   "cell_type": "markdown",
   "metadata": {},
   "source": [
    "# Prepare Training Set for Control Study"
   ]
  },
  {
   "cell_type": "code",
   "execution_count": 60,
   "metadata": {},
   "outputs": [],
   "source": [
    "import pandas as pd\n",
    "import numpy as np\n",
    "import matplotlib.pyplot as plt\n",
    "import boto3\n",
    "import cvxpy as cvx\n",
    "s3 = boto3.resource('s3')"
   ]
  },
  {
   "cell_type": "markdown",
   "metadata": {},
   "source": [
    "### Load data"
   ]
  },
  {
   "cell_type": "code",
   "execution_count": 61,
   "metadata": {
    "scrolled": true
   },
   "outputs": [],
   "source": [
    "zip_county_lookup = pd.read_csv('s3://script.forecast.inputsoutputs/zip_county_lookup_cleaned.csv')\n",
    "zip_county_lookup['Zip Code'] = zip_county_lookup['Zip Code'].astype(int)"
   ]
  },
  {
   "cell_type": "code",
   "execution_count": 62,
   "metadata": {},
   "outputs": [
    {
     "name": "stdout",
     "output_type": "stream",
     "text": [
      "County options:  ['Alameda' 'Alpine' 'Amador' 'Butte' 'Calaveras' 'Colusa' 'Contra Costa'\n",
      " 'Del Norte' 'El Dorado' 'Fresno' 'Glenn' 'Humboldt' 'Imperial' 'Inyo'\n",
      " 'Kern' 'Kings' 'Lake' 'Lassen' 'Los Angeles' 'Madera' 'Marin' 'Mariposa'\n",
      " 'Mendocino' 'Merced' 'Modoc' 'Mono' 'Monterey' 'Napa' 'Nevada' 'Orange'\n",
      " 'Placer' 'Plumas' 'Riverside' 'Sacramento' 'San Benito' 'San Bernardino'\n",
      " 'San Diego' 'San Francisco' 'San Joaquin' 'San Luis Obispo' 'San Mateo'\n",
      " 'Santa Barbara' 'Santa Clara' 'Santa Cruz' 'Shasta' 'Sierra' 'Siskiyou'\n",
      " 'Solano' 'Sonoma' 'Stanislaus' 'Sutter' 'Tehama' 'Trinity' 'Tulare'\n",
      " 'Tuolumne' 'Ventura' 'Yolo' 'Yuba']\n"
     ]
    }
   ],
   "source": [
    "county_list = np.unique(zip_county_lookup['County'].values)\n",
    "print('County options: ', county_list)"
   ]
  },
  {
   "cell_type": "markdown",
   "metadata": {},
   "source": [
    "# Implement once as Example"
   ]
  },
  {
   "cell_type": "code",
   "execution_count": 26,
   "metadata": {},
   "outputs": [],
   "source": [
    "county = 'Santa Clara'\n",
    "# tip: only choose bay area counties"
   ]
  },
  {
   "cell_type": "code",
   "execution_count": 27,
   "metadata": {
    "scrolled": true
   },
   "outputs": [],
   "source": [
    "# Which files in this county do we have to pick from\n",
    "bucket = s3.Bucket('script.chargepoint.data')\n",
    "zip_options = zip_county_lookup[zip_county_lookup['County']==county]['Zip Code'].values\n",
    "file_options = []\n",
    "\n",
    "for zipcode in zip_options:\n",
    "    file_name = 'clean/Reduced/By_ZipCode/evsezip'+str(zipcode)+'_sessions.csv'\n",
    "    # check if have data for this zip\n",
    "    have_data = False\n",
    "    objs = list(bucket.objects.filter(Prefix=file_name))\n",
    "    if len(objs) > 0 and objs[0].key == file_name:\n",
    "        file_options.append(file_name)"
   ]
  },
  {
   "cell_type": "code",
   "execution_count": 28,
   "metadata": {},
   "outputs": [
    {
     "name": "stdout",
     "output_type": "stream",
     "text": [
      "Have  49  zips in this county to pull from\n"
     ]
    }
   ],
   "source": [
    "print('Have ', len(file_options), ' zips in this county to pull from')"
   ]
  },
  {
   "cell_type": "code",
   "execution_count": 29,
   "metadata": {},
   "outputs": [
    {
     "data": {
      "text/plain": [
       "'clean/Reduced/By_ZipCode/evsezip95054_sessions.csv'"
      ]
     },
     "execution_count": 29,
     "metadata": {},
     "output_type": "execute_result"
    }
   ],
   "source": [
    "zipcode_file = np.random.choice(file_options)\n",
    "zipcode_file"
   ]
  },
  {
   "cell_type": "code",
   "execution_count": 30,
   "metadata": {},
   "outputs": [],
   "source": [
    "df = pd.read_csv('s3://script.chargepoint.data/'+zipcode_file)\n",
    "df = df[df['POI Category']=='Workplace'].reset_index(drop=True)\n",
    "df = df[df['Max Power']<=10].reset_index(drop=True) # Not fast charging"
   ]
  },
  {
   "cell_type": "code",
   "execution_count": 31,
   "metadata": {
    "scrolled": true
   },
   "outputs": [],
   "source": [
    "df_intervals = pd.read_csv('s3://script.chargepoint.data/'+zipcode_file[:37]+'_intervals.csv')"
   ]
  },
  {
   "cell_type": "markdown",
   "metadata": {},
   "source": [
    "## Select Sessions and build Uncontrolled Load"
   ]
  },
  {
   "cell_type": "code",
   "execution_count": 32,
   "metadata": {},
   "outputs": [],
   "source": [
    "num_sessions = 10\n",
    "chosen_sessions = np.random.choice(df.index, num_sessions)"
   ]
  },
  {
   "cell_type": "code",
   "execution_count": 33,
   "metadata": {},
   "outputs": [],
   "source": [
    "charge_rate = 6.6"
   ]
  },
  {
   "cell_type": "code",
   "execution_count": 34,
   "metadata": {},
   "outputs": [],
   "source": [
    "power = np.zeros((96, num_sessions))\n",
    "arrival_inds = np.zeros((num_sessions, ))\n",
    "departure_inds = np.zeros((num_sessions, ))\n",
    "for session_num in range(num_sessions):\n",
    "    session = df.loc[chosen_sessions[session_num], 'Session ID']\n",
    "    interval_data = df_intervals[df_intervals['Session ID']==session]\n",
    "    for i in interval_data.index:\n",
    "        hour = int(interval_data.loc[i, 'Interval Start Time (Local)'][11:13])\n",
    "        minute = int(interval_data.loc[i, 'Interval Start Time (Local)'][14:16])\n",
    "        timestep_96 = hour*4 + int(minute/15)\n",
    "        power[timestep_96, session_num] = float(interval_data.loc[i, 'Average Power'])\n",
    "    if power[0, session_num] == 0:\n",
    "        if len(np.where(power[:, session_num] > 0)[0]) > 0:\n",
    "            arrival_inds[session_num] = np.where(power[:, session_num] > 0)[0][0]\n",
    "            if np.where(power[:, session_num] > 0)[0][-1] + 1 < 96:\n",
    "                departure_inds[session_num] = np.where(power[:, session_num] > 0)[0][-1] + 1\n",
    "            else: \n",
    "                departure_inds[session_num] = 0\n",
    "    else:\n",
    "        if len(np.where(power[:, session_num] == 0)[0]) > 0:\n",
    "            arrival_inds[session_num] = np.max(np.where(power[:, session_num] == 0)[0]) + 1\n",
    "            if arrival_inds[session_num] == 96:\n",
    "                arrival_inds[session_num] = 0\n",
    "            departure_inds[session_num] = np.min(np.where(power[:, session_num] == 0)[0])\n",
    "energies = 0.25*charge_rate*np.sum(power, axis=0)"
   ]
  },
  {
   "cell_type": "code",
   "execution_count": 35,
   "metadata": {},
   "outputs": [
    {
     "data": {
      "image/png": "[encoded data removed]",
      "text/plain": [
       "<Figure size 432x288 with 1 Axes>"
      ]
     },
     "metadata": {
      "needs_background": "light"
     },
     "output_type": "display_data"
    }
   ],
   "source": [
    "plt.figure()\n",
    "plt.plot(0.25*np.arange(0, 96), np.sum(power, axis=1))\n",
    "plt.xlabel('Hour')\n",
    "plt.xlim([0, 24])\n",
    "plt.ylabel('kW')\n",
    "plt.title('Uncontrolled Load')\n",
    "plt.show()"
   ]
  },
  {
   "cell_type": "markdown",
   "metadata": {},
   "source": [
    "## Control"
   ]
  },
  {
   "cell_type": "markdown",
   "metadata": {},
   "source": [
    "E-19 structure from https://www.pge.com/tariffs/assets/pdf/tariffbook/ELEC_SCHEDS_E-19.pdf, taking summer case, secondary voltage, only the variable parts of the rate schedule\n",
    "\n",
    "Peak is noon to 6pm, partpeak is 8:30am to noon and 6pm to 9:30pm, offpeak otherwise.\n"
   ]
  },
  {
   "cell_type": "code",
   "execution_count": 36,
   "metadata": {},
   "outputs": [],
   "source": [
    "rate_energy_peak = 0.16997\n",
    "rate_energy_partpeak = 0.12236\n",
    "rate_energy_offpeak = 0.09082\n",
    "rate_demand_peak = 21.23\n",
    "rate_demand_partpeak = 5.85\n",
    "rate_demand_overall = 19.10"
   ]
  },
  {
   "cell_type": "code",
   "execution_count": 37,
   "metadata": {},
   "outputs": [],
   "source": [
    "energy_prices = np.concatenate((np.repeat(rate_energy_offpeak, int(8.5*4)), np.repeat(rate_energy_partpeak, int(3.5*4)), \n",
    "                np.repeat(rate_energy_peak, int(6*4)), np.repeat(rate_energy_partpeak, int(3.5*4)), \n",
    "                np.repeat(rate_energy_offpeak, int(2.5*4))))"
   ]
  },
  {
   "cell_type": "code",
   "execution_count": 38,
   "metadata": {},
   "outputs": [],
   "source": [
    "peak_inds = np.arange(int(12*4), int(18*4))\n",
    "partpeak_inds = np.concatenate((np.arange(int(8.5*4), int(12*4)), np.arange(int(18*4), int(21.5*4))))\n",
    "offpeak_inds = np.concatenate((np.arange(0, int(8.5*4)), np.arange(int(21.5*4), int(24*4))))"
   ]
  },
  {
   "cell_type": "markdown",
   "metadata": {},
   "source": [
    "Optimization problem"
   ]
  },
  {
   "cell_type": "code",
   "execution_count": 39,
   "metadata": {},
   "outputs": [
    {
     "name": "stdout",
     "output_type": "stream",
     "text": [
      "Energy violation for  0  of the sessions.\n"
     ]
    }
   ],
   "source": [
    "schedule = cvx.Variable((96, num_sessions))\n",
    "obj = cvx.matmul(cvx.sum(schedule, axis=1),  energy_prices.reshape((np.shape(energy_prices)[0], 1)))\n",
    "obj += rate_demand_overall*cvx.max(cvx.sum(schedule, axis=1))\n",
    "obj += rate_demand_peak*cvx.max(cvx.sum(schedule[peak_inds, :], axis=1))\n",
    "obj += rate_demand_partpeak*cvx.max(cvx.sum(schedule[partpeak_inds, :], axis=1))\n",
    "\n",
    "constraints = [schedule >= 0]\n",
    "for i in range(num_sessions):\n",
    "    constraints += [schedule[:, i] <= np.maximum(np.max(power[:, i]), charge_rate)]\n",
    "    if departure_inds[i] >= arrival_inds[i]:\n",
    "        if arrival_inds[i] > 0:\n",
    "            constraints += [schedule[np.arange(0, int(arrival_inds[i])), i] <= 0]\n",
    "        if departure_inds[i] < 96:\n",
    "            constraints += [schedule[np.arange(int(departure_inds[i]), 96), i] <= 0]\n",
    "    else:\n",
    "        constraints += [schedule[np.arange(int(departure_inds[i]), int(arrival_inds[i])), i] <= 0]\n",
    "\n",
    "energies = 0.25*np.sum(power, axis=0)\n",
    "max_energies = np.zeros((num_sessions, ))\n",
    "for i in range(num_sessions):\n",
    "    if departure_inds[i] >= arrival_inds[i]:\n",
    "        max_energies[i] = 0.25*charge_rate*(departure_inds[i]-arrival_inds[i])\n",
    "    else:\n",
    "        max_energies[i] = 0.25*charge_rate*((departure_inds[i])+(96-arrival_inds[i]))\n",
    "where_violation = np.where((max_energies-energies)<0)[0]\n",
    "print('Energy violation for ',len(where_violation),' of the sessions.')\n",
    "energies[where_violation] = max_energies[where_violation]\n",
    "constraints += [0.25*cvx.sum(schedule, axis=0)==energies]"
   ]
  },
  {
   "cell_type": "code",
   "execution_count": 40,
   "metadata": {},
   "outputs": [],
   "source": [
    "prob = cvx.Problem(cvx.Minimize(obj), constraints)\n",
    "result = prob.solve(cvx.MOSEK)"
   ]
  },
  {
   "cell_type": "code",
   "execution_count": 41,
   "metadata": {
    "scrolled": true
   },
   "outputs": [
    {
     "data": {
      "text/plain": [
       "681.5586660333881"
      ]
     },
     "execution_count": 41,
     "metadata": {},
     "output_type": "execute_result"
    }
   ],
   "source": [
    "result"
   ]
  },
  {
   "cell_type": "code",
   "execution_count": 42,
   "metadata": {},
   "outputs": [
    {
     "data": {
      "image/png": "[encoded data removed]",
      "text/plain": [
       "<Figure size 432x288 with 1 Axes>"
      ]
     },
     "metadata": {
      "needs_background": "light"
     },
     "output_type": "display_data"
    }
   ],
   "source": [
    "plt.figure()\n",
    "plt.plot(0.25*np.arange(0, 96), np.sum(power, axis=1), color='C0')\n",
    "plt.plot(0.25*np.arange(0, 96), np.sum(schedule.value, axis=1), color='C1')\n",
    "plt.plot([0.25*np.min(peak_inds), 0.25*np.min(peak_inds)], [0, 1.1*np.max(np.sum(power, axis=1))], '--', color='C2')\n",
    "plt.plot([0.25*np.max(peak_inds), 0.25*np.max(peak_inds)], [0, 1.1*np.max(np.sum(power, axis=1))], '--', color='C2')\n",
    "plt.plot([0.25*np.min(partpeak_inds), 0.25*np.min(partpeak_inds)], [0, 1.1*np.max(np.sum(power, axis=1))], '--', color='C3')\n",
    "plt.plot([0.25*np.max(partpeak_inds), 0.25*np.max(partpeak_inds)], [0, 1.1*np.max(np.sum(power, axis=1))], '--', color='C3')\n",
    "plt.xlabel('Hour')\n",
    "plt.xlim([0, 24])\n",
    "plt.ylim([0, 1.1*np.max(np.sum(power, axis=1))])\n",
    "plt.ylabel('kW')\n",
    "plt.title('Uncontrolled Load')\n",
    "plt.legend(labels=['Uncontrolled', 'Controlled'])\n",
    "plt.show()"
   ]
  },
  {
   "cell_type": "markdown",
   "metadata": {},
   "source": [
    "# Generate multiple profiles"
   ]
  },
  {
   "cell_type": "code",
   "execution_count": 43,
   "metadata": {},
   "outputs": [],
   "source": [
    "def new_df_and_sessions(county, num_sessions):\n",
    "    \n",
    "    bucket = s3.Bucket('script.chargepoint.data')\n",
    "    zip_options = zip_county_lookup[zip_county_lookup['County']==county]['Zip Code'].values\n",
    "    file_options = []\n",
    "\n",
    "    for zipcode in zip_options:\n",
    "        file_name = 'clean/Reduced/By_ZipCode/evsezip'+str(zipcode)+'_sessions.csv'\n",
    "        # check if have data for this zip\n",
    "        have_data = False\n",
    "        objs = list(bucket.objects.filter(Prefix=file_name))\n",
    "        if len(objs) > 0 and objs[0].key == file_name:\n",
    "            file_options.append(file_name)\n",
    "\n",
    "    ct = 0\n",
    "    len_df = 0\n",
    "    while ((len_df==0) & (ct < len(file_options))):\n",
    "        zipcode_file = np.random.choice(file_options)\n",
    "        df = pd.read_csv('s3://script.chargepoint.data/'+zipcode_file)\n",
    "        df = df[df['POI Category']=='Workplace'].reset_index(drop=True)\n",
    "        df = df[df['Max Power']<=10].reset_index(drop=True) # Not fast charging\n",
    "        len_df = len(df)\n",
    "        ct += 1\n",
    "    \n",
    "    df_intervals = pd.read_csv('s3://script.chargepoint.data/'+zipcode_file[:37]+'_intervals.csv')\n",
    "    \n",
    "    chosen_sessions = np.random.choice(df.index, num_sessions)\n",
    "    \n",
    "    return df, df_intervals, chosen_sessions"
   ]
  },
  {
   "cell_type": "code",
   "execution_count": 44,
   "metadata": {},
   "outputs": [],
   "source": [
    "def uncontrolled_load(num_sessions, chosen_sessions, df, df_intervals, charge_rate):\n",
    "    \n",
    "    power = np.zeros((96, num_sessions))\n",
    "    arrival_inds = np.zeros((num_sessions, ))\n",
    "    departure_inds = np.zeros((num_sessions, ))\n",
    "    for session_num in range(num_sessions):\n",
    "        session = df.loc[chosen_sessions[session_num], 'Session ID']\n",
    "        interval_data = df_intervals[df_intervals['Session ID']==session]\n",
    "        for i in interval_data.index:\n",
    "            hour = int(interval_data.loc[i, 'Interval Start Time (Local)'][11:13])\n",
    "            minute = int(interval_data.loc[i, 'Interval Start Time (Local)'][14:16])\n",
    "            timestep_96 = hour*4 + int(minute/15)\n",
    "            power[timestep_96, session_num] = float(interval_data.loc[i, 'Average Power'])\n",
    "        if power[0, session_num] == 0:\n",
    "            if len(np.where(power[:, session_num] > 0)[0]) > 0:\n",
    "                arrival_inds[session_num] = np.where(power[:, session_num] > 0)[0][0]\n",
    "                if np.where(power[:, session_num] > 0)[0][-1] + 1 < 96:\n",
    "                    departure_inds[session_num] = np.where(power[:, session_num] > 0)[0][-1] + 1\n",
    "                else: \n",
    "                    departure_inds[session_num] = 0\n",
    "        else:\n",
    "            if len(np.where(power[:, session_num] == 0)[0]) > 0:\n",
    "                arrival_inds[session_num] = np.max(np.where(power[:, session_num] == 0)[0]) + 1\n",
    "                if arrival_inds[session_num] == 96:\n",
    "                    arrival_inds[session_num] = 0\n",
    "                departure_inds[session_num] = np.min(np.where(power[:, session_num] == 0)[0])\n",
    "    energies = 0.25*np.sum(power, axis=0)\n",
    "    \n",
    "    return power, arrival_inds, departure_inds, energies"
   ]
  },
  {
   "cell_type": "code",
   "execution_count": 45,
   "metadata": {},
   "outputs": [],
   "source": [
    "def controlled_load(num_sessions, charge_rate, arrival_inds, departure_inds, power, energies, energy_prices, \n",
    "                    rate_demand_peak, rate_demand_partpeak, rate_demand_overall, peak_inds, partpeak_inds):\n",
    "\n",
    "    schedule = cvx.Variable((96, num_sessions))\n",
    "    obj = cvx.matmul(cvx.sum(schedule, axis=1),  energy_prices.reshape((np.shape(energy_prices)[0], 1)))\n",
    "    obj += rate_demand_overall*cvx.max(cvx.sum(schedule, axis=1))\n",
    "    obj += rate_demand_overall*cvx.max(cvx.sum(schedule, axis=1))\n",
    "    obj += rate_demand_peak*cvx.max(cvx.sum(schedule[peak_inds, :], axis=1))\n",
    "    obj += rate_demand_partpeak*cvx.max(cvx.sum(schedule[partpeak_inds, :], axis=1))\n",
    "\n",
    "    constraints = [schedule >= 0]\n",
    "    for i in range(num_sessions):\n",
    "        #if violation on session i:\n",
    "        #    constraints += [schedule[:, i] <= 0]\n",
    "        #else:\n",
    "            constraints += [schedule[:, i] <= np.maximum(np.max(power[:, i]), charge_rate)]\n",
    "            if departure_inds[i] >= arrival_inds[i]:\n",
    "                if arrival_inds[i] > 0:\n",
    "                    constraints += [schedule[np.arange(0, int(arrival_inds[i])), i] <= 0]\n",
    "                if departure_inds[i] < 96:\n",
    "                    constraints += [schedule[np.arange(int(departure_inds[i]), 96), i] <= 0]\n",
    "            else:\n",
    "                constraints += [schedule[np.arange(int(departure_inds[i]), int(arrival_inds[i])), i] <= 0]\n",
    "    \n",
    "    energies = 0.25*np.sum(power, axis=0)\n",
    "    max_energies = np.zeros((num_sessions, ))\n",
    "    for i in range(num_sessions):\n",
    "        if departure_inds[i] >= arrival_inds[i]:\n",
    "            max_energies[i] = 0.25*charge_rate*(departure_inds[i]-arrival_inds[i])\n",
    "        else:\n",
    "            max_energies[i] = 0.25*charge_rate*((departure_inds[i])+(96-arrival_inds[i]))\n",
    "    where_violation = np.where((max_energies-energies)<0)[0]\n",
    "    #print('Energy violation for ',len(where_violation),' of the sessions.')\n",
    "    energies[where_violation] = max_energies[where_violation]\n",
    "    constraints += [0.25*cvx.sum(schedule, axis=0)==energies]\n",
    "    \n",
    "    prob = cvx.Problem(cvx.Minimize(obj), constraints)\n",
    "    result = prob.solve(solver=cvx.MOSEK)\n",
    "    #print('The objective result: ', result)\n",
    "    \n",
    "    return schedule.value, power, len(where_violation)"
   ]
  },
  {
   "cell_type": "code",
   "execution_count": 46,
   "metadata": {},
   "outputs": [
    {
     "data": {
      "text/plain": [
       "[<matplotlib.lines.Line2D at 0x1281b51d0>]"
      ]
     },
     "execution_count": 46,
     "metadata": {},
     "output_type": "execute_result"
    },
    {
     "data": {
      "image/png": "[encoded data removed]",
      "text/plain": [
       "<Figure size 432x288 with 1 Axes>"
      ]
     },
     "metadata": {
      "needs_background": "light"
     },
     "output_type": "display_data"
    }
   ],
   "source": [
    "plt.plot(0.25*np.arange(0, 96), power[:, 0])"
   ]
  },
  {
   "cell_type": "code",
   "execution_count": null,
   "metadata": {},
   "outputs": [],
   "source": [
    "# saved_broken = chosen_sessions"
   ]
  },
  {
   "cell_type": "code",
   "execution_count": 68,
   "metadata": {
    "scrolled": true
   },
   "outputs": [
    {
     "name": "stdout",
     "output_type": "stream",
     "text": [
      "On run:  0\n"
     ]
    },
    {
     "name": "stderr",
     "output_type": "stream",
     "text": [
      "/Users/elpiniki/miniconda3/envs/pvprofiler/lib/python3.7/site-packages/IPython/core/interactiveshell.py:3214: DtypeWarning: Columns (14) have mixed types. Specify dtype option on import or set low_memory=False.\n",
      "  if (yield from self.run_code(code, result)):\n"
     ]
    },
    {
     "name": "stdout",
     "output_type": "stream",
     "text": [
      "On run:  1\n",
      "On run:  2\n",
      "On run:  3\n",
      "On run:  4\n",
      "On run:  5\n",
      "On run:  6\n",
      "On run:  7\n",
      "On run:  8\n",
      "On run:  9\n",
      "On run:  10\n",
      "On run:  11\n",
      "On run:  12\n",
      "On run:  13\n",
      "On run:  14\n",
      "On run:  15\n",
      "On run:  16\n",
      "On run:  17\n",
      "On run:  18\n",
      "On run:  19\n",
      "On run:  20\n",
      "On run:  21\n",
      "On run:  22\n",
      "On run:  23\n",
      "On run:  24\n",
      "On run:  25\n",
      "On run:  26\n",
      "On run:  27\n",
      "On run:  28\n",
      "On run:  29\n",
      "On run:  30\n",
      "On run:  31\n",
      "On run:  32\n",
      "On run:  33\n",
      "On run:  34\n",
      "On run:  35\n",
      "On run:  36\n",
      "On run:  37\n",
      "On run:  38\n",
      "On run:  39\n",
      "On run:  40\n",
      "On run:  41\n",
      "On run:  42\n",
      "On run:  43\n",
      "On run:  44\n",
      "On run:  45\n",
      "On run:  46\n",
      "On run:  47\n",
      "On run:  48\n",
      "On run:  49\n",
      "On run:  50\n",
      "On run:  51\n",
      "On run:  52\n",
      "On run:  53\n",
      "On run:  54\n",
      "On run:  55\n",
      "On run:  56\n",
      "On run:  57\n",
      "On run:  58\n",
      "On run:  59\n",
      "On run:  60\n",
      "On run:  61\n",
      "On run:  62\n",
      "On run:  63\n",
      "On run:  64\n",
      "On run:  65\n",
      "On run:  66\n",
      "On run:  67\n",
      "On run:  68\n",
      "On run:  69\n",
      "On run:  70\n",
      "On run:  71\n",
      "On run:  72\n",
      "On run:  73\n",
      "On run:  74\n",
      "On run:  75\n",
      "On run:  76\n",
      "On run:  77\n",
      "On run:  78\n",
      "On run:  79\n",
      "On run:  80\n",
      "On run:  81\n",
      "On run:  82\n",
      "On run:  83\n",
      "On run:  84\n",
      "On run:  85\n",
      "On run:  86\n",
      "On run:  87\n",
      "On run:  88\n",
      "On run:  89\n",
      "On run:  90\n",
      "On run:  91\n",
      "On run:  92\n",
      "On run:  93\n",
      "On run:  94\n",
      "On run:  95\n",
      "On run:  96\n",
      "On run:  97\n",
      "On run:  98\n",
      "On run:  99\n",
      "On run:  100\n",
      "On run:  101\n",
      "On run:  102\n",
      "On run:  103\n",
      "On run:  104\n",
      "On run:  105\n",
      "On run:  106\n",
      "On run:  107\n",
      "On run:  108\n",
      "On run:  109\n",
      "On run:  110\n",
      "On run:  111\n",
      "On run:  112\n",
      "On run:  113\n",
      "On run:  114\n",
      "On run:  115\n",
      "On run:  116\n",
      "On run:  117\n",
      "On run:  118\n",
      "On run:  119\n",
      "On run:  120\n",
      "On run:  121\n",
      "On run:  122\n",
      "On run:  123\n",
      "On run:  124\n",
      "On run:  125\n",
      "On run:  126\n",
      "On run:  127\n",
      "On run:  128\n",
      "On run:  129\n",
      "On run:  130\n",
      "On run:  131\n",
      "On run:  132\n",
      "On run:  133\n",
      "On run:  134\n",
      "On run:  135\n",
      "On run:  136\n",
      "On run:  137\n",
      "On run:  138\n",
      "On run:  139\n",
      "On run:  140\n",
      "On run:  141\n",
      "On run:  142\n",
      "On run:  143\n",
      "On run:  144\n",
      "On run:  145\n",
      "On run:  146\n",
      "On run:  147\n",
      "On run:  148\n",
      "On run:  149\n",
      "On run:  150\n",
      "On run:  151\n",
      "On run:  152\n",
      "On run:  153\n",
      "On run:  154\n",
      "On run:  155\n",
      "On run:  156\n",
      "On run:  157\n",
      "On run:  158\n",
      "On run:  159\n",
      "On run:  160\n",
      "On run:  161\n",
      "On run:  162\n",
      "On run:  163\n",
      "On run:  164\n",
      "On run:  165\n",
      "On run:  166\n",
      "On run:  167\n",
      "On run:  168\n",
      "On run:  169\n",
      "On run:  170\n",
      "On run:  171\n",
      "On run:  172\n",
      "On run:  173\n",
      "On run:  174\n",
      "On run:  175\n",
      "On run:  176\n",
      "On run:  177\n",
      "On run:  178\n",
      "On run:  179\n",
      "On run:  180\n",
      "On run:  181\n",
      "On run:  182\n",
      "On run:  183\n",
      "On run:  184\n",
      "On run:  185\n",
      "On run:  186\n",
      "On run:  187\n",
      "On run:  188\n",
      "On run:  189\n",
      "On run:  190\n",
      "On run:  191\n",
      "On run:  192\n",
      "On run:  193\n",
      "On run:  194\n",
      "On run:  195\n",
      "On run:  196\n",
      "On run:  197\n",
      "On run:  198\n",
      "On run:  199\n",
      "On run:  200\n",
      "On run:  201\n",
      "On run:  202\n",
      "On run:  203\n",
      "On run:  204\n",
      "On run:  205\n",
      "On run:  206\n",
      "On run:  207\n",
      "On run:  208\n",
      "On run:  209\n",
      "On run:  210\n",
      "On run:  211\n",
      "On run:  212\n",
      "On run:  213\n",
      "On run:  214\n",
      "On run:  215\n",
      "On run:  216\n",
      "On run:  217\n",
      "On run:  218\n",
      "On run:  219\n",
      "On run:  220\n",
      "On run:  221\n",
      "On run:  222\n",
      "On run:  223\n",
      "On run:  224\n",
      "On run:  225\n",
      "On run:  226\n",
      "On run:  227\n",
      "On run:  228\n",
      "On run:  229\n",
      "On run:  230\n",
      "On run:  231\n",
      "On run:  232\n",
      "On run:  233\n",
      "On run:  234\n",
      "On run:  235\n",
      "On run:  236\n",
      "On run:  237\n",
      "On run:  238\n",
      "On run:  239\n",
      "On run:  240\n",
      "On run:  241\n",
      "On run:  242\n",
      "On run:  243\n",
      "On run:  244\n",
      "On run:  245\n",
      "On run:  246\n",
      "On run:  247\n",
      "On run:  248\n",
      "On run:  249\n",
      "On run:  250\n",
      "On run:  251\n",
      "On run:  252\n",
      "On run:  253\n",
      "On run:  254\n",
      "On run:  255\n",
      "On run:  256\n",
      "On run:  257\n",
      "On run:  258\n",
      "On run:  259\n",
      "On run:  260\n",
      "On run:  261\n",
      "On run:  262\n",
      "On run:  263\n",
      "On run:  264\n",
      "On run:  265\n",
      "On run:  266\n",
      "On run:  267\n",
      "On run:  268\n",
      "On run:  269\n",
      "On run:  270\n",
      "On run:  271\n",
      "On run:  272\n",
      "On run:  273\n",
      "On run:  274\n",
      "On run:  275\n",
      "On run:  276\n",
      "On run:  277\n",
      "On run:  278\n",
      "On run:  279\n",
      "On run:  280\n",
      "On run:  281\n",
      "On run:  282\n",
      "On run:  283\n",
      "On run:  284\n",
      "On run:  285\n",
      "On run:  286\n",
      "On run:  287\n",
      "On run:  288\n",
      "On run:  289\n",
      "On run:  290\n",
      "On run:  291\n",
      "On run:  292\n",
      "On run:  293\n",
      "On run:  294\n",
      "On run:  295\n",
      "On run:  296\n",
      "On run:  297\n",
      "On run:  298\n",
      "On run:  299\n",
      "On run:  300\n",
      "On run:  301\n",
      "On run:  302\n",
      "On run:  303\n",
      "On run:  304\n",
      "On run:  305\n",
      "On run:  306\n",
      "On run:  307\n",
      "On run:  308\n",
      "On run:  309\n",
      "On run:  310\n",
      "On run:  311\n",
      "On run:  312\n",
      "On run:  313\n",
      "On run:  314\n",
      "On run:  315\n",
      "On run:  316\n",
      "On run:  317\n",
      "On run:  318\n",
      "On run:  319\n",
      "On run:  320\n",
      "On run:  321\n",
      "On run:  322\n",
      "On run:  323\n",
      "On run:  324\n",
      "On run:  325\n",
      "On run:  326\n",
      "On run:  327\n",
      "On run:  328\n",
      "On run:  329\n",
      "On run:  330\n",
      "On run:  331\n",
      "On run:  332\n",
      "On run:  333\n",
      "On run:  334\n",
      "On run:  335\n",
      "On run:  336\n",
      "On run:  337\n",
      "On run:  338\n",
      "On run:  339\n",
      "On run:  340\n",
      "On run:  341\n",
      "On run:  342\n",
      "On run:  343\n",
      "On run:  344\n",
      "On run:  345\n",
      "On run:  346\n",
      "On run:  347\n",
      "On run:  348\n",
      "On run:  349\n",
      "On run:  350\n",
      "On run:  351\n",
      "On run:  352\n",
      "On run:  353\n",
      "On run:  354\n",
      "On run:  355\n",
      "On run:  356\n",
      "On run:  357\n",
      "On run:  358\n",
      "On run:  359\n",
      "On run:  360\n",
      "On run:  361\n",
      "On run:  362\n",
      "On run:  363\n",
      "On run:  364\n",
      "On run:  365\n",
      "On run:  366\n",
      "On run:  367\n",
      "On run:  368\n",
      "On run:  369\n",
      "On run:  370\n",
      "On run:  371\n",
      "On run:  372\n",
      "On run:  373\n",
      "On run:  374\n",
      "On run:  375\n",
      "On run:  376\n",
      "On run:  377\n",
      "On run:  378\n",
      "On run:  379\n",
      "On run:  380\n",
      "On run:  381\n",
      "On run:  382\n",
      "On run:  383\n",
      "On run:  384\n",
      "On run:  385\n",
      "On run:  386\n",
      "On run:  387\n",
      "On run:  388\n",
      "On run:  389\n",
      "On run:  390\n",
      "On run:  391\n",
      "On run:  392\n",
      "On run:  393\n",
      "On run:  394\n",
      "On run:  395\n",
      "On run:  396\n",
      "On run:  397\n",
      "On run:  398\n",
      "On run:  399\n",
      "On run:  400\n",
      "On run:  401\n",
      "On run:  402\n",
      "On run:  403\n",
      "On run:  404\n",
      "On run:  405\n",
      "On run:  406\n",
      "On run:  407\n",
      "On run:  408\n",
      "On run:  409\n",
      "On run:  410\n",
      "On run:  411\n",
      "On run:  412\n",
      "On run:  413\n",
      "On run:  414\n",
      "On run:  415\n",
      "On run:  416\n",
      "On run:  417\n",
      "On run:  418\n",
      "On run:  419\n",
      "On run:  420\n",
      "On run:  421\n",
      "On run:  422\n",
      "On run:  423\n",
      "On run:  424\n",
      "On run:  425\n",
      "On run:  426\n",
      "On run:  427\n",
      "On run:  428\n",
      "On run:  429\n",
      "On run:  430\n",
      "On run:  431\n",
      "On run:  432\n",
      "On run:  433\n",
      "On run:  434\n",
      "On run:  435\n",
      "On run:  436\n",
      "On run:  437\n",
      "On run:  438\n",
      "On run:  439\n",
      "On run:  440\n",
      "On run:  441\n",
      "On run:  442\n",
      "On run:  443\n",
      "On run:  444\n",
      "On run:  445\n",
      "On run:  446\n",
      "On run:  447\n",
      "On run:  448\n",
      "On run:  449\n",
      "On run:  450\n",
      "On run:  451\n",
      "On run:  452\n",
      "On run:  453\n",
      "On run:  454\n",
      "On run:  455\n",
      "On run:  456\n",
      "On run:  457\n",
      "On run:  458\n",
      "On run:  459\n",
      "On run:  460\n",
      "On run:  461\n",
      "On run:  462\n",
      "On run:  463\n",
      "On run:  464\n",
      "On run:  465\n",
      "On run:  466\n",
      "On run:  467\n",
      "On run:  468\n",
      "On run:  469\n",
      "On run:  470\n",
      "On run:  471\n",
      "On run:  472\n",
      "On run:  473\n",
      "On run:  474\n",
      "On run:  475\n",
      "On run:  476\n",
      "On run:  477\n",
      "On run:  478\n",
      "On run:  479\n",
      "On run:  480\n",
      "On run:  481\n",
      "On run:  482\n",
      "On run:  483\n",
      "On run:  484\n",
      "On run:  485\n",
      "On run:  486\n",
      "On run:  487\n",
      "On run:  488\n",
      "On run:  489\n",
      "On run:  490\n",
      "On run:  491\n",
      "On run:  492\n",
      "On run:  493\n",
      "On run:  494\n",
      "On run:  495\n",
      "On run:  496\n",
      "On run:  497\n",
      "On run:  498\n",
      "On run:  499\n"
     ]
    }
   ],
   "source": [
    "num_runs = 500\n",
    "county = 'Alameda'\n",
    "baseline_profiles = np.zeros((96, num_runs))\n",
    "controlled_profiles = np.zeros((96, num_runs))\n",
    "saved_indices = np.zeros((200, num_runs))\n",
    "list_violations = []\n",
    "for i in range(num_runs):\n",
    "    print('On run: ', i)\n",
    "    \n",
    "    df, df_intervals, chosen_sessions = new_df_and_sessions(county, 200) #this first! \n",
    "    saved_indices[:, i] = chosen_sessions\n",
    "    power, arrival_inds, departure_inds, energies = uncontrolled_load(200, chosen_sessions, df, df_intervals, 6.6)\n",
    "    schedule, power, violations = controlled_load(200, 6.6, arrival_inds, departure_inds, power, energies, energy_prices, \n",
    "                    rate_demand_peak, rate_demand_partpeak, rate_demand_overall, peak_inds, partpeak_inds)\n",
    "    \n",
    "    baseline_profiles[:, i] = np.sum(power, axis=1)\n",
    "    controlled_profiles[:, i] = np.sum(schedule, axis=1)\n",
    "    list_violations.append(violations)\n",
    "        \n",
    "np.save(\"baseline_profiles_Alameda_500.npy\", baseline_profiles)\n",
    "np.save(\"controlled_profiles_Alameda_500.npy\", controlled_profiles)\n"
   ]
  },
  {
   "cell_type": "code",
   "execution_count": 95,
   "metadata": {},
   "outputs": [],
   "source": [
    "baseline_profiles = np.load(\"baseline_profiles_Santa_Clara_500.npy\")\n",
    "controlled_profiles = np.load(\"controlled_profiles_Santa_Clara_500.npy\")"
   ]
  },
  {
   "cell_type": "code",
   "execution_count": 96,
   "metadata": {},
   "outputs": [
    {
     "data": {
      "text/plain": [
       "Text(0.5, 0, 'Hour')"
      ]
     },
     "execution_count": 96,
     "metadata": {},
     "output_type": "execute_result"
    },
    {
     "data": {
      "image/png": "[encoded data removed]",
      "text/plain": [
       "<Figure size 432x288 with 1 Axes>"
      ]
     },
     "metadata": {
      "needs_background": "light"
     },
     "output_type": "display_data"
    }
   ],
   "source": [
    "plt.plot(0.25*np.arange(0, 96), baseline_profiles[:, 15])\n",
    "plt.plot(0.25*np.arange(0, 96), controlled_profiles[:, 15])\n",
    "plt.title(\"Example of control for a workplace at SF county (one day)\")\n",
    "plt.ylabel(\"Power\")\n",
    "plt.xlabel(\"Hour\")"
   ]
  },
  {
   "cell_type": "code",
   "execution_count": null,
   "metadata": {},
   "outputs": [],
   "source": []
  },
  {
   "cell_type": "markdown",
   "metadata": {},
   "source": [
    "# Fitting?"
   ]
  },
  {
   "cell_type": "code",
   "execution_count": 97,
   "metadata": {},
   "outputs": [],
   "source": [
    "import sklearn\n",
    "from sklearn.model_selection import train_test_split\n",
    "from sklearn.linear_model import LinearRegression\n",
    "from sklearn.linear_model import LinearRegression\n",
    "from sklearn.tree import DecisionTreeRegressor\n",
    "from sklearn.ensemble import RandomForestRegressor\n",
    "from sklearn.svm import SVR"
   ]
  },
  {
   "cell_type": "code",
   "execution_count": 98,
   "metadata": {},
   "outputs": [],
   "source": [
    "#changing size of training set --> error should decrease not limited by having enough data\n",
    "#combine counties together \n",
    "#how many samoples do we need "
   ]
  },
  {
   "cell_type": "code",
   "execution_count": 99,
   "metadata": {},
   "outputs": [
    {
     "name": "stderr",
     "output_type": "stream",
     "text": [
      "/Users/elpiniki/miniconda3/envs/pvprofiler/lib/python3.7/site-packages/sklearn/base.py:420: FutureWarning: The default value of multioutput (not exposed in score method) will change from 'variance_weighted' to 'uniform_average' in 0.23 to keep consistent with 'metrics.r2_score'. To specify the default value manually and avoid the warning, please either call 'metrics.r2_score' directly or make a custom scorer with 'metrics.make_scorer' (the built-in scorer 'r2' uses multioutput='uniform_average').\n",
      "  \"multioutput='uniform_average').\", FutureWarning)\n"
     ]
    },
    {
     "data": {
      "text/plain": [
       "0.9686623717923013"
      ]
     },
     "execution_count": 99,
     "metadata": {},
     "output_type": "execute_result"
    }
   ],
   "source": [
    "# Split data into train and test sets\n",
    "X_train, X_test, y_train, y_test = train_test_split(np.transpose(baseline_profiles), np.transpose(controlled_profiles), test_size=0.2, random_state=42)\n",
    "\n",
    "# Define and fit classifier\n",
    "clf = LinearRegression()\n",
    "clf.fit(X_train, y_train)\n",
    "\n",
    "# Score on test set\n",
    "clf.score(X_test, y_test)\n",
    "# Pretty good R^2 value with the linear regression model"
   ]
  },
  {
   "cell_type": "code",
   "execution_count": 100,
   "metadata": {},
   "outputs": [
    {
     "data": {
      "image/png": "[encoded data removed]",
      "text/plain": [
       "<Figure size 432x288 with 1 Axes>"
      ]
     },
     "metadata": {
      "needs_background": "light"
     },
     "output_type": "display_data"
    }
   ],
   "source": [
    "which_test_sample = 15  # less than num test samples\n",
    "y_predicted = clf.predict(X_test)\n",
    "plt.figure()\n",
    "plt.plot(0.25*np.arange(0, 96), y_test[which_test_sample, :], label=\"real control\")\n",
    "plt.plot(0.25*np.arange(0, 96), y_predicted[which_test_sample, :], label=\"predicted control\")\n",
    "plt.title(\"Example of predicted control for a workplace at Santa Clara county (one day)\")\n",
    "plt.xlabel('Hour')\n",
    "plt.xlim([0, 24])\n",
    "plt.legend()\n",
    "plt.show()"
   ]
  },
  {
   "cell_type": "code",
   "execution_count": 93,
   "metadata": {},
   "outputs": [
    {
     "name": "stderr",
     "output_type": "stream",
     "text": [
      "/Users/elpiniki/miniconda3/envs/pvprofiler/lib/python3.7/site-packages/sklearn/base.py:420: FutureWarning: The default value of multioutput (not exposed in score method) will change from 'variance_weighted' to 'uniform_average' in 0.23 to keep consistent with 'metrics.r2_score'. To specify the default value manually and avoid the warning, please either call 'metrics.r2_score' directly or make a custom scorer with 'metrics.make_scorer' (the built-in scorer 'r2' uses multioutput='uniform_average').\n",
      "  \"multioutput='uniform_average').\", FutureWarning)\n"
     ]
    },
    {
     "data": {
      "text/plain": [
       "0.8313763542691146"
      ]
     },
     "execution_count": 93,
     "metadata": {},
     "output_type": "execute_result"
    }
   ],
   "source": [
    "# Split data into train and test sets\n",
    "X_train, X_test, y_train, y_test = train_test_split(np.transpose(baseline_profiles), np.transpose(controlled_profiles), test_size=0.2, random_state=42)\n",
    "\n",
    "# Define and fit classifier\n",
    "clf = DecisionTreeRegressor()\n",
    "clf.fit(X_train, y_train)\n",
    "\n",
    "# Score on test set\n",
    "clf.score(X_test, y_test)\n",
    "# Pretty good R^2 value with the linear regression model"
   ]
  },
  {
   "cell_type": "code",
   "execution_count": 94,
   "metadata": {},
   "outputs": [
    {
     "name": "stderr",
     "output_type": "stream",
     "text": [
      "/Users/elpiniki/miniconda3/envs/pvprofiler/lib/python3.7/site-packages/sklearn/ensemble/forest.py:245: FutureWarning: The default value of n_estimators will change from 10 in version 0.20 to 100 in 0.22.\n",
      "  \"10 in version 0.20 to 100 in 0.22.\", FutureWarning)\n",
      "/Users/elpiniki/miniconda3/envs/pvprofiler/lib/python3.7/site-packages/sklearn/base.py:420: FutureWarning: The default value of multioutput (not exposed in score method) will change from 'variance_weighted' to 'uniform_average' in 0.23 to keep consistent with 'metrics.r2_score'. To specify the default value manually and avoid the warning, please either call 'metrics.r2_score' directly or make a custom scorer with 'metrics.make_scorer' (the built-in scorer 'r2' uses multioutput='uniform_average').\n",
      "  \"multioutput='uniform_average').\", FutureWarning)\n"
     ]
    },
    {
     "data": {
      "text/plain": [
       "0.9177465180961455"
      ]
     },
     "execution_count": 94,
     "metadata": {},
     "output_type": "execute_result"
    }
   ],
   "source": [
    "# Split data into train and test sets\n",
    "X_train, X_test, y_train, y_test = train_test_split(np.transpose(baseline_profiles), np.transpose(controlled_profiles), test_size=0.2, random_state=42)\n",
    "\n",
    "# Define and fit classifier\n",
    "clf = RandomForestRegressor()\n",
    "clf.fit(X_train, y_train)\n",
    "\n",
    "# Score on test set\n",
    "clf.score(X_test, y_test)\n",
    "# Pretty good R^2 value with the linear regression model"
   ]
  },
  {
   "cell_type": "code",
   "execution_count": 54,
   "metadata": {},
   "outputs": [
    {
     "data": {
      "text/plain": [
       "(96, 500)"
      ]
     },
     "execution_count": 54,
     "metadata": {},
     "output_type": "execute_result"
    }
   ],
   "source": [
    "#plt.plot(X_train[0])\n",
    "baseline_profiles.shape"
   ]
  },
  {
   "cell_type": "code",
   "execution_count": 55,
   "metadata": {},
   "outputs": [
    {
     "name": "stdout",
     "output_type": "stream",
     "text": [
      "Includes  100 samples.\n"
     ]
    }
   ],
   "source": [
    "# Predict on test set and inspect sample\n",
    "y_predicted = clf.predict(X_test)\n",
    "print('Includes ', np.shape(y_predicted)[0], 'samples.')"
   ]
  },
  {
   "cell_type": "code",
   "execution_count": 56,
   "metadata": {},
   "outputs": [
    {
     "data": {
      "text/plain": [
       "(100, 96)"
      ]
     },
     "execution_count": 56,
     "metadata": {},
     "output_type": "execute_result"
    }
   ],
   "source": [
    "y_test.shape"
   ]
  },
  {
   "cell_type": "code",
   "execution_count": 57,
   "metadata": {},
   "outputs": [
    {
     "data": {
      "image/png": "[encoded data removed]",
      "text/plain": [
       "<Figure size 432x288 with 1 Axes>"
      ]
     },
     "metadata": {
      "needs_background": "light"
     },
     "output_type": "display_data"
    }
   ],
   "source": [
    "which_test_sample = 15  # less than num test samples\n",
    "y_predicted = clf.predict(X_test)\n",
    "plt.figure()\n",
    "plt.plot(0.25*np.arange(0, 96), y_test[which_test_sample, :])\n",
    "plt.plot(0.25*np.arange(0, 96), y_predicted[which_test_sample, :])\n",
    "plt.xlabel('Hour')\n",
    "plt.xlim([0, 24])\n",
    "plt.show()"
   ]
  },
  {
   "cell_type": "code",
   "execution_count": 58,
   "metadata": {},
   "outputs": [
    {
     "data": {
      "text/plain": [
       "[<matplotlib.lines.Line2D at 0x11c3eb278>]"
      ]
     },
     "execution_count": 58,
     "metadata": {},
     "output_type": "execute_result"
    },
    {
     "data": {
      "image/png": "[encoded data removed]",
      "text/plain": [
       "<Figure size 432x288 with 1 Axes>"
      ]
     },
     "metadata": {
      "needs_background": "light"
     },
     "output_type": "display_data"
    }
   ],
   "source": [
    "plt.plot(np.arange(0, 96), baseline_profiles[:, 54])"
   ]
  },
  {
   "cell_type": "code",
   "execution_count": 59,
   "metadata": {},
   "outputs": [
    {
     "ename": "NameError",
     "evalue": "name 'saved_indices' is not defined",
     "output_type": "error",
     "traceback": [
      "\u001b[0;31m---------------------------------------------------------------------------\u001b[0m",
      "\u001b[0;31mNameError\u001b[0m                                 Traceback (most recent call last)",
      "\u001b[0;32m<ipython-input-59-e23676b3bad9>\u001b[0m in \u001b[0;36m<module>\u001b[0;34m\u001b[0m\n\u001b[1;32m      1\u001b[0m \u001b[0mi\u001b[0m \u001b[0;34m=\u001b[0m \u001b[0;36m7\u001b[0m\u001b[0;34m\u001b[0m\u001b[0;34m\u001b[0m\u001b[0m\n\u001b[0;32m----> 2\u001b[0;31m \u001b[0mchosen_sessions\u001b[0m \u001b[0;34m=\u001b[0m \u001b[0msaved_indices\u001b[0m\u001b[0;34m[\u001b[0m\u001b[0;34m:\u001b[0m\u001b[0;34m,\u001b[0m \u001b[0mi\u001b[0m\u001b[0;34m]\u001b[0m\u001b[0;34m\u001b[0m\u001b[0;34m\u001b[0m\u001b[0m\n\u001b[0m\u001b[1;32m      3\u001b[0m \u001b[0mpower\u001b[0m\u001b[0;34m,\u001b[0m \u001b[0marrival_inds\u001b[0m\u001b[0;34m,\u001b[0m \u001b[0mdeparture_inds\u001b[0m\u001b[0;34m,\u001b[0m \u001b[0menergies\u001b[0m \u001b[0;34m=\u001b[0m \u001b[0muncontrolled_load\u001b[0m\u001b[0;34m(\u001b[0m\u001b[0;36m200\u001b[0m\u001b[0;34m,\u001b[0m \u001b[0mchosen_sessions\u001b[0m\u001b[0;34m,\u001b[0m \u001b[0mdf\u001b[0m\u001b[0;34m,\u001b[0m \u001b[0mdf_intervals\u001b[0m\u001b[0;34m,\u001b[0m \u001b[0;36m6.6\u001b[0m\u001b[0;34m)\u001b[0m\u001b[0;34m\u001b[0m\u001b[0;34m\u001b[0m\u001b[0m\n",
      "\u001b[0;31mNameError\u001b[0m: name 'saved_indices' is not defined"
     ]
    }
   ],
   "source": [
    "i = 7\n",
    "chosen_sessions = saved_indices[:, i]\n",
    "power, arrival_inds, departure_inds, energies = uncontrolled_load(200, chosen_sessions, df, df_intervals, 6.6)"
   ]
  },
  {
   "cell_type": "code",
   "execution_count": null,
   "metadata": {},
   "outputs": [],
   "source": [
    "plt.plot(np.arange(0, 96), np.sum(power,axis=1))"
   ]
  },
  {
   "cell_type": "code",
   "execution_count": null,
   "metadata": {},
   "outputs": [],
   "source": [
    "which_test_sample = 0  # less than num test samples\n",
    "plt.figure()\n",
    "plt.plot(0.25*np.arange(0, 96), y_test[which_test_sample, :])\n",
    "plt.plot(0.25*np.arange(0, 96), y_predicted[which_test_sample, :])\n",
    "plt.xlabel('Hour')\n",
    "plt.xlim([0, 24])\n",
    "plt.show()"
   ]
  },
  {
   "cell_type": "code",
   "execution_count": null,
   "metadata": {},
   "outputs": [],
   "source": [
    "which_test_sample = 0  # less than num test samples\n",
    "plt.figure()\n",
    "plt.plot(0.25*np.arange(0, 96), y_test[which_test_sample, :])\n",
    "plt.plot(0.25*np.arange(0, 96), y_predicted[which_test_sample, :])\n",
    "plt.xlabel('Hour')\n",
    "plt.xlim([0, 24])\n",
    "plt.show()"
   ]
  },
  {
   "cell_type": "code",
   "execution_count": null,
   "metadata": {},
   "outputs": [],
   "source": []
  }
 ],
 "metadata": {
  "@webio": {
   "lastCommId": null,
   "lastKernelId": null
  },
  "kernelspec": {
   "display_name": "Python 3",
   "language": "python",
   "name": "python3"
  },
  "language_info": {
   "codemirror_mode": {
    "name": "ipython",
    "version": 3
   },
   "file_extension": ".py",
   "mimetype": "text/x-python",
   "name": "python",
   "nbconvert_exporter": "python",
   "pygments_lexer": "ipython3",
   "version": "3.7.1"
  }
 },
 "nbformat": 4,
 "nbformat_minor": 2
}
