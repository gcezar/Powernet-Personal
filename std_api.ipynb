{
 "cells": [
  {
   "cell_type": "code",
   "execution_count": 2,
   "metadata": {},
   "outputs": [],
   "source": [
    "import datetime\n",
    "from xml.etree import ElementTree as ET\n",
    "import requests\n",
    "from requests.auth import HTTPDigestAuth\n",
    "import numpy as np\n",
    "import time\n",
    "import json"
   ]
  },
  {
   "cell_type": "code",
   "execution_count": 3,
   "metadata": {},
   "outputs": [],
   "source": [
    "class STDInterface():\n",
    "    \n",
    "    def __init__(self, url = 'https://test.suntechdrive.com', username = None, password = None, cookie = None):\n",
    "        # Initializing credentials\n",
    "        self.url = url\n",
    "        self.username = username\n",
    "        self.password = password\n",
    "        self.credentials = {'username':self.username, 'password':self.password}\n",
    "        self.cookie = cookie\n",
    "\n",
    "    \n",
    "    def login(self):\n",
    "        login_endpoint = '/api/login'\n",
    "        session = requests.Session()\n",
    "        resp = session.post(self.url+login_endpoint, data = self.credentials, verify=False) # Remove verify=False -> using this to bypass computer firewall\n",
    "        self.cookie = session.cookies.get_dict()\n",
    "        return self.cookie\n",
    "    \n",
    "    \n",
    "    def get_devices_status(self):\n",
    "        status_endpoint = '/api/device'\n",
    "        \n",
    "        try:\n",
    "            resp = requests.get(self.url+status_endpoint, cookies=self.cookie,verify=False) # Remove verify=False -> using this to bypass computer firewall\n",
    "            resp.raise_for_status()\n",
    "            \n",
    "        except requests.exceptions.HTTPError as err:\n",
    "            print(err)\n",
    "\n",
    "#         return resp.json()\n",
    "        return resp.text # Remove after STD fix it\n",
    "\n",
    "    \n",
    "    def get_single_device_status(self, dev_id):\n",
    "        status_endpoint = '/api/device/'\n",
    "        \n",
    "        try:\n",
    "            resp = requests.get(self.url+status_endpoint+dev_id, cookies=self.cookie,verify=False) # Remove verify=False -> using this to bypass computer firewall\n",
    "        except:\n",
    "            print(exc)\n",
    "\n",
    "        return resp.json()\n",
    "    \n",
    "    \n",
    "    def post_devices_command(self, dev_id, command = 'setpower', value = 'on'):\n",
    "        # command: ['setpower':'value=on/off', 'setfreq':'value=[40-60]']\n",
    "        try:\n",
    "            resp = requests.post(self.url+'/api/command/'+dev_id+'?'+command+'='+value, cookies=self.cookie,verify=False) # Remove verify=False -> using this to bypass computer firewall\n",
    "        except:\n",
    "            print(exc)\n",
    "\n",
    "        return resp\n",
    "    \n",
    "    def post_devices_command_all(self, command = 'setpower', value = 'on'):\n",
    "        try:\n",
    "            resp = requests.post(self.url+'/api/command'+'?'+command+'='+value, cookies=self.cookie,verify=False) # Remove verify=False -> using this to bypass computer firewall\n",
    "        except:\n",
    "            print(exc)\n",
    "\n",
    "        return resp\n",
    "        \n",
    "        \n",
    "        \n",
    "    "
   ]
  },
  {
   "cell_type": "code",
   "execution_count": 9,
   "metadata": {},
   "outputs": [
    {
     "name": "stderr",
     "output_type": "stream",
     "text": [
      "/anaconda2/envs/venv_egauge/lib/python3.7/site-packages/urllib3/connectionpool.py:847: InsecureRequestWarning: Unverified HTTPS request is being made. Adding certificate verification is strongly advised. See: https://urllib3.readthedocs.io/en/latest/advanced-usage.html#ssl-warnings\n",
      "  InsecureRequestWarning)\n"
     ]
    },
    {
     "name": "stdout",
     "output_type": "stream",
     "text": [
      "{'test.suntechdrive.com-user': 'MTU2NTk2NjQ3MnxQSjF6bmcySmFuTnBaTWZ5SFJmQ0Z6OHFvYjZYaXkzUEVlR3JNaUpkWjV5YlV3NzVkRVhaRnh2TkMtR09fNEtpZ28zV0J2cGluZ2UyenhnWDBJSWd8tBLmW5rrFsvmOC5-R6SwhtC8X4LpOFn_ggegeQfSSw0='}\n",
      "{'serial_number': 697146, 'time': '2019-08-16T14:40:59Z', 'dcv': 326, 'dcc': 0.2199999988079071, 'frq': 0, 'btp': 24, 'pvc': 0.18000000715255737, 'pvv': 203, 'igtp': 26, 'a1': 0.019999999552965164, 'a2': 63.220001220703125, 'a3': 22.030000686645508, 'a4': 3.240000009536743, 'total_power': 71.72000122070312, 'grid_power': 35.18000030517578, 'pv_power': 36.540000915527344, 'ambient_temp': 0}\n"
     ]
    },
    {
     "name": "stderr",
     "output_type": "stream",
     "text": [
      "/anaconda2/envs/venv_egauge/lib/python3.7/site-packages/urllib3/connectionpool.py:847: InsecureRequestWarning: Unverified HTTPS request is being made. Adding certificate verification is strongly advised. See: https://urllib3.readthedocs.io/en/latest/advanced-usage.html#ssl-warnings\n",
      "  InsecureRequestWarning)\n"
     ]
    }
   ],
   "source": [
    "cookie = STDInterface(username='supowernet@gmail.com', password='stanfords3l').login()\n",
    "print(cookie)\n",
    "# text = STDInterface(cookie=cookie).get_devices_status()\n",
    "text = STDInterface(cookie=cookie).get_single_device_status('697146')\n",
    "print(text)"
   ]
  },
  {
   "cell_type": "code",
   "execution_count": 24,
   "metadata": {},
   "outputs": [
    {
     "name": "stderr",
     "output_type": "stream",
     "text": [
      "/anaconda2/envs/venv_egauge/lib/python3.7/site-packages/urllib3/connectionpool.py:847: InsecureRequestWarning: Unverified HTTPS request is being made. Adding certificate verification is strongly advised. See: https://urllib3.readthedocs.io/en/latest/advanced-usage.html#ssl-warnings\n",
      "  InsecureRequestWarning)\n"
     ]
    },
    {
     "name": "stdout",
     "output_type": "stream",
     "text": [
      "<Response [200]>\n"
     ]
    }
   ],
   "source": [
    "dev_id = '697151'\n",
    "control = STDInterface(cookie=cookie).post_devices_command(dev_id, command='setfreq', value='60')\n",
    "print(control)"
   ]
  },
  {
   "cell_type": "code",
   "execution_count": 12,
   "metadata": {},
   "outputs": [
    {
     "name": "stderr",
     "output_type": "stream",
     "text": [
      "/anaconda2/envs/venv_egauge/lib/python3.7/site-packages/urllib3/connectionpool.py:847: InsecureRequestWarning: Unverified HTTPS request is being made. Adding certificate verification is strongly advised. See: https://urllib3.readthedocs.io/en/latest/advanced-usage.html#ssl-warnings\n",
      "  InsecureRequestWarning)\n",
      "/anaconda2/envs/venv_egauge/lib/python3.7/site-packages/urllib3/connectionpool.py:847: InsecureRequestWarning: Unverified HTTPS request is being made. Adding certificate verification is strongly advised. See: https://urllib3.readthedocs.io/en/latest/advanced-usage.html#ssl-warnings\n",
      "  InsecureRequestWarning)\n"
     ]
    }
   ],
   "source": [
    "cookie = STDInterface(username='supowernet@gmail.com', password='stanfords3l').login()\n",
    "text1 = STDInterface(cookie=cookie).get_devices_status()\n",
    "# print(text1)"
   ]
  },
  {
   "cell_type": "code",
   "execution_count": 16,
   "metadata": {},
   "outputs": [
    {
     "name": "stderr",
     "output_type": "stream",
     "text": [
      "/anaconda2/envs/venv_egauge/lib/python3.7/site-packages/urllib3/connectionpool.py:847: InsecureRequestWarning: Unverified HTTPS request is being made. Adding certificate verification is strongly advised. See: https://urllib3.readthedocs.io/en/latest/advanced-usage.html#ssl-warnings\n",
      "  InsecureRequestWarning)\n"
     ]
    },
    {
     "name": "stdout",
     "output_type": "stream",
     "text": [
      "<Response [200]>\n"
     ]
    }
   ],
   "source": [
    "dev_id = '766935'\n",
    "control = STDInterface(cookie=cookie).post_devices_command(dev_id, value='on')\n",
    "print(control)"
   ]
  },
  {
   "cell_type": "markdown",
   "metadata": {},
   "source": [
    "# Thermal Tests"
   ]
  },
  {
   "cell_type": "code",
   "execution_count": 20,
   "metadata": {},
   "outputs": [
    {
     "name": "stderr",
     "output_type": "stream",
     "text": [
      "/anaconda2/envs/venv_egauge/lib/python3.7/site-packages/urllib3/connectionpool.py:847: InsecureRequestWarning: Unverified HTTPS request is being made. Adding certificate verification is strongly advised. See: https://urllib3.readthedocs.io/en/latest/advanced-usage.html#ssl-warnings\n",
      "  InsecureRequestWarning)\n"
     ]
    },
    {
     "name": "stdout",
     "output_type": "stream",
     "text": [
      "<Response [200]>\n",
      "All OFF\n",
      "Going to sleep for[s] 10sec \n",
      "Fans 1-7 ON\n",
      "dev_id:  697151\n"
     ]
    },
    {
     "name": "stderr",
     "output_type": "stream",
     "text": [
      "/anaconda2/envs/venv_egauge/lib/python3.7/site-packages/urllib3/connectionpool.py:847: InsecureRequestWarning: Unverified HTTPS request is being made. Adding certificate verification is strongly advised. See: https://urllib3.readthedocs.io/en/latest/advanced-usage.html#ssl-warnings\n",
      "  InsecureRequestWarning)\n"
     ]
    },
    {
     "name": "stdout",
     "output_type": "stream",
     "text": [
      "Fans 1-7 ON\n",
      "dev_id:  766935\n"
     ]
    },
    {
     "name": "stderr",
     "output_type": "stream",
     "text": [
      "/anaconda2/envs/venv_egauge/lib/python3.7/site-packages/urllib3/connectionpool.py:847: InsecureRequestWarning: Unverified HTTPS request is being made. Adding certificate verification is strongly advised. See: https://urllib3.readthedocs.io/en/latest/advanced-usage.html#ssl-warnings\n",
      "  InsecureRequestWarning)\n"
     ]
    },
    {
     "name": "stdout",
     "output_type": "stream",
     "text": [
      "Fans 1-7 ON\n",
      "dev_id:  697145\n"
     ]
    },
    {
     "name": "stderr",
     "output_type": "stream",
     "text": [
      "/anaconda2/envs/venv_egauge/lib/python3.7/site-packages/urllib3/connectionpool.py:847: InsecureRequestWarning: Unverified HTTPS request is being made. Adding certificate verification is strongly advised. See: https://urllib3.readthedocs.io/en/latest/advanced-usage.html#ssl-warnings\n",
      "  InsecureRequestWarning)\n"
     ]
    },
    {
     "name": "stdout",
     "output_type": "stream",
     "text": [
      "Fans 1-7 ON\n",
      "dev_id:  766944\n"
     ]
    },
    {
     "name": "stderr",
     "output_type": "stream",
     "text": [
      "/anaconda2/envs/venv_egauge/lib/python3.7/site-packages/urllib3/connectionpool.py:847: InsecureRequestWarning: Unverified HTTPS request is being made. Adding certificate verification is strongly advised. See: https://urllib3.readthedocs.io/en/latest/advanced-usage.html#ssl-warnings\n",
      "  InsecureRequestWarning)\n"
     ]
    },
    {
     "name": "stdout",
     "output_type": "stream",
     "text": [
      "Fans 1-7 ON\n",
      "dev_id:  697149\n"
     ]
    },
    {
     "name": "stderr",
     "output_type": "stream",
     "text": [
      "/anaconda2/envs/venv_egauge/lib/python3.7/site-packages/urllib3/connectionpool.py:847: InsecureRequestWarning: Unverified HTTPS request is being made. Adding certificate verification is strongly advised. See: https://urllib3.readthedocs.io/en/latest/advanced-usage.html#ssl-warnings\n",
      "  InsecureRequestWarning)\n"
     ]
    },
    {
     "name": "stdout",
     "output_type": "stream",
     "text": [
      "Fans 1-7 ON\n",
      "dev_id:  766929\n"
     ]
    },
    {
     "name": "stderr",
     "output_type": "stream",
     "text": [
      "/anaconda2/envs/venv_egauge/lib/python3.7/site-packages/urllib3/connectionpool.py:847: InsecureRequestWarning: Unverified HTTPS request is being made. Adding certificate verification is strongly advised. See: https://urllib3.readthedocs.io/en/latest/advanced-usage.html#ssl-warnings\n",
      "  InsecureRequestWarning)\n"
     ]
    },
    {
     "name": "stdout",
     "output_type": "stream",
     "text": [
      "Fans 1-7 ON\n",
      "dev_id:  697160\n"
     ]
    },
    {
     "name": "stderr",
     "output_type": "stream",
     "text": [
      "/anaconda2/envs/venv_egauge/lib/python3.7/site-packages/urllib3/connectionpool.py:847: InsecureRequestWarning: Unverified HTTPS request is being made. Adding certificate verification is strongly advised. See: https://urllib3.readthedocs.io/en/latest/advanced-usage.html#ssl-warnings\n",
      "  InsecureRequestWarning)\n"
     ]
    },
    {
     "name": "stdout",
     "output_type": "stream",
     "text": [
      "Going to sleep for[s]...  2400\n",
      "Fans 1-7 OFF\n",
      "dev_id:  697151\n"
     ]
    },
    {
     "name": "stderr",
     "output_type": "stream",
     "text": [
      "/anaconda2/envs/venv_egauge/lib/python3.7/site-packages/urllib3/connectionpool.py:847: InsecureRequestWarning: Unverified HTTPS request is being made. Adding certificate verification is strongly advised. See: https://urllib3.readthedocs.io/en/latest/advanced-usage.html#ssl-warnings\n",
      "  InsecureRequestWarning)\n"
     ]
    },
    {
     "name": "stdout",
     "output_type": "stream",
     "text": [
      "Fans 1-7 OFF\n",
      "dev_id:  766935\n"
     ]
    },
    {
     "name": "stderr",
     "output_type": "stream",
     "text": [
      "/anaconda2/envs/venv_egauge/lib/python3.7/site-packages/urllib3/connectionpool.py:847: InsecureRequestWarning: Unverified HTTPS request is being made. Adding certificate verification is strongly advised. See: https://urllib3.readthedocs.io/en/latest/advanced-usage.html#ssl-warnings\n",
      "  InsecureRequestWarning)\n"
     ]
    },
    {
     "name": "stdout",
     "output_type": "stream",
     "text": [
      "Fans 1-7 OFF\n",
      "dev_id:  697145\n"
     ]
    },
    {
     "name": "stderr",
     "output_type": "stream",
     "text": [
      "/anaconda2/envs/venv_egauge/lib/python3.7/site-packages/urllib3/connectionpool.py:847: InsecureRequestWarning: Unverified HTTPS request is being made. Adding certificate verification is strongly advised. See: https://urllib3.readthedocs.io/en/latest/advanced-usage.html#ssl-warnings\n",
      "  InsecureRequestWarning)\n"
     ]
    },
    {
     "name": "stdout",
     "output_type": "stream",
     "text": [
      "Fans 1-7 OFF\n",
      "dev_id:  766944\n"
     ]
    },
    {
     "name": "stderr",
     "output_type": "stream",
     "text": [
      "/anaconda2/envs/venv_egauge/lib/python3.7/site-packages/urllib3/connectionpool.py:847: InsecureRequestWarning: Unverified HTTPS request is being made. Adding certificate verification is strongly advised. See: https://urllib3.readthedocs.io/en/latest/advanced-usage.html#ssl-warnings\n",
      "  InsecureRequestWarning)\n"
     ]
    },
    {
     "name": "stdout",
     "output_type": "stream",
     "text": [
      "Fans 1-7 OFF\n",
      "dev_id:  697149\n"
     ]
    },
    {
     "name": "stderr",
     "output_type": "stream",
     "text": [
      "/anaconda2/envs/venv_egauge/lib/python3.7/site-packages/urllib3/connectionpool.py:847: InsecureRequestWarning: Unverified HTTPS request is being made. Adding certificate verification is strongly advised. See: https://urllib3.readthedocs.io/en/latest/advanced-usage.html#ssl-warnings\n",
      "  InsecureRequestWarning)\n"
     ]
    },
    {
     "name": "stdout",
     "output_type": "stream",
     "text": [
      "Fans 1-7 OFF\n",
      "dev_id:  766929\n"
     ]
    },
    {
     "name": "stderr",
     "output_type": "stream",
     "text": [
      "/anaconda2/envs/venv_egauge/lib/python3.7/site-packages/urllib3/connectionpool.py:847: InsecureRequestWarning: Unverified HTTPS request is being made. Adding certificate verification is strongly advised. See: https://urllib3.readthedocs.io/en/latest/advanced-usage.html#ssl-warnings\n",
      "  InsecureRequestWarning)\n"
     ]
    },
    {
     "name": "stdout",
     "output_type": "stream",
     "text": [
      "Fans 1-7 OFF\n",
      "dev_id:  697160\n"
     ]
    },
    {
     "name": "stderr",
     "output_type": "stream",
     "text": [
      "/anaconda2/envs/venv_egauge/lib/python3.7/site-packages/urllib3/connectionpool.py:847: InsecureRequestWarning: Unverified HTTPS request is being made. Adding certificate verification is strongly advised. See: https://urllib3.readthedocs.io/en/latest/advanced-usage.html#ssl-warnings\n",
      "  InsecureRequestWarning)\n"
     ]
    },
    {
     "name": "stdout",
     "output_type": "stream",
     "text": [
      "Fans 8-15 ON\n",
      "dev_id:  697157\n"
     ]
    },
    {
     "name": "stderr",
     "output_type": "stream",
     "text": [
      "/anaconda2/envs/venv_egauge/lib/python3.7/site-packages/urllib3/connectionpool.py:847: InsecureRequestWarning: Unverified HTTPS request is being made. Adding certificate verification is strongly advised. See: https://urllib3.readthedocs.io/en/latest/advanced-usage.html#ssl-warnings\n",
      "  InsecureRequestWarning)\n"
     ]
    },
    {
     "name": "stdout",
     "output_type": "stream",
     "text": [
      "Fans 8-15 ON\n",
      "dev_id:  766936\n"
     ]
    },
    {
     "name": "stderr",
     "output_type": "stream",
     "text": [
      "/anaconda2/envs/venv_egauge/lib/python3.7/site-packages/urllib3/connectionpool.py:847: InsecureRequestWarning: Unverified HTTPS request is being made. Adding certificate verification is strongly advised. See: https://urllib3.readthedocs.io/en/latest/advanced-usage.html#ssl-warnings\n",
      "  InsecureRequestWarning)\n"
     ]
    },
    {
     "name": "stdout",
     "output_type": "stream",
     "text": [
      "Fans 8-15 ON\n",
      "dev_id:  697146\n"
     ]
    },
    {
     "name": "stderr",
     "output_type": "stream",
     "text": [
      "/anaconda2/envs/venv_egauge/lib/python3.7/site-packages/urllib3/connectionpool.py:847: InsecureRequestWarning: Unverified HTTPS request is being made. Adding certificate verification is strongly advised. See: https://urllib3.readthedocs.io/en/latest/advanced-usage.html#ssl-warnings\n",
      "  InsecureRequestWarning)\n"
     ]
    },
    {
     "name": "stdout",
     "output_type": "stream",
     "text": [
      "Fans 8-15 ON\n",
      "dev_id:  697144\n"
     ]
    },
    {
     "name": "stderr",
     "output_type": "stream",
     "text": [
      "/anaconda2/envs/venv_egauge/lib/python3.7/site-packages/urllib3/connectionpool.py:847: InsecureRequestWarning: Unverified HTTPS request is being made. Adding certificate verification is strongly advised. See: https://urllib3.readthedocs.io/en/latest/advanced-usage.html#ssl-warnings\n",
      "  InsecureRequestWarning)\n"
     ]
    },
    {
     "name": "stdout",
     "output_type": "stream",
     "text": [
      "Fans 8-15 ON\n",
      "dev_id:  697153\n"
     ]
    },
    {
     "name": "stderr",
     "output_type": "stream",
     "text": [
      "/anaconda2/envs/venv_egauge/lib/python3.7/site-packages/urllib3/connectionpool.py:847: InsecureRequestWarning: Unverified HTTPS request is being made. Adding certificate verification is strongly advised. See: https://urllib3.readthedocs.io/en/latest/advanced-usage.html#ssl-warnings\n",
      "  InsecureRequestWarning)\n"
     ]
    },
    {
     "name": "stdout",
     "output_type": "stream",
     "text": [
      "Fans 8-15 ON\n",
      "dev_id:  766940\n"
     ]
    },
    {
     "name": "stderr",
     "output_type": "stream",
     "text": [
      "/anaconda2/envs/venv_egauge/lib/python3.7/site-packages/urllib3/connectionpool.py:847: InsecureRequestWarning: Unverified HTTPS request is being made. Adding certificate verification is strongly advised. See: https://urllib3.readthedocs.io/en/latest/advanced-usage.html#ssl-warnings\n",
      "  InsecureRequestWarning)\n"
     ]
    },
    {
     "name": "stdout",
     "output_type": "stream",
     "text": [
      "Fans 8-15 ON\n",
      "dev_id:  697156\n"
     ]
    },
    {
     "name": "stderr",
     "output_type": "stream",
     "text": [
      "/anaconda2/envs/venv_egauge/lib/python3.7/site-packages/urllib3/connectionpool.py:847: InsecureRequestWarning: Unverified HTTPS request is being made. Adding certificate verification is strongly advised. See: https://urllib3.readthedocs.io/en/latest/advanced-usage.html#ssl-warnings\n",
      "  InsecureRequestWarning)\n"
     ]
    },
    {
     "name": "stdout",
     "output_type": "stream",
     "text": [
      "Fans 8-15 ON\n",
      "dev_id:  697147\n"
     ]
    },
    {
     "name": "stderr",
     "output_type": "stream",
     "text": [
      "/anaconda2/envs/venv_egauge/lib/python3.7/site-packages/urllib3/connectionpool.py:847: InsecureRequestWarning: Unverified HTTPS request is being made. Adding certificate verification is strongly advised. See: https://urllib3.readthedocs.io/en/latest/advanced-usage.html#ssl-warnings\n",
      "  InsecureRequestWarning)\n"
     ]
    },
    {
     "name": "stdout",
     "output_type": "stream",
     "text": [
      "Going to sleep for[s]...  2400\n"
     ]
    },
    {
     "name": "stderr",
     "output_type": "stream",
     "text": [
      "/anaconda2/envs/venv_egauge/lib/python3.7/site-packages/urllib3/connectionpool.py:847: InsecureRequestWarning: Unverified HTTPS request is being made. Adding certificate verification is strongly advised. See: https://urllib3.readthedocs.io/en/latest/advanced-usage.html#ssl-warnings\n",
      "  InsecureRequestWarning)\n"
     ]
    },
    {
     "name": "stdout",
     "output_type": "stream",
     "text": [
      "<Response [200]>\n",
      "All ON\n"
     ]
    }
   ],
   "source": [
    "# System Thermal dynamics tests:\n",
    "\n",
    "blenders_id = ['697151','766935','697145','766944','697149','766929','697160','697147','697156','766940','697153','697144','697146','766936','697157']\n",
    "t_sleep = 2400\n",
    "\n",
    "allOn = STDInterface(cookie=cookie).post_devices_command_all(value='off')\n",
    "print(allOn)\n",
    "print('All OFF')\n",
    "\n",
    "# print('Going to sleep for[s]... ', t_sleep)\n",
    "# time.sleep(t_sleep)\n",
    "print('Going to sleep for[s] 10sec ')\n",
    "time.sleep(10)\n",
    "\n",
    "\n",
    "value = 'on'\n",
    "idx = 0\n",
    "while idx<7:\n",
    "    print('Fans 1-7 ON')\n",
    "    dev_id = blenders_id[idx]\n",
    "    print('dev_id: ', dev_id)\n",
    "    control = STDInterface(cookie=cookie).post_devices_command(dev_id, value=value)\n",
    "    idx=idx+1\n",
    "\n",
    "print('Going to sleep for[s]... ', t_sleep)\n",
    "time.sleep(t_sleep)\n",
    "\n",
    "value = 'off'\n",
    "idx = 0\n",
    "while idx<7:\n",
    "    print('Fans 1-7 OFF')\n",
    "    dev_id = blenders_id[idx]\n",
    "    print('dev_id: ', dev_id)\n",
    "    control = STDInterface(cookie=cookie).post_devices_command(dev_id, value=value)\n",
    "    idx=idx+1\n",
    "    \n",
    "value = 'on'\n",
    "idx = 14\n",
    "while idx>6:\n",
    "    print('Fans 8-15 ON')\n",
    "    dev_id = blenders_id[idx]\n",
    "    print('dev_id: ', dev_id)\n",
    "    control = STDInterface(cookie=cookie).post_devices_command(dev_id, value=value)\n",
    "    idx=idx-1\n",
    "\n",
    "print('Going to sleep for[s]... ', t_sleep)\n",
    "time.sleep(t_sleep)\n",
    "\n",
    "\n",
    "allOn = STDInterface(cookie=cookie).post_devices_command_all()\n",
    "print(allOn)\n",
    "print('All ON')\n",
    "\n",
    "\n",
    "\n",
    "\n",
    "\n",
    "\n",
    "\n"
   ]
  },
  {
   "cell_type": "markdown",
   "metadata": {},
   "source": [
    "# Freq tests"
   ]
  },
  {
   "cell_type": "code",
   "execution_count": 25,
   "metadata": {},
   "outputs": [
    {
     "name": "stderr",
     "output_type": "stream",
     "text": [
      "/anaconda2/envs/venv_egauge/lib/python3.7/site-packages/urllib3/connectionpool.py:847: InsecureRequestWarning: Unverified HTTPS request is being made. Adding certificate verification is strongly advised. See: https://urllib3.readthedocs.io/en/latest/advanced-usage.html#ssl-warnings\n",
      "  InsecureRequestWarning)\n"
     ]
    },
    {
     "name": "stdout",
     "output_type": "stream",
     "text": [
      "<Response [200]>\n",
      "All ON\n",
      "Going to sleep for[s] 60sec \n"
     ]
    },
    {
     "name": "stderr",
     "output_type": "stream",
     "text": [
      "/anaconda2/envs/venv_egauge/lib/python3.7/site-packages/urllib3/connectionpool.py:847: InsecureRequestWarning: Unverified HTTPS request is being made. Adding certificate verification is strongly advised. See: https://urllib3.readthedocs.io/en/latest/advanced-usage.html#ssl-warnings\n",
      "  InsecureRequestWarning)\n"
     ]
    },
    {
     "name": "stdout",
     "output_type": "stream",
     "text": [
      "<Response [200]>\n",
      "All 40Hz\n",
      "Going to sleep for[s]...  2400\n"
     ]
    },
    {
     "name": "stderr",
     "output_type": "stream",
     "text": [
      "/anaconda2/envs/venv_egauge/lib/python3.7/site-packages/urllib3/connectionpool.py:847: InsecureRequestWarning: Unverified HTTPS request is being made. Adding certificate verification is strongly advised. See: https://urllib3.readthedocs.io/en/latest/advanced-usage.html#ssl-warnings\n",
      "  InsecureRequestWarning)\n"
     ]
    },
    {
     "name": "stdout",
     "output_type": "stream",
     "text": [
      "<Response [200]>\n",
      "All 50Hz\n",
      "Going to sleep for[s]...  2400\n"
     ]
    },
    {
     "name": "stderr",
     "output_type": "stream",
     "text": [
      "/anaconda2/envs/venv_egauge/lib/python3.7/site-packages/urllib3/connectionpool.py:847: InsecureRequestWarning: Unverified HTTPS request is being made. Adding certificate verification is strongly advised. See: https://urllib3.readthedocs.io/en/latest/advanced-usage.html#ssl-warnings\n",
      "  InsecureRequestWarning)\n"
     ]
    },
    {
     "name": "stdout",
     "output_type": "stream",
     "text": [
      "<Response [200]>\n",
      "All 60Hz\n"
     ]
    }
   ],
   "source": [
    "# Frequency dynamics tests:\n",
    "\n",
    "blenders_id = ['697151','766935','697145','766944','697149','766929','697160','697147','697156','766940','697153','697144','697146','766936','697157']\n",
    "t_sleep = 2400\n",
    "\n",
    "allOn = STDInterface(cookie=cookie).post_devices_command_all(value='on')\n",
    "print(allOn)\n",
    "print('All ON')\n",
    "\n",
    "# print('Going to sleep for[s]... ', t_sleep)\n",
    "# time.sleep(t_sleep)\n",
    "print('Going to sleep for[s] 60sec ')\n",
    "time.sleep(60)\n",
    "\n",
    "allOn = STDInterface(cookie=cookie).post_devices_command_all(command='setfreq', value='40')\n",
    "print(allOn)\n",
    "print('All 40Hz')\n",
    "\n",
    "print('Going to sleep for[s]... ', t_sleep)\n",
    "time.sleep(t_sleep)\n",
    "\n",
    "\n",
    "allOn = STDInterface(cookie=cookie).post_devices_command_all(command='setfreq', value='50')\n",
    "print(allOn)\n",
    "print('All 50Hz')\n",
    "\n",
    "print('Going to sleep for[s]... ', t_sleep)\n",
    "time.sleep(t_sleep)\n",
    "\n",
    "allOn = STDInterface(cookie=cookie).post_devices_command_all(command='setfreq', value='60')\n",
    "print(allOn)\n",
    "print('All 60Hz')\n",
    "\n"
   ]
  },
  {
   "cell_type": "code",
   "execution_count": 30,
   "metadata": {},
   "outputs": [
    {
     "name": "stderr",
     "output_type": "stream",
     "text": [
      "/anaconda2/envs/venv_egauge/lib/python3.7/site-packages/urllib3/connectionpool.py:847: InsecureRequestWarning: Unverified HTTPS request is being made. Adding certificate verification is strongly advised. See: https://urllib3.readthedocs.io/en/latest/advanced-usage.html#ssl-warnings\n",
      "  InsecureRequestWarning)\n"
     ]
    },
    {
     "name": "stdout",
     "output_type": "stream",
     "text": [
      "<Response [200]>\n"
     ]
    }
   ],
   "source": [
    "allOn = STDInterface(cookie=cookie).post_devices_command_all(value='off')\n",
    "print(allOn)"
   ]
  },
  {
   "cell_type": "code",
   "execution_count": 14,
   "metadata": {},
   "outputs": [
    {
     "name": "stderr",
     "output_type": "stream",
     "text": [
      "/anaconda2/envs/venv_egauge/lib/python3.7/site-packages/urllib3/connectionpool.py:847: InsecureRequestWarning: Unverified HTTPS request is being made. Adding certificate verification is strongly advised. See: https://urllib3.readthedocs.io/en/latest/advanced-usage.html#ssl-warnings\n",
      "  InsecureRequestWarning)\n"
     ]
    },
    {
     "name": "stdout",
     "output_type": "stream",
     "text": [
      "{\"serial_number\":697151,\"time\":\"2019-07-18T20:14:18Z\",\"dcv\":395,\"dcc\":3.319999933242798,\"frq\":60,\"btp\":53,\"pvc\":7.46999979019165,\"pvv\":173,\"igtp\":48,\"a1\":0.019999999552965164,\"a2\":30.34000015258789,\"a3\":32.15999984741211,\"a4\":3.2300000190734863,\"total_power\":1311.4000244140625,\"grid_power\":19.09000015258789,\"pv_power\":1292.31005859375,\"ambient_temp\":0}\n",
      "\n"
     ]
    },
    {
     "name": "stderr",
     "output_type": "stream",
     "text": [
      "/anaconda2/envs/venv_egauge/lib/python3.7/site-packages/urllib3/connectionpool.py:847: InsecureRequestWarning: Unverified HTTPS request is being made. Adding certificate verification is strongly advised. See: https://urllib3.readthedocs.io/en/latest/advanced-usage.html#ssl-warnings\n",
      "  InsecureRequestWarning)\n"
     ]
    }
   ],
   "source": [
    "dev_id = '697151'\n",
    "status_endpoint = '/api/device/'\n",
    "session = requests.Session()\n",
    "resp = session.post('https://test.suntechdrive.com'+'/api/login', data = credentials, verify=False)\n",
    "\n",
    "cookie = session.cookies.get_dict()\n",
    "resp = requests.get('https://test.suntechdrive.com'+status_endpoint+dev_id, cookies=cookie,verify=False) # Remove verify=False -> using this to bypass computer firewall\n",
    "print(resp.text)\n"
   ]
  },
  {
   "cell_type": "code",
   "execution_count": null,
   "metadata": {},
   "outputs": [],
   "source": []
  }
 ],
 "metadata": {
  "kernelspec": {
   "display_name": "Python 3",
   "language": "python",
   "name": "python3"
  },
  "language_info": {
   "codemirror_mode": {
    "name": "ipython",
    "version": 3
   },
   "file_extension": ".py",
   "mimetype": "text/x-python",
   "name": "python",
   "nbconvert_exporter": "python",
   "pygments_lexer": "ipython3",
   "version": "3.7.1"
  }
 },
 "nbformat": 4,
 "nbformat_minor": 2
}
