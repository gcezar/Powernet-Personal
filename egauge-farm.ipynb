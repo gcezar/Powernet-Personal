{
 "cells": [
  {
   "cell_type": "code",
   "execution_count": 1,
   "metadata": {},
   "outputs": [],
   "source": [
    "import datetime\n",
    "from xml.etree import ElementTree as ET\n",
    "import requests\n",
    "from requests.auth import HTTPDigestAuth\n",
    "import numpy as np\n",
    "import time\n",
    "import json"
   ]
  },
  {
   "cell_type": "code",
   "execution_count": 2,
   "metadata": {},
   "outputs": [],
   "source": [
    "# Most likely will need to add more key variables. Need to move two CT's from the 480 circuit to the 240V and then we can work only with one e-gauge\n",
    "\n",
    "# If power is negative it means it is consuming power from grid\n",
    "class EgaugeInterface():\n",
    "    \n",
    "    def __init__(self, url = None, username = None, password = None, t_sample = 5):\n",
    "        # Initializing credentials\n",
    "        self.url = url\n",
    "        self.username = username\n",
    "        self.password = password\n",
    "        \n",
    "        # Initializing parameters\n",
    "        self.t_sample = t_sample\n",
    "        self.keys = ['L1 Voltage', 'L2 Voltage', 'Power Circuit 1', 'Power Circuit 1*', 'Power Circuit 2',\n",
    "                'Power Circuit 2*', 'Power Circuit 1 neutral', 'Shed Power', 'Control Fan Power', 'Control Fan Power*', 'ts']\n",
    "        \n",
    "        \n",
    "    # Function to get and format e-gauge data\n",
    "    def get_egauge_data(self, request):\n",
    "        power_values = dict.fromkeys(self.keys, None)\n",
    "        root = ET.fromstring(request.text)\n",
    "        timestamp  = root.findtext(\"ts\")\n",
    "        \n",
    "        if timestamp != None:\n",
    "            for r in root.findall('r'):\n",
    "                for child in r:\n",
    "                    if r.get('n') == 'L1 Voltage':\n",
    "                        power_values['L1 Voltage'] = (int(child.text))\n",
    "                    elif r.get('n') == 'L2 Voltage':\n",
    "                        power_values['L2 Voltage'] = (int(child.text))\n",
    "                    elif r.get('n') == 'Power Circuit 1':\n",
    "                        power_values['Power Circuit 1'] = (int(child.text))\n",
    "                    elif r.get('n') == 'Power Circuit 1*':\n",
    "                        power_values['Power Circuit 1*'] = (int(child.text))\n",
    "                    elif r.get('n') == 'Power Circuit 2':\n",
    "                        power_values['Power Circuit 2'] = (int(child.text))\n",
    "                    elif r.get('n') == 'Power Circuit 2*':\n",
    "                        power_values['Power Circuit 2*'] = (int(child.text))\n",
    "                    elif r.get('n') == 'Power Circuit 1 neutral':\n",
    "                        power_values['Power Circuit 1 neutral'] = (int(child.text))\n",
    "                    elif r.get('n') == 'Shed Power':\n",
    "                        power_values['Shed Power'] = (int(child.text))\n",
    "                    elif r.get('n') == 'Control Fan Power':\n",
    "                        power_values['Control Fan Power'] = (int(child.text))\n",
    "                    elif r.get('n') == 'Control Fan Power*':\n",
    "                        power_values['Control Fan Power*'] = (int(child.text))\n",
    "\n",
    "            power_values['ts'] = int(timestamp)\n",
    "        \n",
    "        else:\n",
    "            print('No values from request')\n",
    "            \n",
    "        return power_values\n",
    "\n",
    "    \n",
    "    # Function to process data from e-gauge and convert to useful power values\n",
    "    def processing_egauge_data(self):\n",
    "        power_values = dict.fromkeys(self.keys, None)\n",
    "        try:\n",
    "            resp = requests.get(self.url, auth=HTTPDigestAuth(self.username, self.password))\n",
    "            resp.raise_for_status()\n",
    "            data_ini = self.get_egauge_data(resp)\n",
    "      \n",
    "        except requests.exceptions.HTTPError as err:\n",
    "            print(err)\n",
    "            return json.dumps(power_values)\n",
    "\n",
    "        time.sleep(self.t_sample)\n",
    "\n",
    "        try:\n",
    "            resp = requests.get(self.url, auth=HTTPDigestAuth(self.username, self.password))\n",
    "            resp.raise_for_status()\n",
    "            data_end = self.get_egauge_data(resp)\n",
    "\n",
    "        except requests.exceptions.HTTPError as err:\n",
    "            print(err)\n",
    "            return json.dumps(power_values)\n",
    "\n",
    "        \n",
    "        ts_delta = data_end['ts'] - data_ini['ts']\n",
    "        try:\n",
    "            power_values['ts'] = datetime.datetime.fromtimestamp(int(data_end['ts'])).strftime('%Y-%m-%d %H:%M:%S')\n",
    "            power_values['L1 Voltage'] = ((data_end['L1 Voltage'] - data_ini['L1 Voltage'])/ts_delta)/1000\n",
    "            power_values['L2 Voltage'] = ((data_end['L2 Voltage'] - data_ini['L2 Voltage'])/ts_delta)/1000\n",
    "            power_values['Power Circuit 1'] = (data_end['Power Circuit 1'] - data_ini['Power Circuit 1'])/ts_delta\n",
    "            power_values['Power Circuit 1*'] = (data_end['Power Circuit 1*'] - data_ini['Power Circuit 1*'])/ts_delta\n",
    "            power_values['Power Circuit 2'] = (data_end['Power Circuit 2'] - data_ini['Power Circuit 2'])/ts_delta\n",
    "            power_values['Power Circuit 2*'] = (data_end['Power Circuit 2*'] - data_ini['Power Circuit 2*'])/ts_delta\n",
    "            power_values['Power Circuit 1 neutral'] = (data_end['Power Circuit 1 neutral'] - data_ini['Power Circuit 1 neutral'])/ts_delta\n",
    "            power_values['Shed Power'] = (data_end['Shed Power'] - data_ini['Shed Power'])/ts_delta\n",
    "            power_values['Control Fan Power'] = (data_end['Control Fan Power'] - data_ini['Control Fan Power'])/ts_delta\n",
    "            power_values['Control Fan Power*'] = (data_end['Control Fan Power*'] - data_ini['Control Fan Power*'])/ts_delta\n",
    "\n",
    "            json_dict = json.dumps(power_values)\n",
    "            print('Data Dict: ', json_dict)\n",
    "            return json.dumps(power_values)\n",
    "            \n",
    "        except Exception as e:\n",
    "            print('Error retrieving data from E-Gauge API: ', e)\n",
    "            return None\n"
   ]
  },
  {
   "cell_type": "code",
   "execution_count": 3,
   "metadata": {},
   "outputs": [
    {
     "name": "stdout",
     "output_type": "stream",
     "text": [
      "Error retrieving data from E-Gauge API:  unsupported operand type(s) for -: 'NoneType' and 'NoneType'\n"
     ]
    }
   ],
   "source": [
    "# url = 'http://stanford002.egaug.es/cgi-bin/egauge?param'\n",
    "# user = 'test'\n",
    "# password = 'testhh'\n",
    "\n",
    "# user480 = 'owner'\n",
    "# password480 = 'szk87P57GW'\n",
    "# url480 = 'https://egauge48709.egaug.es/cgi-bin/egauge?param'\n",
    "\n",
    "user240 = 'owner'\n",
    "password240 = 'SuXbc58vi9'\n",
    "url240 = 'https://egauge46613.egaug.es/cgi-bin/egauge'\n",
    "\n",
    "power = EgaugeInterface(url=url240, username=user240, password=password240).processing_egauge_data()\n",
    "# power = EgaugeInterface(url=url480, username=user480, password=password480).processing_egauge_data()"
   ]
  },
  {
   "cell_type": "code",
   "execution_count": 11,
   "metadata": {},
   "outputs": [
    {
     "data": {
      "text/plain": [
       "'{\"L1 Voltage\": 236.823, \"L2 Voltage\": 237.981, \"Power Circuit 1\": 2738.0, \"Power Circuit 1*\": 6208.0, \"Power Circuit 2\": 2385.0, \"Power Circuit 2*\": 4746.0, \"Power Circuit 1 neutral\": 2463.0, \"Shed Power\": -58.0, \"Control Fan Power\": 9216.0, \"Control Fan Power*\": 19753.0, \"ts\": \"2019-06-24 17:46:20\"}'"
      ]
     },
     "execution_count": 11,
     "metadata": {},
     "output_type": "execute_result"
    }
   ],
   "source": [
    "power"
   ]
  },
  {
   "cell_type": "code",
   "execution_count": 13,
   "metadata": {},
   "outputs": [
    {
     "data": {
      "text/plain": [
       "2"
      ]
     },
     "execution_count": 13,
     "metadata": {},
     "output_type": "execute_result"
    }
   ],
   "source": [
    "int(2.3)"
   ]
  },
  {
   "cell_type": "code",
   "execution_count": 28,
   "metadata": {},
   "outputs": [
    {
     "ename": "TypeError",
     "evalue": "Object of type set is not JSON serializable",
     "output_type": "error",
     "traceback": [
      "\u001b[0;31m---------------------------------------------------------------------------\u001b[0m",
      "\u001b[0;31mTypeError\u001b[0m                                 Traceback (most recent call last)",
      "\u001b[0;32m<ipython-input-28-ed8afadff3b5>\u001b[0m in \u001b[0;36m<module>\u001b[0;34m\u001b[0m\n\u001b[0;32m----> 1\u001b[0;31m \u001b[0ma\u001b[0m \u001b[0;34m=\u001b[0m \u001b[0mjson\u001b[0m\u001b[0;34m.\u001b[0m\u001b[0mdumps\u001b[0m\u001b[0;34m(\u001b[0m\u001b[0;34m{\u001b[0m\u001b[0;32mNone\u001b[0m\u001b[0;34m}\u001b[0m\u001b[0;34m)\u001b[0m\u001b[0;34m\u001b[0m\u001b[0;34m\u001b[0m\u001b[0m\n\u001b[0m",
      "\u001b[0;32m/anaconda2/envs/venv_egauge/lib/python3.7/json/__init__.py\u001b[0m in \u001b[0;36mdumps\u001b[0;34m(obj, skipkeys, ensure_ascii, check_circular, allow_nan, cls, indent, separators, default, sort_keys, **kw)\u001b[0m\n\u001b[1;32m    229\u001b[0m         \u001b[0mcls\u001b[0m \u001b[0;32mis\u001b[0m \u001b[0;32mNone\u001b[0m \u001b[0;32mand\u001b[0m \u001b[0mindent\u001b[0m \u001b[0;32mis\u001b[0m \u001b[0;32mNone\u001b[0m \u001b[0;32mand\u001b[0m \u001b[0mseparators\u001b[0m \u001b[0;32mis\u001b[0m \u001b[0;32mNone\u001b[0m \u001b[0;32mand\u001b[0m\u001b[0;34m\u001b[0m\u001b[0;34m\u001b[0m\u001b[0m\n\u001b[1;32m    230\u001b[0m         default is None and not sort_keys and not kw):\n\u001b[0;32m--> 231\u001b[0;31m         \u001b[0;32mreturn\u001b[0m \u001b[0m_default_encoder\u001b[0m\u001b[0;34m.\u001b[0m\u001b[0mencode\u001b[0m\u001b[0;34m(\u001b[0m\u001b[0mobj\u001b[0m\u001b[0;34m)\u001b[0m\u001b[0;34m\u001b[0m\u001b[0;34m\u001b[0m\u001b[0m\n\u001b[0m\u001b[1;32m    232\u001b[0m     \u001b[0;32mif\u001b[0m \u001b[0mcls\u001b[0m \u001b[0;32mis\u001b[0m \u001b[0;32mNone\u001b[0m\u001b[0;34m:\u001b[0m\u001b[0;34m\u001b[0m\u001b[0;34m\u001b[0m\u001b[0m\n\u001b[1;32m    233\u001b[0m         \u001b[0mcls\u001b[0m \u001b[0;34m=\u001b[0m \u001b[0mJSONEncoder\u001b[0m\u001b[0;34m\u001b[0m\u001b[0;34m\u001b[0m\u001b[0m\n",
      "\u001b[0;32m/anaconda2/envs/venv_egauge/lib/python3.7/json/encoder.py\u001b[0m in \u001b[0;36mencode\u001b[0;34m(self, o)\u001b[0m\n\u001b[1;32m    197\u001b[0m         \u001b[0;31m# exceptions aren't as detailed.  The list call should be roughly\u001b[0m\u001b[0;34m\u001b[0m\u001b[0;34m\u001b[0m\u001b[0;34m\u001b[0m\u001b[0m\n\u001b[1;32m    198\u001b[0m         \u001b[0;31m# equivalent to the PySequence_Fast that ''.join() would do.\u001b[0m\u001b[0;34m\u001b[0m\u001b[0;34m\u001b[0m\u001b[0;34m\u001b[0m\u001b[0m\n\u001b[0;32m--> 199\u001b[0;31m         \u001b[0mchunks\u001b[0m \u001b[0;34m=\u001b[0m \u001b[0mself\u001b[0m\u001b[0;34m.\u001b[0m\u001b[0miterencode\u001b[0m\u001b[0;34m(\u001b[0m\u001b[0mo\u001b[0m\u001b[0;34m,\u001b[0m \u001b[0m_one_shot\u001b[0m\u001b[0;34m=\u001b[0m\u001b[0;32mTrue\u001b[0m\u001b[0;34m)\u001b[0m\u001b[0;34m\u001b[0m\u001b[0;34m\u001b[0m\u001b[0m\n\u001b[0m\u001b[1;32m    200\u001b[0m         \u001b[0;32mif\u001b[0m \u001b[0;32mnot\u001b[0m \u001b[0misinstance\u001b[0m\u001b[0;34m(\u001b[0m\u001b[0mchunks\u001b[0m\u001b[0;34m,\u001b[0m \u001b[0;34m(\u001b[0m\u001b[0mlist\u001b[0m\u001b[0;34m,\u001b[0m \u001b[0mtuple\u001b[0m\u001b[0;34m)\u001b[0m\u001b[0;34m)\u001b[0m\u001b[0;34m:\u001b[0m\u001b[0;34m\u001b[0m\u001b[0;34m\u001b[0m\u001b[0m\n\u001b[1;32m    201\u001b[0m             \u001b[0mchunks\u001b[0m \u001b[0;34m=\u001b[0m \u001b[0mlist\u001b[0m\u001b[0;34m(\u001b[0m\u001b[0mchunks\u001b[0m\u001b[0;34m)\u001b[0m\u001b[0;34m\u001b[0m\u001b[0;34m\u001b[0m\u001b[0m\n",
      "\u001b[0;32m/anaconda2/envs/venv_egauge/lib/python3.7/json/encoder.py\u001b[0m in \u001b[0;36miterencode\u001b[0;34m(self, o, _one_shot)\u001b[0m\n\u001b[1;32m    255\u001b[0m                 \u001b[0mself\u001b[0m\u001b[0;34m.\u001b[0m\u001b[0mkey_separator\u001b[0m\u001b[0;34m,\u001b[0m \u001b[0mself\u001b[0m\u001b[0;34m.\u001b[0m\u001b[0mitem_separator\u001b[0m\u001b[0;34m,\u001b[0m \u001b[0mself\u001b[0m\u001b[0;34m.\u001b[0m\u001b[0msort_keys\u001b[0m\u001b[0;34m,\u001b[0m\u001b[0;34m\u001b[0m\u001b[0;34m\u001b[0m\u001b[0m\n\u001b[1;32m    256\u001b[0m                 self.skipkeys, _one_shot)\n\u001b[0;32m--> 257\u001b[0;31m         \u001b[0;32mreturn\u001b[0m \u001b[0m_iterencode\u001b[0m\u001b[0;34m(\u001b[0m\u001b[0mo\u001b[0m\u001b[0;34m,\u001b[0m \u001b[0;36m0\u001b[0m\u001b[0;34m)\u001b[0m\u001b[0;34m\u001b[0m\u001b[0;34m\u001b[0m\u001b[0m\n\u001b[0m\u001b[1;32m    258\u001b[0m \u001b[0;34m\u001b[0m\u001b[0m\n\u001b[1;32m    259\u001b[0m def _make_iterencode(markers, _default, _encoder, _indent, _floatstr,\n",
      "\u001b[0;32m/anaconda2/envs/venv_egauge/lib/python3.7/json/encoder.py\u001b[0m in \u001b[0;36mdefault\u001b[0;34m(self, o)\u001b[0m\n\u001b[1;32m    177\u001b[0m \u001b[0;34m\u001b[0m\u001b[0m\n\u001b[1;32m    178\u001b[0m         \"\"\"\n\u001b[0;32m--> 179\u001b[0;31m         raise TypeError(f'Object of type {o.__class__.__name__} '\n\u001b[0m\u001b[1;32m    180\u001b[0m                         f'is not JSON serializable')\n\u001b[1;32m    181\u001b[0m \u001b[0;34m\u001b[0m\u001b[0m\n",
      "\u001b[0;31mTypeError\u001b[0m: Object of type set is not JSON serializable"
     ]
    }
   ],
   "source": [
    "a = json.dumps(None)"
   ]
  },
  {
   "cell_type": "code",
   "execution_count": 25,
   "metadata": {},
   "outputs": [
    {
     "data": {
      "text/plain": [
       "'null'"
      ]
     },
     "execution_count": 25,
     "metadata": {},
     "output_type": "execute_result"
    }
   ],
   "source": [
    "a"
   ]
  },
  {
   "cell_type": "code",
   "execution_count": null,
   "metadata": {},
   "outputs": [],
   "source": [
    "(167538791)"
   ]
  },
  {
   "cell_type": "code",
   "execution_count": 1,
   "metadata": {},
   "outputs": [
    {
     "name": "stdout",
     "output_type": "stream",
     "text": [
      "0\n",
      "1\n"
     ]
    }
   ],
   "source": [
    "b=[0,1]\n",
    "for i in b:\n",
    "    print(i)"
   ]
  },
  {
   "cell_type": "code",
   "execution_count": null,
   "metadata": {},
   "outputs": [],
   "source": []
  }
 ],
 "metadata": {
  "kernelspec": {
   "display_name": "Python 3",
   "language": "python",
   "name": "python3"
  },
  "language_info": {
   "codemirror_mode": {
    "name": "ipython",
    "version": 3
   },
   "file_extension": ".py",
   "mimetype": "text/x-python",
   "name": "python",
   "nbconvert_exporter": "python",
   "pygments_lexer": "ipython3",
   "version": "3.7.1"
  }
 },
 "nbformat": 4,
 "nbformat_minor": 2
}
