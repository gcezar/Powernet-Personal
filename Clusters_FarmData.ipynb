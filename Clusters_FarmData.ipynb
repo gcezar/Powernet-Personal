{
 "cells": [
  {
   "cell_type": "code",
   "execution_count": 1,
   "metadata": {},
   "outputs": [],
   "source": [
    "import requests\n",
    "import pandas as pd\n",
    "import numpy as np\n",
    "from pandas.io.json import json_normalize\n",
    "import json\n",
    "from flatten_json import flatten\n",
    "\n",
    "# Plotting settings\n",
    "import mpld3\n",
    "mpld3.enable_notebook()\n",
    "%matplotlib notebook\n",
    "%matplotlib inline\n",
    "import matplotlib.pyplot as plt\n",
    "plt.rcParams[\"figure.figsize\"] = (15,5)"
   ]
  },
  {
   "cell_type": "code",
   "execution_count": 2,
   "metadata": {},
   "outputs": [],
   "source": [
    "class farm_data():\n",
    "    \n",
    "    def __init__(self, sensor_id, start_date, end_date, max_items = '1000', auth_token = None):\n",
    "        \n",
    "        self.dev_id = sensor_id\n",
    "        self.device_uid = 'device_uid='+self.dev_id+'&'\n",
    "        self.date = 'start_date='+start_date+'&'+'end_date='+end_date\n",
    "        self.limit = '&limit='+max_items\n",
    "        self.base_url = 'http://pwrnet-158117.appspot.com/api/v1/farm_device_data/?'\n",
    "        self.auth_token = 'adde8a3993d902769197c1db98a9ab0e88dce587'\n",
    "        self.headers = {'Authorization': 'Token ' + self.auth_token}\n",
    "        \n",
    "    def get_data(self, url=None):\n",
    "        # Check to see if id is valid\n",
    "        # The first case should not be none - it should be the url -> maybe remove the url=None\n",
    "        if url is None:\n",
    "            try:\n",
    "                resp = requests.get(self.base_url+self.device_uid+self.date+self.limit, headers=self.headers)\n",
    "                resp.raise_for_status()\n",
    "            except requests.exceptions.HTTPError as err:\n",
    "                return None\n",
    "        else:\n",
    "            try:\n",
    "                resp = requests.get(url, headers=self.headers)\n",
    "                resp.raise_for_status()\n",
    "            except requests.exceptions.HTTPError as err:\n",
    "                return None\n",
    "        \n",
    "        data = resp.json()['results']\n",
    "        if resp.json()['next'] is None:\n",
    "            return data\n",
    "        else:\n",
    "            return (data+self.get_data(url=resp.json()['next']))\n",
    "            \n",
    "            \n",
    "    def convert2pandas(self, raw_data):\n",
    "        dev_id = int(self.dev_id)\n",
    "        if raw_data is None:\n",
    "            print('No data collected')\n",
    "            return None\n",
    "        # Checking for Lora sensors - need to automate this in case the number of lora devices grow (pull info from FarmDevice endpoint or check what type of sensr the id corresponds to)\n",
    "        if dev_id < 24 and dev_id > 0:\n",
    "            data_flat = [flatten(json.loads(d['device_data'])) for d in raw_data]\n",
    "            return pd.DataFrame(data_flat)\n",
    "        # Checking for egauge\n",
    "        elif dev_id == 46613:\n",
    "            data_flat = [flatten(json.loads(d['device_data'])) for d in raw_data]\n",
    "            df = pd.DataFrame(data_flat)\n",
    "            return df[df.columns[~df.columns.str.contains('raw_')]] # returning only processed data\n",
    "        # Checking for battery\n",
    "        elif dev_id == 67682 or dev_id == 67670:\n",
    "            data_flat = [flatten(d['device_data']) for d in raw_data]\n",
    "            return pd.DataFrame(data_flat) \n",
    "        # Checking for STD\n",
    "        elif dev_id == 100000:\n",
    "            df_list = []\n",
    "            for d in raw_data:\n",
    "                df_list.append(pd.DataFrame(d['device_data']))\n",
    "            return pd.concat(df_list)\n",
    "        else:\n",
    "            print('No parsing available for this device ID')\n",
    "            return None\n"
   ]
  },
  {
   "cell_type": "code",
   "execution_count": 3,
   "metadata": {},
   "outputs": [],
   "source": [
    "# Getting data from STD\n",
    "std_object = farm_data('100000','2019-08-28', '2019-10-31', max_items = '1000')\n",
    "std_data = std_object.get_data()\n",
    "std_pd = std_object.convert2pandas(std_data)"
   ]
  },
  {
   "cell_type": "code",
   "execution_count": null,
   "metadata": {},
   "outputs": [],
   "source": []
  }
 ],
 "metadata": {
  "kernelspec": {
   "display_name": "Python 3",
   "language": "python",
   "name": "python3"
  },
  "language_info": {
   "codemirror_mode": {
    "name": "ipython",
    "version": 3
   },
   "file_extension": ".py",
   "mimetype": "text/x-python",
   "name": "python",
   "nbconvert_exporter": "python",
   "pygments_lexer": "ipython3",
   "version": "3.7.1"
  }
 },
 "nbformat": 4,
 "nbformat_minor": 2
}
