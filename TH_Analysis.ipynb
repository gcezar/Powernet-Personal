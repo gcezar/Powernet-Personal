{
 "cells": [
  {
   "cell_type": "code",
   "execution_count": 3,
   "metadata": {},
   "outputs": [],
   "source": [
    "import requests\n",
    "import pandas as pd\n",
    "import numpy as np\n",
    "from pandas.io.json import json_normalize\n",
    "import json\n",
    "from flatten_json import flatten\n",
    "import datetime\n",
    "import time\n",
    "import seaborn as sns\n",
    "\n",
    "# Plotting settings\n",
    "import mpld3\n",
    "mpld3.enable_notebook()\n",
    "%matplotlib notebook\n",
    "%matplotlib inline\n",
    "import matplotlib.pyplot as plt\n",
    "plt.rcParams[\"figure.figsize\"] = (15,5)"
   ]
  },
  {
   "cell_type": "code",
   "execution_count": 4,
   "metadata": {},
   "outputs": [],
   "source": [
    "class th_analysis():\n",
    "    def __init__(self, filename):\n",
    "        self.data = pd.read_csv(filename, sep=';')\n",
    "    \n",
    "    def get_th_dataframe(self):\n",
    "        cols = self.data.columns\n",
    "        self.data['Time'] = pd.to_datetime(self.data['Time'], utc=True)\n",
    "        self.data.set_index('Time', inplace=True)\n",
    "        self.data.index = self.data.index.tz_convert('America/Los_Angeles')\n",
    "        self.data = self.data.sort_index()\n",
    "#         self.data.set_index('Time', inplace=True)\n",
    "        mask_t = self.data['Series'] == 'iot-devices.Temp1'\n",
    "        mask_h = self.data['Series'] == 'iot-devices.Hum'\n",
    "        return [self.data[mask_t], self.data[mask_h]]\n",
    "    \n",
    "    def daily_calculations(self, df):\n",
    "        df_list = [group[1] for group in df.groupby(df.index.day)]    # split month into days\n",
    "        day_time = {'morning':[datetime.time(6),datetime.time(12)], 'afternoon':[datetime.time(12),datetime.time(18)], 'evening':[datetime.time(18),datetime.time(0)], 'night':[datetime.time(0),datetime.time(6)]}\n",
    "        output = {}\n",
    "        for i in df_list:\n",
    "            output[i.index.day[-1]] = [[i.between_time(day_time['morning'][0], day_time['morning'][1]).mean(), \n",
    "                                      i.between_time(day_time['afternoon'][0], day_time['afternoon'][1]).mean(),\n",
    "                                     i.between_time(day_time['evening'][0], day_time['evening'][1]).mean(),\n",
    "                                     i.between_time(day_time['night'][0], day_time['night'][1]).mean()],\n",
    "                                     [i.between_time(day_time['morning'][0], day_time['morning'][1]).std(), \n",
    "                                      i.between_time(day_time['afternoon'][0], day_time['afternoon'][1]).std(),\n",
    "                                     i.between_time(day_time['evening'][0], day_time['evening'][1]).std(),\n",
    "                                     i.between_time(day_time['night'][0], day_time['night'][1]).std()]]\n",
    "        return output\n",
    "    \n",
    "    def daily_calculations_hourly(self, df):\n",
    "        df = df.resample('H').mean()\n",
    "        df_list = [group[1] for group in df.groupby(df.index.day)]    # split month into days\n",
    "        output = {}\n",
    "        for i in df_list:\n",
    "            output[i.index.day[-1]] = i\n",
    "        return output\n",
    "        \n",
    "    "
   ]
  },
  {
   "cell_type": "code",
   "execution_count": 61,
   "metadata": {},
   "outputs": [],
   "source": [
    "def daily_calculations1(df):\n",
    "    df = df.resample('H').mean()\n",
    "    df_list = [group[1] for group in df.groupby(df.index.day)]    # split month into days\n",
    "    output = {}\n",
    "    for i in df_list:\n",
    "        output[i.index.day[-1]] = i\n",
    "    return output\n",
    "\n",
    "\n",
    "sensors = np.array(range(0,16))\n",
    "temp_data = []\n",
    "hum_data = []\n",
    "\n",
    "output = {}\n",
    "for i in sensors:\n",
    "    obj = th_analysis('lora/june/grafana_data_export ('+str(i)+').csv')\n",
    "    data = obj.get_th_dataframe()\n",
    "    df_t = data[0]\n",
    "    df_h = data[1]\n",
    "    temp_data.append(daily_calculations1(df_t))\n",
    "    hum_data.append(daily_calculations1(df_h))\n",
    "\n",
    "sensors_data = {'Temp':temp_data, 'Hum':hum_data}    # temp_data -> sensor_id -> days -> values (m,a,e,n)\n",
    "\n",
    "end_day = max(list(sensors_data['Temp'][0]))\n",
    "i = min(list(sensors_data['Temp'][0]))\n",
    "i = i+1\n",
    "daily_data = []\n",
    "for s in sensors_data['Temp']:\n",
    "    daily_data.append(s[i])\n",
    "\n",
    "# sensor_list = []\n",
    "# for i in range(0,16):\n",
    "#     sensor_list.append('S'+str(i))\n",
    "\n",
    "# daily_data\n"
   ]
  },
  {
   "cell_type": "code",
   "execution_count": 99,
   "metadata": {},
   "outputs": [
    {
     "data": {
      "text/plain": [
       "Time\n",
       "2019-06-04 00:00:00-07:00     72.280\n",
       "2019-06-04 01:00:00-07:00     71.180\n",
       "2019-06-04 02:00:00-07:00     69.800\n",
       "2019-06-04 03:00:00-07:00     69.065\n",
       "2019-06-04 04:00:00-07:00     67.835\n",
       "2019-06-04 05:00:00-07:00     67.445\n",
       "2019-06-04 06:00:00-07:00     70.790\n",
       "2019-06-04 07:00:00-07:00     72.950\n",
       "2019-06-04 08:00:00-07:00     77.195\n",
       "2019-06-04 09:00:00-07:00     81.155\n",
       "2019-06-04 10:00:00-07:00     85.010\n",
       "2019-06-04 11:00:00-07:00     87.245\n",
       "2019-06-04 12:00:00-07:00     90.365\n",
       "2019-06-04 13:00:00-07:00     92.465\n",
       "2019-06-04 14:00:00-07:00     94.505\n",
       "2019-06-04 15:00:00-07:00     96.680\n",
       "2019-06-04 16:00:00-07:00    103.385\n",
       "2019-06-04 17:00:00-07:00    112.415\n",
       "2019-06-04 18:00:00-07:00    108.380\n",
       "2019-06-04 19:00:00-07:00    101.630\n",
       "2019-06-04 20:00:00-07:00     87.365\n",
       "2019-06-04 21:00:00-07:00     82.715\n",
       "2019-06-04 22:00:00-07:00     80.045\n",
       "2019-06-04 23:00:00-07:00     77.240\n",
       "Freq: H, Name: Value, dtype: float64"
      ]
     },
     "execution_count": 99,
     "metadata": {},
     "output_type": "execute_result"
    }
   ],
   "source": [
    "# test_df = pd.DataFrame(daily_data[0])\n",
    "daily_data[0]['Value']\n",
    "# ind = test_df.index\n",
    "# values = []\n",
    "# for i in daily_data:\n",
    "#     val.append(i.values)\n",
    "\n",
    "\n",
    "# sensors_data['Temp']\n",
    "# i\n",
    "# temp_data[0][3]\n"
   ]
  },
  {
   "cell_type": "markdown",
   "metadata": {},
   "source": [
    "# Temperature - June"
   ]
  },
  {
   "cell_type": "code",
   "execution_count": 12,
   "metadata": {},
   "outputs": [
    {
     "data": {
      "text/plain": [
       "<matplotlib.axes._subplots.AxesSubplot at 0x119666fd0>"
      ]
     },
     "execution_count": 12,
     "metadata": {},
     "output_type": "execute_result"
    },
    {
     "data": {
      "image/png": "[encoded data removed]",
      "text/plain": [
       "<Figure size 1080x360 with 2 Axes>"
      ]
     },
     "metadata": {
      "needs_background": "light"
     },
     "output_type": "display_data"
    }
   ],
   "source": [
    "sensors = np.array(range(0,16))\n",
    "temp_data = []\n",
    "hum_data = []\n",
    "\n",
    "for i in sensors:\n",
    "    obj = th_analysis('lora/june/grafana_data_export ('+str(i)+').csv')\n",
    "    data = obj.get_th_dataframe()\n",
    "    df_t = data[0]\n",
    "    df_h = data[1]\n",
    "    # df_t.head()\n",
    "    # print(df_t.index.is_unique)\n",
    "    temp_data.append(obj.daily_calculations(df_t))\n",
    "    hum_data.append(obj.daily_calculations(df_h))\n",
    "\n",
    "sensors_data = {'Temp':temp_data, 'Hum':hum_data}    # temp_data -> sensor_id -> days -> values (m,a,e,n)\n",
    "\n",
    "end_day = max(list(sensors_data['Temp'][0]))\n",
    "i = min(list(sensors_data['Temp'][0]))\n",
    "i = i+1\n",
    "diff_daily = {}\n",
    "while i < end_day+1:\n",
    "    daily_data = []\n",
    "    for s in sensors_data['Temp']:\n",
    "        daily_data.append(s[i][0])\n",
    "\n",
    "    diff_temp = []\n",
    "    for d in daily_data:\n",
    "        base = np.array(d[1])\n",
    "        diff_temp.append(np.array(d)-np.array(daily_data[1]))\n",
    "\n",
    "    diff_daily[i] = diff_temp\n",
    "    i = i+1\n",
    "    \n",
    "        \n",
    "day_values = list(diff_daily.values())[0]\n",
    "morning = []\n",
    "afternoon = []\n",
    "evening = []\n",
    "night = []\n",
    "sensor_list = []\n",
    "for i in range(0,16):\n",
    "    sensor_list.append('S'+str(i))\n",
    "sensor_list\n",
    "\n",
    "# Build heat map\n",
    "\n",
    "for i in day_values:\n",
    "    morning.append(i[0][0])\n",
    "    afternoon.append(i[1][0])\n",
    "    evening.append(i[2][0])\n",
    "    night.append(i[3][0])\n",
    "df_daily = pd.DataFrame({'morning': morning, 'afternoon':afternoon, 'evening':evening, 'night':night, 'sensor':sensor_list})\n",
    "\n",
    "\n",
    "        \n",
    "# time_of_day = ['morning']*16 + ['afternoon']*16 + ['evening']*16 + ['night']*16\n",
    "time_of_day = ['0000-0600']*16 + ['0600-1200']*16 + ['1200-1800']*16 + ['1800-0000']*16\n",
    "data = df_daily['night'].tolist()+df_daily['morning'].tolist()+df_daily['afternoon'].tolist()+df_daily['evening'].tolist()\n",
    "# data = df_daily['morning'].tolist()+df_daily['afternoon'].tolist()+df_daily['evening'].tolist()+df_daily['night'].tolist()\n",
    "sensor = []\n",
    "for i in range(1,17):\n",
    "    if i < 10:\n",
    "        sensor.append('S0'+str(i))\n",
    "    else:\n",
    "        sensor.append('S'+str(i))\n",
    "    \n",
    "sensor = sensor*4\n",
    "d = {'time_of_day':time_of_day, 'data':data, 'sensor':sensor}\n",
    "df_hm = pd.DataFrame(d)\n",
    "heatmap1_data = pd.pivot_table(df_hm, values='data', \n",
    "                     index=['time_of_day'], \n",
    "                     columns='sensor')\n",
    "\n",
    "        \n",
    "sns.heatmap(heatmap1_data, cmap=\"RdBu_r\")"
   ]
  },
  {
   "cell_type": "markdown",
   "metadata": {},
   "source": [
    "# Humidity - June"
   ]
  },
  {
   "cell_type": "code",
   "execution_count": 5,
   "metadata": {},
   "outputs": [],
   "source": [
    "# daily_data\n",
    "# sensors_data['Hum']\n",
    "# diff_temp\n",
    "# day_values = list(diff_daily.values())[0]\n",
    "# day_values1\n",
    "# daily_data[0][0]"
   ]
  },
  {
   "cell_type": "code",
   "execution_count": 33,
   "metadata": {},
   "outputs": [],
   "source": [
    "# day_values"
   ]
  },
  {
   "cell_type": "code",
   "execution_count": 30,
   "metadata": {},
   "outputs": [
    {
     "name": "stdout",
     "output_type": "stream",
     "text": [
      "16\n",
      "16\n",
      "16\n",
      "16\n"
     ]
    }
   ],
   "source": [
    "sensors = np.array(range(0,16))\n",
    "temp_data = []\n",
    "hum_data = []\n",
    "\n",
    "for i in sensors:\n",
    "    obj = th_analysis('lora/june/grafana_data_export ('+str(i)+').csv')\n",
    "    data = obj.get_th_dataframe()\n",
    "    df_t = data[0]\n",
    "    df_h = data[1]\n",
    "    # df_t.head()\n",
    "    # print(df_t.index.is_unique)\n",
    "    temp_data.append(obj.daily_calculations(df_t))\n",
    "    hum_data.append(obj.daily_calculations(df_h))\n",
    "\n",
    "sensors_data = {'Temp':temp_data, 'Hum':hum_data}    # temp_data -> sensor_id -> days -> values (m,a,e,n)\n",
    "\n",
    "end_day = max(list(sensors_data['Hum'][0]))\n",
    "i = min(list(sensors_data['Hum'][0]))\n",
    "i = i+1\n",
    "diff_daily = {}\n",
    "# while i < end_day+1:\n",
    "i=4\n",
    "daily_data = []\n",
    "for s in sensors_data['Hum']:\n",
    "    daily_data.append(s[i][0])\n",
    "\n",
    "diff_temp = []\n",
    "for d in daily_data:\n",
    "    base = np.array(d[1])\n",
    "    diff_temp.append(np.array(d)-np.array(daily_data[1]))\n",
    "\n",
    "diff_daily[i] = diff_temp\n",
    "i = i+1\n",
    "\n",
    "morning = []\n",
    "afternoon = []\n",
    "evening = []\n",
    "night = []\n",
    "sensor_list = []\n",
    "for i in range(0,16):\n",
    "    sensor_list.append('S'+str(i))\n",
    "sensor_list\n",
    "for i in daily_data:\n",
    "    morning.append(i[0].values[0])\n",
    "    afternoon.append(i[1].values[0])\n",
    "    evening.append(i[2].values[0])\n",
    "    night.append(i[3].values[0])\n",
    "\n",
    "# print(len(morning))\n",
    "# print(len(afternoon))\n",
    "# print(len(evening))\n",
    "# print(len(night))\n",
    "df_daily = pd.DataFrame({'morning': morning, 'afternoon':afternoon, 'evening':evening, 'night':night, 'sensor':sensor_list})\n",
    "\n",
    "\n",
    "        \n",
    "# time_of_day = ['morning']*16 + ['afternoon']*16 + ['evening']*16 + ['night']*16\n",
    "time_of_day = ['0000-0600']*16 + ['0600-1200']*16 + ['1200-1800']*16 + ['1800-0000']*16\n",
    "data = df_daily['night'].tolist()+df_daily['morning'].tolist()+df_daily['afternoon'].tolist()+df_daily['evening'].tolist()\n",
    "# data = df_daily['morning'].tolist()+df_daily['afternoon'].tolist()+df_daily['evening'].tolist()+df_daily['night'].tolist()\n",
    "sensor = []\n",
    "for i in range(1,17):\n",
    "    if i < 10:\n",
    "        sensor.append('S0'+str(i))\n",
    "    else:\n",
    "        sensor.append('S'+str(i))\n",
    "    \n",
    "sensor = sensor*4\n",
    "d = {'time_of_day':time_of_day, 'data':data, 'sensor':sensor}\n",
    "df_hm = pd.DataFrame(d)\n",
    "heatmap1_data = pd.pivot_table(df_hm, values='data', \n",
    "                     index=['time_of_day'], \n",
    "                     columns='sensor')\n",
    "\n",
    "        \n",
    "sns.heatmap(heatmap1_data, cmap=\"RdBu_r\")"
   ]
  },
  {
   "cell_type": "code",
   "execution_count": 32,
   "metadata": {},
   "outputs": [
    {
     "data": {
      "text/plain": [
       "<matplotlib.axes._subplots.AxesSubplot at 0x1278a8190>"
      ]
     },
     "execution_count": 32,
     "metadata": {},
     "output_type": "execute_result"
    },
    {
     "data": {
      "image/png": "[encoded data removed]",
      "text/plain": [
       "<Figure size 1080x360 with 2 Axes>"
      ]
     },
     "metadata": {
      "needs_background": "light"
     },
     "output_type": "display_data"
    }
   ],
   "source": [
    "# morning[0].values[0]\n",
    "# daily_data[0][0].values[0]\n",
    "# df_hm.head()\n",
    "heatmap1_data = pd.pivot_table(df_hm, values='data', \n",
    "                     index=['time_of_day'], \n",
    "                     columns='sensor')\n",
    "\n",
    "        \n",
    "sns.heatmap(heatmap1_data, cmap=\"RdBu_r\")"
   ]
  },
  {
   "cell_type": "code",
   "execution_count": 21,
   "metadata": {},
   "outputs": [
    {
     "data": {
      "text/plain": [
       "<matplotlib.axes._subplots.AxesSubplot at 0x11b897df0>"
      ]
     },
     "execution_count": 21,
     "metadata": {},
     "output_type": "execute_result"
    },
    {
     "data": {
      "image/png": "[encoded data removed]",
      "text/plain": [
       "<Figure size 1080x360 with 2 Axes>"
      ]
     },
     "metadata": {
      "needs_background": "light"
     },
     "output_type": "display_data"
    }
   ],
   "source": [
    "sensors = np.array(range(0,16))\n",
    "temp_data = []\n",
    "hum_data = []\n",
    "\n",
    "for i in sensors:\n",
    "    obj = th_analysis('lora/july/grafana_data_export ('+str(i)+').csv')\n",
    "    data = obj.get_th_dataframe()\n",
    "    df_t = data[0]\n",
    "    df_h = data[1]\n",
    "    # df_t.head()\n",
    "    # print(df_t.index.is_unique)\n",
    "    temp_data.append(obj.daily_calculations(df_t))\n",
    "    hum_data.append(obj.daily_calculations(df_h))\n",
    "\n",
    "sensors_data = {'Temp':temp_data, 'Hum':hum_data}    # temp_data -> sensor_id -> days -> values (m,a,e,n)\n",
    "\n",
    "end_day = max(list(sensors_data['Temp'][0]))\n",
    "i = min(list(sensors_data['Temp'][0]))\n",
    "i = i+1\n",
    "diff_daily = {}\n",
    "while i < end_day+1:\n",
    "    daily_data = []\n",
    "    for s in sensors_data['Temp']:\n",
    "        daily_data.append(s[i][0])\n",
    "\n",
    "    diff_temp = []\n",
    "    for d in daily_data:\n",
    "        base = np.array(d[1])\n",
    "        diff_temp.append(np.array(d)-np.array(daily_data[1]))\n",
    "\n",
    "    diff_daily[i] = diff_temp\n",
    "    i = i+1\n",
    "    \n",
    "        \n",
    "day_values = list(diff_daily.values())[0]\n",
    "morning = []\n",
    "afternoon = []\n",
    "evening = []\n",
    "night = []\n",
    "sensor_list = []\n",
    "for i in range(0,16):\n",
    "    sensor_list.append('S'+str(i))\n",
    "sensor_list\n",
    "\n",
    "# Build heat map\n",
    "\n",
    "for i in day_values:\n",
    "    morning.append(i[0][0])\n",
    "    afternoon.append(i[1][0])\n",
    "    evening.append(i[2][0])\n",
    "    night.append(i[3][0])\n",
    "df_daily = pd.DataFrame({'morning': morning, 'afternoon':afternoon, 'evening':evening, 'night':night, 'sensor':sensor_list})\n",
    "\n",
    "\n",
    "        \n",
    "# time_of_day = ['morning']*16 + ['afternoon']*16 + ['evening']*16 + ['night']*16\n",
    "time_of_day = ['0000-0600']*16 + ['0600-1200']*16 + ['1200-1800']*16 + ['1800-0000']*16\n",
    "data = df_daily['night'].tolist()+df_daily['morning'].tolist()+df_daily['afternoon'].tolist()+df_daily['evening'].tolist()\n",
    "# data = df_daily['morning'].tolist()+df_daily['afternoon'].tolist()+df_daily['evening'].tolist()+df_daily['night'].tolist()\n",
    "sensor = []\n",
    "for i in range(1,17):\n",
    "    if i < 10:\n",
    "        sensor.append('S0'+str(i))\n",
    "    else:\n",
    "        sensor.append('S'+str(i))\n",
    "    \n",
    "sensor = sensor*4\n",
    "d = {'time_of_day':time_of_day, 'data':data, 'sensor':sensor}\n",
    "df_hm = pd.DataFrame(d)\n",
    "heatmap1_data = pd.pivot_table(df_hm, values='data', \n",
    "                     index=['time_of_day'], \n",
    "                     columns='sensor')\n",
    "\n",
    "        \n",
    "sns.heatmap(heatmap1_data, cmap=\"RdBu_r\",vmin=-4, vmax=4)"
   ]
  },
  {
   "cell_type": "code",
   "execution_count": 22,
   "metadata": {},
   "outputs": [
    {
     "data": {
      "text/plain": [
       "<matplotlib.axes._subplots.AxesSubplot at 0x118e14370>"
      ]
     },
     "execution_count": 22,
     "metadata": {},
     "output_type": "execute_result"
    },
    {
     "data": {
      "image/png": "[encoded data removed]",
      "text/plain": [
       "<Figure size 1080x360 with 2 Axes>"
      ]
     },
     "metadata": {
      "needs_background": "light"
     },
     "output_type": "display_data"
    }
   ],
   "source": [
    "sensors = np.array(range(0,16))\n",
    "temp_data = []\n",
    "hum_data = []\n",
    "\n",
    "for i in sensors:\n",
    "    obj = th_analysis('lora/august/grafana_data_export ('+str(i)+').csv')\n",
    "    data = obj.get_th_dataframe()\n",
    "    df_t = data[0]\n",
    "    df_h = data[1]\n",
    "    # df_t.head()\n",
    "    # print(df_t.index.is_unique)\n",
    "    temp_data.append(obj.daily_calculations(df_t))\n",
    "    hum_data.append(obj.daily_calculations(df_h))\n",
    "\n",
    "sensors_data = {'Temp':temp_data, 'Hum':hum_data}    # temp_data -> sensor_id -> days -> values (m,a,e,n)\n",
    "\n",
    "end_day = max(list(sensors_data['Temp'][0]))\n",
    "i = min(list(sensors_data['Temp'][0]))\n",
    "i = i+1\n",
    "diff_daily = {}\n",
    "while i < end_day+1:\n",
    "    daily_data = []\n",
    "    for s in sensors_data['Temp']:\n",
    "        daily_data.append(s[i][0])\n",
    "\n",
    "    diff_temp = []\n",
    "    for d in daily_data:\n",
    "        base = np.array(d[1])\n",
    "        diff_temp.append(np.array(d)-np.array(daily_data[1]))\n",
    "\n",
    "    diff_daily[i] = diff_temp\n",
    "    i = i+1\n",
    "    \n",
    "        \n",
    "day_values = list(diff_daily.values())[0]\n",
    "morning = []\n",
    "afternoon = []\n",
    "evening = []\n",
    "night = []\n",
    "sensor_list = []\n",
    "for i in range(0,16):\n",
    "    sensor_list.append('S'+str(i))\n",
    "sensor_list\n",
    "\n",
    "# Build heat map\n",
    "\n",
    "for i in day_values:\n",
    "    morning.append(i[0][0])\n",
    "    afternoon.append(i[1][0])\n",
    "    evening.append(i[2][0])\n",
    "    night.append(i[3][0])\n",
    "df_daily = pd.DataFrame({'morning': morning, 'afternoon':afternoon, 'evening':evening, 'night':night, 'sensor':sensor_list})\n",
    "\n",
    "\n",
    "        \n",
    "# time_of_day = ['morning']*16 + ['afternoon']*16 + ['evening']*16 + ['night']*16\n",
    "time_of_day = ['0000-0600']*16 + ['0600-1200']*16 + ['1200-1800']*16 + ['1800-0000']*16\n",
    "data = df_daily['night'].tolist()+df_daily['morning'].tolist()+df_daily['afternoon'].tolist()+df_daily['evening'].tolist()\n",
    "# data = df_daily['morning'].tolist()+df_daily['afternoon'].tolist()+df_daily['evening'].tolist()+df_daily['night'].tolist()\n",
    "sensor = []\n",
    "for i in range(1,17):\n",
    "    if i < 10:\n",
    "        sensor.append('S0'+str(i))\n",
    "    else:\n",
    "        sensor.append('S'+str(i))\n",
    "    \n",
    "sensor = sensor*4\n",
    "d = {'time_of_day':time_of_day, 'data':data, 'sensor':sensor}\n",
    "df_hm = pd.DataFrame(d)\n",
    "heatmap1_data = pd.pivot_table(df_hm, values='data', \n",
    "                     index=['time_of_day'], \n",
    "                     columns='sensor')\n",
    "\n",
    "        \n",
    "sns.heatmap(heatmap1_data, cmap=\"RdBu_r\",vmin=-4, vmax=4)"
   ]
  },
  {
   "cell_type": "code",
   "execution_count": 40,
   "metadata": {},
   "outputs": [],
   "source": [
    "# sensors_data['Temp'][0]\n",
    "# diff_daily\n",
    "# day_values\n",
    "# diff_daily.values()"
   ]
  },
  {
   "cell_type": "code",
   "execution_count": 4,
   "metadata": {},
   "outputs": [],
   "source": [
    "end_day = max(list(sensors_data['Temp'][0]))\n",
    "i = min(list(sensors_data['Temp'][0]))\n",
    "i = i+1\n",
    "diff_daily = {}\n",
    "while i < end_day+1:\n",
    "    daily_data = []\n",
    "    for s in sensors_data['Temp']:\n",
    "        daily_data.append(s[i][0])\n",
    "\n",
    "    diff_temp = []\n",
    "    for d in daily_data:\n",
    "        base = np.array(d[1])\n",
    "        diff_temp.append(np.array(d)-np.array(daily_data[1]))\n",
    "\n",
    "    diff_daily[i] = diff_temp\n",
    "    i = i+1\n",
    "    \n",
    "        \n",
    "    \n"
   ]
  },
  {
   "cell_type": "code",
   "execution_count": 5,
   "metadata": {},
   "outputs": [
    {
     "data": {
      "text/html": [
       "<div>\n",
       "<style scoped>\n",
       "    .dataframe tbody tr th:only-of-type {\n",
       "        vertical-align: middle;\n",
       "    }\n",
       "\n",
       "    .dataframe tbody tr th {\n",
       "        vertical-align: top;\n",
       "    }\n",
       "\n",
       "    .dataframe thead th {\n",
       "        text-align: right;\n",
       "    }\n",
       "</style>\n",
       "<table border=\"1\" class=\"dataframe\">\n",
       "  <thead>\n",
       "    <tr style=\"text-align: right;\">\n",
       "      <th></th>\n",
       "      <th>morning</th>\n",
       "      <th>afternoon</th>\n",
       "      <th>evening</th>\n",
       "      <th>night</th>\n",
       "      <th>sensor</th>\n",
       "    </tr>\n",
       "  </thead>\n",
       "  <tbody>\n",
       "    <tr>\n",
       "      <th>0</th>\n",
       "      <td>-0.689211</td>\n",
       "      <td>4.968947</td>\n",
       "      <td>2.901316</td>\n",
       "      <td>-0.111316</td>\n",
       "      <td>S0</td>\n",
       "    </tr>\n",
       "    <tr>\n",
       "      <th>1</th>\n",
       "      <td>0.000000</td>\n",
       "      <td>0.000000</td>\n",
       "      <td>0.000000</td>\n",
       "      <td>0.000000</td>\n",
       "      <td>S1</td>\n",
       "    </tr>\n",
       "    <tr>\n",
       "      <th>2</th>\n",
       "      <td>-0.092368</td>\n",
       "      <td>-0.333947</td>\n",
       "      <td>-1.852895</td>\n",
       "      <td>-0.270000</td>\n",
       "      <td>S2</td>\n",
       "    </tr>\n",
       "    <tr>\n",
       "      <th>3</th>\n",
       "      <td>-0.309474</td>\n",
       "      <td>-0.240000</td>\n",
       "      <td>-2.062105</td>\n",
       "      <td>-0.365526</td>\n",
       "      <td>S3</td>\n",
       "    </tr>\n",
       "    <tr>\n",
       "      <th>4</th>\n",
       "      <td>-0.730263</td>\n",
       "      <td>-0.731842</td>\n",
       "      <td>-3.019737</td>\n",
       "      <td>-0.893684</td>\n",
       "      <td>S4</td>\n",
       "    </tr>\n",
       "  </tbody>\n",
       "</table>\n",
       "</div>"
      ],
      "text/plain": [
       "    morning  afternoon   evening     night sensor\n",
       "0 -0.689211   4.968947  2.901316 -0.111316     S0\n",
       "1  0.000000   0.000000  0.000000  0.000000     S1\n",
       "2 -0.092368  -0.333947 -1.852895 -0.270000     S2\n",
       "3 -0.309474  -0.240000 -2.062105 -0.365526     S3\n",
       "4 -0.730263  -0.731842 -3.019737 -0.893684     S4"
      ]
     },
     "execution_count": 5,
     "metadata": {},
     "output_type": "execute_result"
    }
   ],
   "source": [
    "day_values = list(diff_daily.values())[0]\n",
    "morning = []\n",
    "afternoon = []\n",
    "evening = []\n",
    "night = []\n",
    "sensor_list = []\n",
    "for i in range(0,16):\n",
    "    sensor_list.append('S'+str(i))\n",
    "sensor_list\n",
    "\n",
    "# Build heat map\n",
    "\n",
    "for i in day_values:\n",
    "    morning.append(i[0][0])\n",
    "    afternoon.append(i[1][0])\n",
    "    evening.append(i[2][0])\n",
    "    night.append(i[3][0])\n",
    "df_daily = pd.DataFrame({'morning': morning, 'afternoon':afternoon, 'evening':evening, 'night':night, 'sensor':sensor_list})\n",
    "# df_daily.plot.bar(rot=0)\n",
    "df_daily.head()"
   ]
  },
  {
   "cell_type": "code",
   "execution_count": 28,
   "metadata": {},
   "outputs": [],
   "source": [
    "# df_daily_pivot = pd.pivot_table(df_daily, values='lifeExp', \n",
    "#                      index=['continent'], \n",
    "#                      columns='year')\n",
    "# df_daily['test'] = df_daily['morning'].tolist()\n"
   ]
  },
  {
   "cell_type": "code",
   "execution_count": 6,
   "metadata": {},
   "outputs": [],
   "source": [
    "# time_of_day = ['morning']*16 + ['afternoon']*16 + ['evening']*16 + ['night']*16\n",
    "time_of_day = ['0000-0600']*16 + ['0600-1200']*16 + ['1200-1800']*16 + ['1800-0000']*16\n",
    "data = df_daily['night'].tolist()+df_daily['morning'].tolist()+df_daily['afternoon'].tolist()+df_daily['evening'].tolist()\n",
    "# data = df_daily['morning'].tolist()+df_daily['afternoon'].tolist()+df_daily['evening'].tolist()+df_daily['night'].tolist()\n",
    "sensor = []\n",
    "for i in range(1,17):\n",
    "    if i < 10:\n",
    "        sensor.append('S0'+str(i))\n",
    "    else:\n",
    "        sensor.append('S'+str(i))\n",
    "    \n",
    "sensor = sensor*4\n",
    "d = {'time_of_day':time_of_day, 'data':data, 'sensor':sensor}\n",
    "df_hm = pd.DataFrame(d)\n",
    "heatmap1_data = pd.pivot_table(df_hm, values='data', \n",
    "                     index=['time_of_day'], \n",
    "                     columns='sensor')\n"
   ]
  },
  {
   "cell_type": "code",
   "execution_count": 11,
   "metadata": {},
   "outputs": [
    {
     "data": {
      "text/plain": [
       "<matplotlib.axes._subplots.AxesSubplot at 0x1189fe3a0>"
      ]
     },
     "execution_count": 11,
     "metadata": {},
     "output_type": "execute_result"
    },
    {
     "data": {
      "image/png": "[encoded data removed]",
      "text/plain": [
       "<Figure size 1080x360 with 2 Axes>"
      ]
     },
     "metadata": {
      "needs_background": "light"
     },
     "output_type": "display_data"
    }
   ],
   "source": [
    "sns.heatmap(heatmap1_data, cmap=\"RdBu_r\")"
   ]
  },
  {
   "cell_type": "code",
   "execution_count": null,
   "metadata": {},
   "outputs": [],
   "source": []
  },
  {
   "cell_type": "code",
   "execution_count": 39,
   "metadata": {},
   "outputs": [],
   "source": [
    "# list(sensors_data['Temp'][0].values())[1]\n",
    "# sensors_data['Temp'][1]"
   ]
  },
  {
   "cell_type": "code",
   "execution_count": 111,
   "metadata": {},
   "outputs": [
    {
     "data": {
      "text/plain": [
       "6.5737156039872335"
      ]
     },
     "execution_count": 111,
     "metadata": {},
     "output_type": "execute_result"
    }
   ],
   "source": [
    "morning = [datetime.time(6),datetime.time(12)]\n",
    "df_list[1]['time'] = df_list[1].index.time\n",
    "# bol = df_list[1].time >= morning[1] and df_list[1].time < morning[1]\n",
    "# bol\n",
    "# df_list[1].time >= morning[1]\n",
    "a = df_list[1].between_time(morning[0],morning[1])\n",
    "# a['Value'].mean()\n",
    "a['Value'].std()\n"
   ]
  },
  {
   "cell_type": "code",
   "execution_count": 35,
   "metadata": {},
   "outputs": [
    {
     "data": {
      "text/html": [
       "<div>\n",
       "<style scoped>\n",
       "    .dataframe tbody tr th:only-of-type {\n",
       "        vertical-align: middle;\n",
       "    }\n",
       "\n",
       "    .dataframe tbody tr th {\n",
       "        vertical-align: top;\n",
       "    }\n",
       "\n",
       "    .dataframe thead th {\n",
       "        text-align: right;\n",
       "    }\n",
       "</style>\n",
       "<table border=\"1\" class=\"dataframe\">\n",
       "  <thead>\n",
       "    <tr style=\"text-align: right;\">\n",
       "      <th></th>\n",
       "      <th>Series</th>\n",
       "      <th>Value</th>\n",
       "    </tr>\n",
       "    <tr>\n",
       "      <th>Time</th>\n",
       "      <th></th>\n",
       "      <th></th>\n",
       "    </tr>\n",
       "  </thead>\n",
       "  <tbody>\n",
       "    <tr>\n",
       "      <th>2019-06-03T23:40:00-07:00</th>\n",
       "      <td>iot-devices.Temp1</td>\n",
       "      <td>72.86</td>\n",
       "    </tr>\n",
       "    <tr>\n",
       "      <th>2019-06-04T00:00:00-07:00</th>\n",
       "      <td>iot-devices.Temp1</td>\n",
       "      <td>72.86</td>\n",
       "    </tr>\n",
       "    <tr>\n",
       "      <th>2019-06-04T00:20:00-07:00</th>\n",
       "      <td>iot-devices.Temp1</td>\n",
       "      <td>72.02</td>\n",
       "    </tr>\n",
       "    <tr>\n",
       "      <th>2019-06-04T00:40:00-07:00</th>\n",
       "      <td>iot-devices.Temp1</td>\n",
       "      <td>71.96</td>\n",
       "    </tr>\n",
       "    <tr>\n",
       "      <th>2019-06-04T01:00:00-07:00</th>\n",
       "      <td>iot-devices.Temp1</td>\n",
       "      <td>71.42</td>\n",
       "    </tr>\n",
       "  </tbody>\n",
       "</table>\n",
       "</div>"
      ],
      "text/plain": [
       "                                      Series  Value\n",
       "Time                                               \n",
       "2019-06-03T23:40:00-07:00  iot-devices.Temp1  72.86\n",
       "2019-06-04T00:00:00-07:00  iot-devices.Temp1  72.86\n",
       "2019-06-04T00:20:00-07:00  iot-devices.Temp1  72.02\n",
       "2019-06-04T00:40:00-07:00  iot-devices.Temp1  71.96\n",
       "2019-06-04T01:00:00-07:00  iot-devices.Temp1  71.42"
      ]
     },
     "execution_count": 35,
     "metadata": {},
     "output_type": "execute_result"
    }
   ],
   "source": [
    "\n",
    "\n",
    "data = pd.read_csv(\"grafana_data_export.csv\", sep=';')\n",
    "data.head()\n",
    "mask_t = []\n",
    "mask_t = data['Series'] == 'iot-devices.Temp1'\n",
    "mask_h = data['Series'] == 'iot-devices.Hum'\n",
    "\n",
    "df_t = data[mask_t]\n",
    "df_t.set_index('Time', inplace=True)\n",
    "df_t.head()\n",
    "# df_h = data[mask_h]\n"
   ]
  },
  {
   "cell_type": "code",
   "execution_count": 36,
   "metadata": {},
   "outputs": [
    {
     "data": {
      "text/plain": [
       "0        True\n",
       "1        True\n",
       "2        True\n",
       "3        True\n",
       "4        True\n",
       "        ...  \n",
       "3783    False\n",
       "3784    False\n",
       "3785    False\n",
       "3786    False\n",
       "3787    False\n",
       "Name: Series, Length: 3788, dtype: bool"
      ]
     },
     "execution_count": 36,
     "metadata": {},
     "output_type": "execute_result"
    }
   ],
   "source": [
    "mask_t"
   ]
  },
  {
   "cell_type": "code",
   "execution_count": 4,
   "metadata": {},
   "outputs": [
    {
     "ename": "KeyError",
     "evalue": "\"None of [Index(['timestamp', 'rel_humidity', 'temperature'], dtype='object')] are in the [columns]\"",
     "output_type": "error",
     "traceback": [
      "\u001b[0;31m---------------------------------------------------------------------------\u001b[0m",
      "\u001b[0;31mKeyError\u001b[0m                                  Traceback (most recent call last)",
      "\u001b[0;32m<ipython-input-4-1a96e486d1bf>\u001b[0m in \u001b[0;36m<module>\u001b[0;34m\u001b[0m\n\u001b[0;32m----> 1\u001b[0;31m \u001b[0mlora_pd\u001b[0m \u001b[0;34m=\u001b[0m \u001b[0mlora_pd\u001b[0m\u001b[0;34m[\u001b[0m\u001b[0;34m[\u001b[0m\u001b[0;34m'timestamp'\u001b[0m\u001b[0;34m,\u001b[0m \u001b[0;34m'rel_humidity'\u001b[0m\u001b[0;34m,\u001b[0m\u001b[0;34m'temperature'\u001b[0m\u001b[0;34m]\u001b[0m\u001b[0;34m]\u001b[0m\u001b[0;34m\u001b[0m\u001b[0;34m\u001b[0m\u001b[0m\n\u001b[0m\u001b[1;32m      2\u001b[0m \u001b[0mlora_pd\u001b[0m\u001b[0;34m[\u001b[0m\u001b[0;34m'timestamp'\u001b[0m\u001b[0;34m]\u001b[0m \u001b[0;34m=\u001b[0m \u001b[0mpd\u001b[0m\u001b[0;34m.\u001b[0m\u001b[0mto_datetime\u001b[0m\u001b[0;34m(\u001b[0m\u001b[0mlora_pd\u001b[0m\u001b[0;34m[\u001b[0m\u001b[0;34m'timestamp'\u001b[0m\u001b[0;34m]\u001b[0m\u001b[0;34m,\u001b[0m \u001b[0mutc\u001b[0m\u001b[0;34m=\u001b[0m\u001b[0;32mTrue\u001b[0m\u001b[0;34m)\u001b[0m\u001b[0;34m\u001b[0m\u001b[0;34m\u001b[0m\u001b[0m\n\u001b[1;32m      3\u001b[0m \u001b[0mlora_pd\u001b[0m\u001b[0;34m.\u001b[0m\u001b[0mset_index\u001b[0m\u001b[0;34m(\u001b[0m\u001b[0;34m'timestamp'\u001b[0m\u001b[0;34m,\u001b[0m \u001b[0minplace\u001b[0m\u001b[0;34m=\u001b[0m\u001b[0;32mTrue\u001b[0m\u001b[0;34m)\u001b[0m\u001b[0;34m\u001b[0m\u001b[0;34m\u001b[0m\u001b[0m\n\u001b[1;32m      4\u001b[0m \u001b[0mlora_pd\u001b[0m\u001b[0;34m.\u001b[0m\u001b[0mindex\u001b[0m \u001b[0;34m=\u001b[0m \u001b[0mlora_pd\u001b[0m\u001b[0;34m.\u001b[0m\u001b[0mindex\u001b[0m\u001b[0;34m.\u001b[0m\u001b[0mtz_convert\u001b[0m\u001b[0;34m(\u001b[0m\u001b[0;34m'America/Los_Angeles'\u001b[0m\u001b[0;34m)\u001b[0m\u001b[0;34m\u001b[0m\u001b[0;34m\u001b[0m\u001b[0m\n\u001b[1;32m      5\u001b[0m \u001b[0mlora_pd\u001b[0m \u001b[0;34m=\u001b[0m \u001b[0mlora_pd\u001b[0m\u001b[0;34m.\u001b[0m\u001b[0msort_index\u001b[0m\u001b[0;34m(\u001b[0m\u001b[0;34m)\u001b[0m\u001b[0;34m\u001b[0m\u001b[0;34m\u001b[0m\u001b[0m\n",
      "\u001b[0;32m~/opt/anaconda3/envs/venv_powernet/lib/python3.8/site-packages/pandas/core/frame.py\u001b[0m in \u001b[0;36m__getitem__\u001b[0;34m(self, key)\u001b[0m\n\u001b[1;32m   2804\u001b[0m             \u001b[0;32mif\u001b[0m \u001b[0mis_iterator\u001b[0m\u001b[0;34m(\u001b[0m\u001b[0mkey\u001b[0m\u001b[0;34m)\u001b[0m\u001b[0;34m:\u001b[0m\u001b[0;34m\u001b[0m\u001b[0;34m\u001b[0m\u001b[0m\n\u001b[1;32m   2805\u001b[0m                 \u001b[0mkey\u001b[0m \u001b[0;34m=\u001b[0m \u001b[0mlist\u001b[0m\u001b[0;34m(\u001b[0m\u001b[0mkey\u001b[0m\u001b[0;34m)\u001b[0m\u001b[0;34m\u001b[0m\u001b[0;34m\u001b[0m\u001b[0m\n\u001b[0;32m-> 2806\u001b[0;31m             \u001b[0mindexer\u001b[0m \u001b[0;34m=\u001b[0m \u001b[0mself\u001b[0m\u001b[0;34m.\u001b[0m\u001b[0mloc\u001b[0m\u001b[0;34m.\u001b[0m\u001b[0m_get_listlike_indexer\u001b[0m\u001b[0;34m(\u001b[0m\u001b[0mkey\u001b[0m\u001b[0;34m,\u001b[0m \u001b[0maxis\u001b[0m\u001b[0;34m=\u001b[0m\u001b[0;36m1\u001b[0m\u001b[0;34m,\u001b[0m \u001b[0mraise_missing\u001b[0m\u001b[0;34m=\u001b[0m\u001b[0;32mTrue\u001b[0m\u001b[0;34m)\u001b[0m\u001b[0;34m[\u001b[0m\u001b[0;36m1\u001b[0m\u001b[0;34m]\u001b[0m\u001b[0;34m\u001b[0m\u001b[0;34m\u001b[0m\u001b[0m\n\u001b[0m\u001b[1;32m   2807\u001b[0m \u001b[0;34m\u001b[0m\u001b[0m\n\u001b[1;32m   2808\u001b[0m         \u001b[0;31m# take() does not accept boolean indexers\u001b[0m\u001b[0;34m\u001b[0m\u001b[0;34m\u001b[0m\u001b[0;34m\u001b[0m\u001b[0m\n",
      "\u001b[0;32m~/opt/anaconda3/envs/venv_powernet/lib/python3.8/site-packages/pandas/core/indexing.py\u001b[0m in \u001b[0;36m_get_listlike_indexer\u001b[0;34m(self, key, axis, raise_missing)\u001b[0m\n\u001b[1;32m   1550\u001b[0m             \u001b[0mkeyarr\u001b[0m\u001b[0;34m,\u001b[0m \u001b[0mindexer\u001b[0m\u001b[0;34m,\u001b[0m \u001b[0mnew_indexer\u001b[0m \u001b[0;34m=\u001b[0m \u001b[0max\u001b[0m\u001b[0;34m.\u001b[0m\u001b[0m_reindex_non_unique\u001b[0m\u001b[0;34m(\u001b[0m\u001b[0mkeyarr\u001b[0m\u001b[0;34m)\u001b[0m\u001b[0;34m\u001b[0m\u001b[0;34m\u001b[0m\u001b[0m\n\u001b[1;32m   1551\u001b[0m \u001b[0;34m\u001b[0m\u001b[0m\n\u001b[0;32m-> 1552\u001b[0;31m         self._validate_read_indexer(\n\u001b[0m\u001b[1;32m   1553\u001b[0m             \u001b[0mkeyarr\u001b[0m\u001b[0;34m,\u001b[0m \u001b[0mindexer\u001b[0m\u001b[0;34m,\u001b[0m \u001b[0mo\u001b[0m\u001b[0;34m.\u001b[0m\u001b[0m_get_axis_number\u001b[0m\u001b[0;34m(\u001b[0m\u001b[0maxis\u001b[0m\u001b[0;34m)\u001b[0m\u001b[0;34m,\u001b[0m \u001b[0mraise_missing\u001b[0m\u001b[0;34m=\u001b[0m\u001b[0mraise_missing\u001b[0m\u001b[0;34m\u001b[0m\u001b[0;34m\u001b[0m\u001b[0m\n\u001b[1;32m   1554\u001b[0m         )\n",
      "\u001b[0;32m~/opt/anaconda3/envs/venv_powernet/lib/python3.8/site-packages/pandas/core/indexing.py\u001b[0m in \u001b[0;36m_validate_read_indexer\u001b[0;34m(self, key, indexer, axis, raise_missing)\u001b[0m\n\u001b[1;32m   1638\u001b[0m             \u001b[0;32mif\u001b[0m \u001b[0mmissing\u001b[0m \u001b[0;34m==\u001b[0m \u001b[0mlen\u001b[0m\u001b[0;34m(\u001b[0m\u001b[0mindexer\u001b[0m\u001b[0;34m)\u001b[0m\u001b[0;34m:\u001b[0m\u001b[0;34m\u001b[0m\u001b[0;34m\u001b[0m\u001b[0m\n\u001b[1;32m   1639\u001b[0m                 \u001b[0maxis_name\u001b[0m \u001b[0;34m=\u001b[0m \u001b[0mself\u001b[0m\u001b[0;34m.\u001b[0m\u001b[0mobj\u001b[0m\u001b[0;34m.\u001b[0m\u001b[0m_get_axis_name\u001b[0m\u001b[0;34m(\u001b[0m\u001b[0maxis\u001b[0m\u001b[0;34m)\u001b[0m\u001b[0;34m\u001b[0m\u001b[0;34m\u001b[0m\u001b[0m\n\u001b[0;32m-> 1640\u001b[0;31m                 \u001b[0;32mraise\u001b[0m \u001b[0mKeyError\u001b[0m\u001b[0;34m(\u001b[0m\u001b[0;34mf\"None of [{key}] are in the [{axis_name}]\"\u001b[0m\u001b[0;34m)\u001b[0m\u001b[0;34m\u001b[0m\u001b[0;34m\u001b[0m\u001b[0m\n\u001b[0m\u001b[1;32m   1641\u001b[0m \u001b[0;34m\u001b[0m\u001b[0m\n\u001b[1;32m   1642\u001b[0m             \u001b[0;31m# We (temporarily) allow for some missing keys with .loc, except in\u001b[0m\u001b[0;34m\u001b[0m\u001b[0;34m\u001b[0m\u001b[0;34m\u001b[0m\u001b[0m\n",
      "\u001b[0;31mKeyError\u001b[0m: \"None of [Index(['timestamp', 'rel_humidity', 'temperature'], dtype='object')] are in the [columns]\""
     ]
    }
   ],
   "source": [
    "lora_pd = lora_pd[['timestamp', 'rel_humidity','temperature']]\n",
    "lora_pd['timestamp'] = pd.to_datetime(lora_pd['timestamp'], utc=True)\n",
    "lora_pd.set_index('timestamp', inplace=True)\n",
    "lora_pd.index = lora_pd.index.tz_convert('America/Los_Angeles')\n",
    "lora_pd = lora_pd.sort_index()"
   ]
  },
  {
   "cell_type": "code",
   "execution_count": 28,
   "metadata": {},
   "outputs": [
    {
     "data": {
      "image/png": "[encoded data removed]",
      "text/plain": [
       "<Figure size 1080x360 with 2 Axes>"
      ]
     },
     "metadata": {
      "needs_background": "light"
     },
     "output_type": "display_data"
    }
   ],
   "source": [
    "fig, ax1 = plt.subplots()\n",
    "\n",
    "color = 'tab:red'\n",
    "ax1.set_xlabel('time (s)')\n",
    "ax1.set_ylabel('Temp', color=color)  # we already handled the x-label with ax1\n",
    "ax1.plot(df_t['Time'], df_t['Value'], color=color)\n",
    "ax1.tick_params(axis='y', labelcolor=color)\n",
    "\n",
    "ax2 = ax1.twinx()  # instantiate a second axes that shares the same x-axis\n",
    "\n",
    "color = 'tab:blue'\n",
    "ax2.set_ylabel('RelHum', color=color)\n",
    "ax2.plot(df_h['Time'], df_h['Value'], color=color)\n",
    "ax2.tick_params(axis='y', labelcolor=color)\n",
    "\n",
    "\n",
    "\n",
    "fig.tight_layout()  # otherwise the right y-label is slightly clipped\n",
    "plt.show()"
   ]
  },
  {
   "cell_type": "code",
   "execution_count": null,
   "metadata": {},
   "outputs": [],
   "source": [
    "sensors = np.array(range(0,16))\n",
    "temp_data = []\n",
    "hum_data = []\n",
    "\n",
    "# for i in sensors:\n",
    "i=0\n",
    "obj = th_analysis('lora/june/grafana_data_export ('+str(i)+').csv')\n",
    "data = obj.get_th_dataframe()\n",
    "df_t = data[0]\n",
    "df_h = data[1]\n",
    "# df_t.head()\n",
    "# print(df_t.index.is_unique)\n",
    "temp_data.append(obj.daily_calculations(df_t))\n",
    "hum_data.append(obj.daily_calculations(df_h))\n",
    "\n",
    "sensors_data = {'Temp':temp_data, 'Hum':hum_data}    # temp_data -> sensor_id -> days -> values (m,a,e,n)\n"
   ]
  },
  {
   "cell_type": "code",
   "execution_count": 37,
   "metadata": {},
   "outputs": [
    {
     "data": {
      "text/html": [
       "<div>\n",
       "<style scoped>\n",
       "    .dataframe tbody tr th:only-of-type {\n",
       "        vertical-align: middle;\n",
       "    }\n",
       "\n",
       "    .dataframe tbody tr th {\n",
       "        vertical-align: top;\n",
       "    }\n",
       "\n",
       "    .dataframe thead th {\n",
       "        text-align: right;\n",
       "    }\n",
       "</style>\n",
       "<table border=\"1\" class=\"dataframe\">\n",
       "  <thead>\n",
       "    <tr style=\"text-align: right;\">\n",
       "      <th></th>\n",
       "      <th>Series</th>\n",
       "      <th>Value</th>\n",
       "    </tr>\n",
       "    <tr>\n",
       "      <th>Time</th>\n",
       "      <th></th>\n",
       "      <th></th>\n",
       "    </tr>\n",
       "  </thead>\n",
       "  <tbody>\n",
       "    <tr>\n",
       "      <th>2019-06-03 23:40:00-07:00</th>\n",
       "      <td>iot-devices.Temp1</td>\n",
       "      <td>72.860</td>\n",
       "    </tr>\n",
       "    <tr>\n",
       "      <th>2019-06-04 00:00:00-07:00</th>\n",
       "      <td>iot-devices.Temp1</td>\n",
       "      <td>72.860</td>\n",
       "    </tr>\n",
       "    <tr>\n",
       "      <th>2019-06-04 00:20:00-07:00</th>\n",
       "      <td>iot-devices.Temp1</td>\n",
       "      <td>72.020</td>\n",
       "    </tr>\n",
       "    <tr>\n",
       "      <th>2019-06-04 00:40:00-07:00</th>\n",
       "      <td>iot-devices.Temp1</td>\n",
       "      <td>71.960</td>\n",
       "    </tr>\n",
       "    <tr>\n",
       "      <th>2019-06-04 01:00:00-07:00</th>\n",
       "      <td>iot-devices.Temp1</td>\n",
       "      <td>71.420</td>\n",
       "    </tr>\n",
       "    <tr>\n",
       "      <th>2019-06-04 01:20:00-07:00</th>\n",
       "      <td>iot-devices.Temp1</td>\n",
       "      <td>70.970</td>\n",
       "    </tr>\n",
       "    <tr>\n",
       "      <th>2019-06-04 01:40:00-07:00</th>\n",
       "      <td>iot-devices.Temp1</td>\n",
       "      <td>71.150</td>\n",
       "    </tr>\n",
       "    <tr>\n",
       "      <th>2019-06-04 02:00:00-07:00</th>\n",
       "      <td>iot-devices.Temp1</td>\n",
       "      <td>70.520</td>\n",
       "    </tr>\n",
       "    <tr>\n",
       "      <th>2019-06-04 02:20:00-07:00</th>\n",
       "      <td>iot-devices.Temp1</td>\n",
       "      <td>69.530</td>\n",
       "    </tr>\n",
       "    <tr>\n",
       "      <th>2019-06-04 02:40:00-07:00</th>\n",
       "      <td>iot-devices.Temp1</td>\n",
       "      <td>69.350</td>\n",
       "    </tr>\n",
       "    <tr>\n",
       "      <th>2019-06-04 03:00:00-07:00</th>\n",
       "      <td>iot-devices.Temp1</td>\n",
       "      <td>69.350</td>\n",
       "    </tr>\n",
       "    <tr>\n",
       "      <th>2019-06-04 03:20:00-07:00</th>\n",
       "      <td>iot-devices.Temp1</td>\n",
       "      <td>69.125</td>\n",
       "    </tr>\n",
       "    <tr>\n",
       "      <th>2019-06-04 03:40:00-07:00</th>\n",
       "      <td>iot-devices.Temp1</td>\n",
       "      <td>68.720</td>\n",
       "    </tr>\n",
       "    <tr>\n",
       "      <th>2019-06-04 04:00:00-07:00</th>\n",
       "      <td>iot-devices.Temp1</td>\n",
       "      <td>68.495</td>\n",
       "    </tr>\n",
       "    <tr>\n",
       "      <th>2019-06-04 04:20:00-07:00</th>\n",
       "      <td>iot-devices.Temp1</td>\n",
       "      <td>67.775</td>\n",
       "    </tr>\n",
       "    <tr>\n",
       "      <th>2019-06-04 04:40:00-07:00</th>\n",
       "      <td>iot-devices.Temp1</td>\n",
       "      <td>67.235</td>\n",
       "    </tr>\n",
       "    <tr>\n",
       "      <th>2019-06-04 05:00:00-07:00</th>\n",
       "      <td>iot-devices.Temp1</td>\n",
       "      <td>67.145</td>\n",
       "    </tr>\n",
       "    <tr>\n",
       "      <th>2019-06-04 05:20:00-07:00</th>\n",
       "      <td>iot-devices.Temp1</td>\n",
       "      <td>67.460</td>\n",
       "    </tr>\n",
       "    <tr>\n",
       "      <th>2019-06-04 05:40:00-07:00</th>\n",
       "      <td>iot-devices.Temp1</td>\n",
       "      <td>67.730</td>\n",
       "    </tr>\n",
       "    <tr>\n",
       "      <th>2019-06-04 06:00:00-07:00</th>\n",
       "      <td>iot-devices.Temp1</td>\n",
       "      <td>69.575</td>\n",
       "    </tr>\n",
       "  </tbody>\n",
       "</table>\n",
       "</div>"
      ],
      "text/plain": [
       "                                      Series   Value\n",
       "Time                                                \n",
       "2019-06-03 23:40:00-07:00  iot-devices.Temp1  72.860\n",
       "2019-06-04 00:00:00-07:00  iot-devices.Temp1  72.860\n",
       "2019-06-04 00:20:00-07:00  iot-devices.Temp1  72.020\n",
       "2019-06-04 00:40:00-07:00  iot-devices.Temp1  71.960\n",
       "2019-06-04 01:00:00-07:00  iot-devices.Temp1  71.420\n",
       "2019-06-04 01:20:00-07:00  iot-devices.Temp1  70.970\n",
       "2019-06-04 01:40:00-07:00  iot-devices.Temp1  71.150\n",
       "2019-06-04 02:00:00-07:00  iot-devices.Temp1  70.520\n",
       "2019-06-04 02:20:00-07:00  iot-devices.Temp1  69.530\n",
       "2019-06-04 02:40:00-07:00  iot-devices.Temp1  69.350\n",
       "2019-06-04 03:00:00-07:00  iot-devices.Temp1  69.350\n",
       "2019-06-04 03:20:00-07:00  iot-devices.Temp1  69.125\n",
       "2019-06-04 03:40:00-07:00  iot-devices.Temp1  68.720\n",
       "2019-06-04 04:00:00-07:00  iot-devices.Temp1  68.495\n",
       "2019-06-04 04:20:00-07:00  iot-devices.Temp1  67.775\n",
       "2019-06-04 04:40:00-07:00  iot-devices.Temp1  67.235\n",
       "2019-06-04 05:00:00-07:00  iot-devices.Temp1  67.145\n",
       "2019-06-04 05:20:00-07:00  iot-devices.Temp1  67.460\n",
       "2019-06-04 05:40:00-07:00  iot-devices.Temp1  67.730\n",
       "2019-06-04 06:00:00-07:00  iot-devices.Temp1  69.575"
      ]
     },
     "execution_count": 37,
     "metadata": {},
     "output_type": "execute_result"
    }
   ],
   "source": [
    "df_t.head(20)"
   ]
  },
  {
   "cell_type": "code",
   "execution_count": 38,
   "metadata": {},
   "outputs": [
    {
     "data": {
      "text/html": [
       "<div>\n",
       "<style scoped>\n",
       "    .dataframe tbody tr th:only-of-type {\n",
       "        vertical-align: middle;\n",
       "    }\n",
       "\n",
       "    .dataframe tbody tr th {\n",
       "        vertical-align: top;\n",
       "    }\n",
       "\n",
       "    .dataframe thead th {\n",
       "        text-align: right;\n",
       "    }\n",
       "</style>\n",
       "<table border=\"1\" class=\"dataframe\">\n",
       "  <thead>\n",
       "    <tr style=\"text-align: right;\">\n",
       "      <th></th>\n",
       "      <th>Value</th>\n",
       "    </tr>\n",
       "    <tr>\n",
       "      <th>Time</th>\n",
       "      <th></th>\n",
       "    </tr>\n",
       "  </thead>\n",
       "  <tbody>\n",
       "    <tr>\n",
       "      <th>2019-06-03 23:00:00-07:00</th>\n",
       "      <td>72.860</td>\n",
       "    </tr>\n",
       "    <tr>\n",
       "      <th>2019-06-04 00:00:00-07:00</th>\n",
       "      <td>72.280</td>\n",
       "    </tr>\n",
       "    <tr>\n",
       "      <th>2019-06-04 01:00:00-07:00</th>\n",
       "      <td>71.180</td>\n",
       "    </tr>\n",
       "    <tr>\n",
       "      <th>2019-06-04 02:00:00-07:00</th>\n",
       "      <td>69.800</td>\n",
       "    </tr>\n",
       "    <tr>\n",
       "      <th>2019-06-04 03:00:00-07:00</th>\n",
       "      <td>69.065</td>\n",
       "    </tr>\n",
       "    <tr>\n",
       "      <th>2019-06-04 04:00:00-07:00</th>\n",
       "      <td>67.835</td>\n",
       "    </tr>\n",
       "    <tr>\n",
       "      <th>2019-06-04 05:00:00-07:00</th>\n",
       "      <td>67.445</td>\n",
       "    </tr>\n",
       "    <tr>\n",
       "      <th>2019-06-04 06:00:00-07:00</th>\n",
       "      <td>70.790</td>\n",
       "    </tr>\n",
       "    <tr>\n",
       "      <th>2019-06-04 07:00:00-07:00</th>\n",
       "      <td>72.950</td>\n",
       "    </tr>\n",
       "    <tr>\n",
       "      <th>2019-06-04 08:00:00-07:00</th>\n",
       "      <td>77.195</td>\n",
       "    </tr>\n",
       "    <tr>\n",
       "      <th>2019-06-04 09:00:00-07:00</th>\n",
       "      <td>81.155</td>\n",
       "    </tr>\n",
       "    <tr>\n",
       "      <th>2019-06-04 10:00:00-07:00</th>\n",
       "      <td>85.010</td>\n",
       "    </tr>\n",
       "    <tr>\n",
       "      <th>2019-06-04 11:00:00-07:00</th>\n",
       "      <td>87.245</td>\n",
       "    </tr>\n",
       "    <tr>\n",
       "      <th>2019-06-04 12:00:00-07:00</th>\n",
       "      <td>90.365</td>\n",
       "    </tr>\n",
       "    <tr>\n",
       "      <th>2019-06-04 13:00:00-07:00</th>\n",
       "      <td>92.465</td>\n",
       "    </tr>\n",
       "    <tr>\n",
       "      <th>2019-06-04 14:00:00-07:00</th>\n",
       "      <td>94.505</td>\n",
       "    </tr>\n",
       "    <tr>\n",
       "      <th>2019-06-04 15:00:00-07:00</th>\n",
       "      <td>96.680</td>\n",
       "    </tr>\n",
       "    <tr>\n",
       "      <th>2019-06-04 16:00:00-07:00</th>\n",
       "      <td>103.385</td>\n",
       "    </tr>\n",
       "    <tr>\n",
       "      <th>2019-06-04 17:00:00-07:00</th>\n",
       "      <td>112.415</td>\n",
       "    </tr>\n",
       "    <tr>\n",
       "      <th>2019-06-04 18:00:00-07:00</th>\n",
       "      <td>108.380</td>\n",
       "    </tr>\n",
       "  </tbody>\n",
       "</table>\n",
       "</div>"
      ],
      "text/plain": [
       "                             Value\n",
       "Time                              \n",
       "2019-06-03 23:00:00-07:00   72.860\n",
       "2019-06-04 00:00:00-07:00   72.280\n",
       "2019-06-04 01:00:00-07:00   71.180\n",
       "2019-06-04 02:00:00-07:00   69.800\n",
       "2019-06-04 03:00:00-07:00   69.065\n",
       "2019-06-04 04:00:00-07:00   67.835\n",
       "2019-06-04 05:00:00-07:00   67.445\n",
       "2019-06-04 06:00:00-07:00   70.790\n",
       "2019-06-04 07:00:00-07:00   72.950\n",
       "2019-06-04 08:00:00-07:00   77.195\n",
       "2019-06-04 09:00:00-07:00   81.155\n",
       "2019-06-04 10:00:00-07:00   85.010\n",
       "2019-06-04 11:00:00-07:00   87.245\n",
       "2019-06-04 12:00:00-07:00   90.365\n",
       "2019-06-04 13:00:00-07:00   92.465\n",
       "2019-06-04 14:00:00-07:00   94.505\n",
       "2019-06-04 15:00:00-07:00   96.680\n",
       "2019-06-04 16:00:00-07:00  103.385\n",
       "2019-06-04 17:00:00-07:00  112.415\n",
       "2019-06-04 18:00:00-07:00  108.380"
      ]
     },
     "execution_count": 38,
     "metadata": {},
     "output_type": "execute_result"
    }
   ],
   "source": [
    "def daily_calculations1(df):\n",
    "    df = df.resample('H').mean()\n",
    "    df_list = [group[1] for group in df.groupby(df.index.day)]    # split month into days\n",
    "#     day_time = {'morning':[datetime.time(6),datetime.time(12)], 'afternoon':[datetime.time(12),datetime.time(18)], 'evening':[datetime.time(18),datetime.time(0)], 'night':[datetime.time(0),datetime.time(6)]}\n",
    "    output = {}\n",
    "    for i in df_list:\n",
    "        output[i.index.day[-1]] = \n",
    "\n",
    "        [[i.between_time(day_time['morning'][0], day_time['morning'][1]).mean(), \n",
    "                                  i.between_time(day_time['afternoon'][0], day_time['afternoon'][1]).mean(),\n",
    "                                 i.between_time(day_time['evening'][0], day_time['evening'][1]).mean(),\n",
    "                                 i.between_time(day_time['night'][0], day_time['night'][1]).mean()],\n",
    "                                 [i.between_time(day_time['morning'][0], day_time['morning'][1]).std(), \n",
    "                                  i.between_time(day_time['afternoon'][0], day_time['afternoon'][1]).std(),\n",
    "                                 i.between_time(day_time['evening'][0], day_time['evening'][1]).std(),\n",
    "                                 i.between_time(day_time['night'][0], day_time['night'][1]).std()]]\n",
    "    return output\n",
    "test = df_t.resample('H').mean()\n",
    "test.head(20)"
   ]
  },
  {
   "cell_type": "code",
   "execution_count": 101,
   "metadata": {},
   "outputs": [
    {
     "data": {
      "text/plain": [
       "2"
      ]
     },
     "execution_count": 101,
     "metadata": {},
     "output_type": "execute_result"
    }
   ],
   "source": [
    "a = [[[0,1,2,3,4],[5,6,7,8,9],[10,11,12,13,14]],[['a','b','c','d'],['e','f','g','h']]]\n",
    "len(a)"
   ]
  },
  {
   "cell_type": "code",
   "execution_count": 107,
   "metadata": {},
   "outputs": [
    {
     "ename": "IndexError",
     "evalue": "list index out of range",
     "output_type": "error",
     "traceback": [
      "\u001b[0;31m---------------------------------------------------------------------------\u001b[0m",
      "\u001b[0;31mIndexError\u001b[0m                                Traceback (most recent call last)",
      "\u001b[0;32m<ipython-input-107-d5e50e30aae7>\u001b[0m in \u001b[0;36m<module>\u001b[0;34m\u001b[0m\n\u001b[0;32m----> 1\u001b[0;31m \u001b[0mlen\u001b[0m\u001b[0;34m(\u001b[0m\u001b[0ma\u001b[0m\u001b[0;34m[\u001b[0m\u001b[0;36m0\u001b[0m\u001b[0;34m]\u001b[0m\u001b[0;34m[\u001b[0m\u001b[0;36m3\u001b[0m\u001b[0;34m]\u001b[0m\u001b[0;34m)\u001b[0m\u001b[0;34m\u001b[0m\u001b[0;34m\u001b[0m\u001b[0m\n\u001b[0m",
      "\u001b[0;31mIndexError\u001b[0m: list index out of range"
     ]
    }
   ],
   "source": [
    "len(a[0][])"
   ]
  },
  {
   "cell_type": "code",
   "execution_count": 112,
   "metadata": {},
   "outputs": [
    {
     "data": {
      "text/plain": [
       "[['a', 'b', 'c', 'd'], ['e', 'f', 'g', 'h']]"
      ]
     },
     "execution_count": 112,
     "metadata": {},
     "output_type": "execute_result"
    }
   ],
   "source": [
    "a[:][1]"
   ]
  },
  {
   "cell_type": "code",
   "execution_count": 113,
   "metadata": {},
   "outputs": [
    {
     "data": {
      "text/plain": [
       "32.34"
      ]
     },
     "execution_count": 113,
     "metadata": {},
     "output_type": "execute_result"
    }
   ],
   "source": [
    "58.8*0.55\n"
   ]
  },
  {
   "cell_type": "code",
   "execution_count": 114,
   "metadata": {},
   "outputs": [
    {
     "data": {
      "text/plain": [
       "-6.920000000000002"
      ]
     },
     "execution_count": 114,
     "metadata": {},
     "output_type": "execute_result"
    }
   ],
   "source": [
    "34-(0.55-0.055*40)*(34-58.8)"
   ]
  },
  {
   "cell_type": "code",
   "execution_count": null,
   "metadata": {},
   "outputs": [],
   "source": []
  }
 ],
 "metadata": {
  "kernelspec": {
   "display_name": "Python 3",
   "language": "python",
   "name": "python3"
  },
  "language_info": {
   "codemirror_mode": {
    "name": "ipython",
    "version": 3
   },
   "file_extension": ".py",
   "mimetype": "text/x-python",
   "name": "python",
   "nbconvert_exporter": "python",
   "pygments_lexer": "ipython3",
   "version": "3.8.2"
  }
 },
 "nbformat": 4,
 "nbformat_minor": 4
}
